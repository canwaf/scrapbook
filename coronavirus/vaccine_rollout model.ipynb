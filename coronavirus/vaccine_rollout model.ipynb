{
 "metadata": {
  "orig_nbformat": 2,
  "kernelspec": {
   "name": "python3",
   "display_name": "Python 3",
   "language": "python"
  }
 },
 "nbformat": 4,
 "nbformat_minor": 2,
 "cells": [
  {
   "source": [
    "# Notebook Description\n",
    "This notebook is built using Jupyter notebook, running in a docker container from https://github.com/canwaf/lachesis. The sole purpose is to visualise the UK's COVID-19 vaccine rollout.\n",
    "\n",
    "## License\n",
    "This notebook is provided under license of the parent repo, the data accessed and visualised is under OLG v3.0. https://www.nationalarchives.gov.uk/doc/open-government-licence/version/3/"
   ],
   "cell_type": "markdown",
   "metadata": {}
  },
  {
   "cell_type": "code",
   "execution_count": 1,
   "metadata": {},
   "outputs": [],
   "source": [
    "import pandas as pd\n",
    "import matplotlib.pyplot as plt\n",
    "from matplotlib.ticker import FuncFormatter\n",
    "from matplotlib.dates import DateFormatter\n",
    "import matplotlib.patches as mpatches\n",
    "from matplotlib import gridspec\n",
    "import numpy as np\n",
    "import seaborn as sns\n",
    "import json\n",
    "import requests"
   ]
  },
  {
   "cell_type": "code",
   "execution_count": 2,
   "metadata": {},
   "outputs": [],
   "source": [
    "from cachecontrol import CacheControl\n",
    "from cachecontrol.caches.file_cache import FileCache\n",
    "from cachecontrol.heuristics import ExpiresAfter"
   ]
  },
  {
   "source": [
    "# Population Information\n",
    "First we collect the population tables for the countries of the United Kingdom by age, and shape it accordingly. [UK's population estimates (mid-year)](https://www.ons.gov.uk/peoplepopulationandcommunity/populationandmigration/populationestimates/bulletins/annualmidyearpopulationestimates/mid2019estimates) are from the ONS and licensed under [Open Government License v3.0](https://www.nationalarchives.gov.uk/doc/open-government-licence/version/3/)."
   ],
   "cell_type": "markdown",
   "metadata": {}
  },
  {
   "cell_type": "code",
   "execution_count": 3,
   "metadata": {},
   "outputs": [],
   "source": [
    "# Object manages the session\n",
    "sess = requests.session()\n",
    "cached_sess = CacheControl(sess, cache=FileCache('.cache'), heuristic=ExpiresAfter(weeks=12))"
   ]
  },
  {
   "cell_type": "code",
   "execution_count": 4,
   "metadata": {},
   "outputs": [],
   "source": [
    "# UK Population estimates (mid-year) by age\n",
    "url = 'https://www.ons.gov.uk/visualisations/dvc845/poppyramids/pyramids/datadownload.xlsx'\n",
    "response = cached_sess.get(url)\n",
    "data = pd.ExcelFile(response.content)\n",
    "pop = data.parse('2019', skiprows=[0])\n"
   ]
  },
  {
   "cell_type": "code",
   "execution_count": 5,
   "metadata": {},
   "outputs": [
    {
     "output_type": "execute_result",
     "data": {
      "text/plain": [
       "                                              variable   geogcode  \\\n",
       "0                                           Hartlepool  E06000001   \n",
       "1                                        Middlesbrough  E06000002   \n",
       "2                                 Redcar and Cleveland  E06000003   \n",
       "3                                     Stockton-on-Tees  E06000004   \n",
       "4                                           Darlington  E06000005   \n",
       "..                                                 ...        ...   \n",
       "425                                  ENGLAND AND WALES  K04000001   \n",
       "426                                      GREAT BRITAIN  K03000001   \n",
       "427                                     UNITED KINGDOM  K02000001   \n",
       "428                                                NaN        NaN   \n",
       "429  Source: Office for National Statistics, Nation...        NaN   \n",
       "\n",
       "                 geogname    m_19_0    m_19_1    m_19_2    m_19_3    m_19_4  \\\n",
       "0              Hartlepool     515.0     532.0     515.0     583.0     533.0   \n",
       "1           Middlesbrough     954.0     962.0    1010.0    1003.0    1009.0   \n",
       "2    Redcar and Cleveland     670.0     692.0     762.0     725.0     754.0   \n",
       "3        Stockton-on-Tees    1089.0    1093.0    1183.0    1228.0    1292.0   \n",
       "4              Darlington     582.0     585.0     542.0     632.0     629.0   \n",
       "..                    ...       ...       ...       ...       ...       ...   \n",
       "425     ENGLAND AND WALES  333765.0  347033.0  358209.0  369596.0  369309.0   \n",
       "426         GREAT BRITAIN  359903.0  374092.0  386254.0  398863.0  398782.0   \n",
       "427        UNITED KINGDOM  371576.0  386072.0  398693.0  411883.0  411576.0   \n",
       "428                   NaN       NaN       NaN       NaN       NaN       NaN   \n",
       "429                   NaN       NaN       NaN       NaN       NaN       NaN   \n",
       "\n",
       "       m_19_5    m_19_6  ...   f_19_82   f_19_83   f_19_84   f_19_85  \\\n",
       "0       577.0     600.0  ...     326.0     255.0     271.0     227.0   \n",
       "1      1034.0     999.0  ...     382.0     361.0     334.0     288.0   \n",
       "2       820.0     866.0  ...     525.0     442.0     405.0     362.0   \n",
       "3      1302.0    1340.0  ...     560.0     529.0     489.0     432.0   \n",
       "4       675.0     689.0  ...     361.0     343.0     327.0     253.0   \n",
       "..        ...       ...  ...       ...       ...       ...       ...   \n",
       "425  372325.0  380825.0  ...  171612.0  159775.0  147538.0  132916.0   \n",
       "426  402075.0  411028.0  ...  188277.0  175330.0  161761.0  145781.0   \n",
       "427  414890.0  423939.0  ...  193241.0  179876.0  165978.0  149501.0   \n",
       "428       NaN       NaN  ...       NaN       NaN       NaN       NaN   \n",
       "429       NaN       NaN  ...       NaN       NaN       NaN       NaN   \n",
       "\n",
       "      f_19_86   f_19_87   f_19_88   f_19_89   f_19_90     f_19_al  \n",
       "0       220.0     197.0     178.0     136.0     575.0     47830.0  \n",
       "1       286.0     219.0     218.0     186.0     662.0     71261.0  \n",
       "2       305.0     295.0     262.0     236.0     898.0     70571.0  \n",
       "3       407.0     391.0     360.0     295.0    1004.0     99755.0  \n",
       "4       263.0     226.0     190.0     170.0     719.0     54738.0  \n",
       "..        ...       ...       ...       ...       ...         ...  \n",
       "425  121951.0  113232.0  102766.0   90545.0  371864.0  30057331.0  \n",
       "426  133356.0  123849.0  111979.0   98392.0  402111.0  32857628.0  \n",
       "427  136897.0  126965.0  114758.0  100820.0  411765.0  33818578.0  \n",
       "428       NaN       NaN       NaN       NaN       NaN         NaN  \n",
       "429       NaN       NaN       NaN       NaN       NaN         NaN  \n",
       "\n",
       "[430 rows x 187 columns]"
      ],
      "text/html": "<div>\n<style scoped>\n    .dataframe tbody tr th:only-of-type {\n        vertical-align: middle;\n    }\n\n    .dataframe tbody tr th {\n        vertical-align: top;\n    }\n\n    .dataframe thead th {\n        text-align: right;\n    }\n</style>\n<table border=\"1\" class=\"dataframe\">\n  <thead>\n    <tr style=\"text-align: right;\">\n      <th></th>\n      <th>variable</th>\n      <th>geogcode</th>\n      <th>geogname</th>\n      <th>m_19_0</th>\n      <th>m_19_1</th>\n      <th>m_19_2</th>\n      <th>m_19_3</th>\n      <th>m_19_4</th>\n      <th>m_19_5</th>\n      <th>m_19_6</th>\n      <th>...</th>\n      <th>f_19_82</th>\n      <th>f_19_83</th>\n      <th>f_19_84</th>\n      <th>f_19_85</th>\n      <th>f_19_86</th>\n      <th>f_19_87</th>\n      <th>f_19_88</th>\n      <th>f_19_89</th>\n      <th>f_19_90</th>\n      <th>f_19_al</th>\n    </tr>\n  </thead>\n  <tbody>\n    <tr>\n      <th>0</th>\n      <td>Hartlepool</td>\n      <td>E06000001</td>\n      <td>Hartlepool</td>\n      <td>515.0</td>\n      <td>532.0</td>\n      <td>515.0</td>\n      <td>583.0</td>\n      <td>533.0</td>\n      <td>577.0</td>\n      <td>600.0</td>\n      <td>...</td>\n      <td>326.0</td>\n      <td>255.0</td>\n      <td>271.0</td>\n      <td>227.0</td>\n      <td>220.0</td>\n      <td>197.0</td>\n      <td>178.0</td>\n      <td>136.0</td>\n      <td>575.0</td>\n      <td>47830.0</td>\n    </tr>\n    <tr>\n      <th>1</th>\n      <td>Middlesbrough</td>\n      <td>E06000002</td>\n      <td>Middlesbrough</td>\n      <td>954.0</td>\n      <td>962.0</td>\n      <td>1010.0</td>\n      <td>1003.0</td>\n      <td>1009.0</td>\n      <td>1034.0</td>\n      <td>999.0</td>\n      <td>...</td>\n      <td>382.0</td>\n      <td>361.0</td>\n      <td>334.0</td>\n      <td>288.0</td>\n      <td>286.0</td>\n      <td>219.0</td>\n      <td>218.0</td>\n      <td>186.0</td>\n      <td>662.0</td>\n      <td>71261.0</td>\n    </tr>\n    <tr>\n      <th>2</th>\n      <td>Redcar and Cleveland</td>\n      <td>E06000003</td>\n      <td>Redcar and Cleveland</td>\n      <td>670.0</td>\n      <td>692.0</td>\n      <td>762.0</td>\n      <td>725.0</td>\n      <td>754.0</td>\n      <td>820.0</td>\n      <td>866.0</td>\n      <td>...</td>\n      <td>525.0</td>\n      <td>442.0</td>\n      <td>405.0</td>\n      <td>362.0</td>\n      <td>305.0</td>\n      <td>295.0</td>\n      <td>262.0</td>\n      <td>236.0</td>\n      <td>898.0</td>\n      <td>70571.0</td>\n    </tr>\n    <tr>\n      <th>3</th>\n      <td>Stockton-on-Tees</td>\n      <td>E06000004</td>\n      <td>Stockton-on-Tees</td>\n      <td>1089.0</td>\n      <td>1093.0</td>\n      <td>1183.0</td>\n      <td>1228.0</td>\n      <td>1292.0</td>\n      <td>1302.0</td>\n      <td>1340.0</td>\n      <td>...</td>\n      <td>560.0</td>\n      <td>529.0</td>\n      <td>489.0</td>\n      <td>432.0</td>\n      <td>407.0</td>\n      <td>391.0</td>\n      <td>360.0</td>\n      <td>295.0</td>\n      <td>1004.0</td>\n      <td>99755.0</td>\n    </tr>\n    <tr>\n      <th>4</th>\n      <td>Darlington</td>\n      <td>E06000005</td>\n      <td>Darlington</td>\n      <td>582.0</td>\n      <td>585.0</td>\n      <td>542.0</td>\n      <td>632.0</td>\n      <td>629.0</td>\n      <td>675.0</td>\n      <td>689.0</td>\n      <td>...</td>\n      <td>361.0</td>\n      <td>343.0</td>\n      <td>327.0</td>\n      <td>253.0</td>\n      <td>263.0</td>\n      <td>226.0</td>\n      <td>190.0</td>\n      <td>170.0</td>\n      <td>719.0</td>\n      <td>54738.0</td>\n    </tr>\n    <tr>\n      <th>...</th>\n      <td>...</td>\n      <td>...</td>\n      <td>...</td>\n      <td>...</td>\n      <td>...</td>\n      <td>...</td>\n      <td>...</td>\n      <td>...</td>\n      <td>...</td>\n      <td>...</td>\n      <td>...</td>\n      <td>...</td>\n      <td>...</td>\n      <td>...</td>\n      <td>...</td>\n      <td>...</td>\n      <td>...</td>\n      <td>...</td>\n      <td>...</td>\n      <td>...</td>\n      <td>...</td>\n    </tr>\n    <tr>\n      <th>425</th>\n      <td>ENGLAND AND WALES</td>\n      <td>K04000001</td>\n      <td>ENGLAND AND WALES</td>\n      <td>333765.0</td>\n      <td>347033.0</td>\n      <td>358209.0</td>\n      <td>369596.0</td>\n      <td>369309.0</td>\n      <td>372325.0</td>\n      <td>380825.0</td>\n      <td>...</td>\n      <td>171612.0</td>\n      <td>159775.0</td>\n      <td>147538.0</td>\n      <td>132916.0</td>\n      <td>121951.0</td>\n      <td>113232.0</td>\n      <td>102766.0</td>\n      <td>90545.0</td>\n      <td>371864.0</td>\n      <td>30057331.0</td>\n    </tr>\n    <tr>\n      <th>426</th>\n      <td>GREAT BRITAIN</td>\n      <td>K03000001</td>\n      <td>GREAT BRITAIN</td>\n      <td>359903.0</td>\n      <td>374092.0</td>\n      <td>386254.0</td>\n      <td>398863.0</td>\n      <td>398782.0</td>\n      <td>402075.0</td>\n      <td>411028.0</td>\n      <td>...</td>\n      <td>188277.0</td>\n      <td>175330.0</td>\n      <td>161761.0</td>\n      <td>145781.0</td>\n      <td>133356.0</td>\n      <td>123849.0</td>\n      <td>111979.0</td>\n      <td>98392.0</td>\n      <td>402111.0</td>\n      <td>32857628.0</td>\n    </tr>\n    <tr>\n      <th>427</th>\n      <td>UNITED KINGDOM</td>\n      <td>K02000001</td>\n      <td>UNITED KINGDOM</td>\n      <td>371576.0</td>\n      <td>386072.0</td>\n      <td>398693.0</td>\n      <td>411883.0</td>\n      <td>411576.0</td>\n      <td>414890.0</td>\n      <td>423939.0</td>\n      <td>...</td>\n      <td>193241.0</td>\n      <td>179876.0</td>\n      <td>165978.0</td>\n      <td>149501.0</td>\n      <td>136897.0</td>\n      <td>126965.0</td>\n      <td>114758.0</td>\n      <td>100820.0</td>\n      <td>411765.0</td>\n      <td>33818578.0</td>\n    </tr>\n    <tr>\n      <th>428</th>\n      <td>NaN</td>\n      <td>NaN</td>\n      <td>NaN</td>\n      <td>NaN</td>\n      <td>NaN</td>\n      <td>NaN</td>\n      <td>NaN</td>\n      <td>NaN</td>\n      <td>NaN</td>\n      <td>NaN</td>\n      <td>...</td>\n      <td>NaN</td>\n      <td>NaN</td>\n      <td>NaN</td>\n      <td>NaN</td>\n      <td>NaN</td>\n      <td>NaN</td>\n      <td>NaN</td>\n      <td>NaN</td>\n      <td>NaN</td>\n      <td>NaN</td>\n    </tr>\n    <tr>\n      <th>429</th>\n      <td>Source: Office for National Statistics, Nation...</td>\n      <td>NaN</td>\n      <td>NaN</td>\n      <td>NaN</td>\n      <td>NaN</td>\n      <td>NaN</td>\n      <td>NaN</td>\n      <td>NaN</td>\n      <td>NaN</td>\n      <td>NaN</td>\n      <td>...</td>\n      <td>NaN</td>\n      <td>NaN</td>\n      <td>NaN</td>\n      <td>NaN</td>\n      <td>NaN</td>\n      <td>NaN</td>\n      <td>NaN</td>\n      <td>NaN</td>\n      <td>NaN</td>\n      <td>NaN</td>\n    </tr>\n  </tbody>\n</table>\n<p>430 rows × 187 columns</p>\n</div>"
     },
     "metadata": {},
     "execution_count": 5
    }
   ],
   "source": [
    "pop"
   ]
  },
  {
   "source": [
    "## Fixing the population dataframe\n",
    "I can clear out the rows which aren't data at the bottom, and then combine the header columns as we're not interested in sex, only national populations and age groups\n",
    "### Header format\n",
    "The header format follows a pattern like `f_19_64` which accounts for females aged 64 at the mid-year 2019 estimate. As such, `sex (char(1)) underscore year of measure (char(2)) underscore age (char(2))`. As age 90 is greater than age 89, I assume age 90 includes all ages 90 and above."
   ],
   "cell_type": "markdown",
   "metadata": {}
  },
  {
   "cell_type": "code",
   "execution_count": 6,
   "metadata": {},
   "outputs": [],
   "source": [
    "# From above, we remove the last two rows as this does not contain data\n",
    "pop = pop[:-2]\n"
   ]
  },
  {
   "cell_type": "code",
   "execution_count": 7,
   "metadata": {},
   "outputs": [
    {
     "output_type": "stream",
     "name": "stderr",
     "text": [
      "<ipython-input-7-58aef569a439>:3: SettingWithCopyWarning: \nA value is trying to be set on a copy of a slice from a DataFrame.\nTry using .loc[row_indexer,col_indexer] = value instead\n\nSee the caveats in the documentation: https://pandas.pydata.org/pandas-docs/stable/user_guide/indexing.html#returning-a-view-versus-a-copy\n  pop['t_19_'+str(age)] = pop['f_19_'+str(age)] + pop['m_19_'+str(age)]\n/usr/local/lib/python3.9/site-packages/pandas/core/frame.py:4308: SettingWithCopyWarning: \nA value is trying to be set on a copy of a slice from a DataFrame\n\nSee the caveats in the documentation: https://pandas.pydata.org/pandas-docs/stable/user_guide/indexing.html#returning-a-view-versus-a-copy\n  return super().drop(\n"
     ]
    }
   ],
   "source": [
    "# Loop for all the age groups 0 through 90, create total column, drop male/female columns\n",
    "for age in range(0,91):\n",
    "    pop['t_19_'+str(age)] = pop['f_19_'+str(age)] + pop['m_19_'+str(age)]\n",
    "    pop.drop(labels=['f_19_'+str(age), 'm_19_'+str(age)], axis=1, inplace=True)\n",
    "\n"
   ]
  },
  {
   "cell_type": "code",
   "execution_count": 8,
   "metadata": {},
   "outputs": [
    {
     "output_type": "execute_result",
     "data": {
      "text/plain": [
       "               variable   geogcode              geogname  m_19_al  f_19_al  \\\n",
       "0            Hartlepool  E06000001            Hartlepool  45833.0  47830.0   \n",
       "1         Middlesbrough  E06000002         Middlesbrough  69719.0  71261.0   \n",
       "2  Redcar and Cleveland  E06000003  Redcar and Cleveland  66579.0  70571.0   \n",
       "3      Stockton-on-Tees  E06000004      Stockton-on-Tees  97593.0  99755.0   \n",
       "4            Darlington  E06000005            Darlington  52065.0  54738.0   \n",
       "\n",
       "   t_19_0  t_19_1  t_19_2  t_19_3  t_19_4  ...  t_19_81  t_19_82  t_19_83  \\\n",
       "0  1006.0  1009.0  1031.0  1125.0  1058.0  ...    598.0    544.0    461.0   \n",
       "1  1802.0  1944.0  1979.0  1886.0  1972.0  ...    769.0    675.0    627.0   \n",
       "2  1313.0  1372.0  1508.0  1421.0  1492.0  ...    956.0    919.0    787.0   \n",
       "3  2149.0  2131.0  2337.0  2366.0  2479.0  ...   1093.0    992.0    918.0   \n",
       "4  1100.0  1152.0  1112.0  1218.0  1208.0  ...    698.0    625.0    588.0   \n",
       "\n",
       "   t_19_84  t_19_85  t_19_86  t_19_87  t_19_88  t_19_89  t_19_90  \n",
       "0    462.0    384.0    373.0    317.0    252.0    230.0    830.0  \n",
       "1    574.0    484.0    476.0    347.0    374.0    279.0    925.0  \n",
       "2    705.0    603.0    531.0    487.0    423.0    393.0   1321.0  \n",
       "3    864.0    692.0    681.0    664.0    569.0    463.0   1491.0  \n",
       "4    572.0    449.0    447.0    379.0    304.0    263.0   1064.0  \n",
       "\n",
       "[5 rows x 96 columns]"
      ],
      "text/html": "<div>\n<style scoped>\n    .dataframe tbody tr th:only-of-type {\n        vertical-align: middle;\n    }\n\n    .dataframe tbody tr th {\n        vertical-align: top;\n    }\n\n    .dataframe thead th {\n        text-align: right;\n    }\n</style>\n<table border=\"1\" class=\"dataframe\">\n  <thead>\n    <tr style=\"text-align: right;\">\n      <th></th>\n      <th>variable</th>\n      <th>geogcode</th>\n      <th>geogname</th>\n      <th>m_19_al</th>\n      <th>f_19_al</th>\n      <th>t_19_0</th>\n      <th>t_19_1</th>\n      <th>t_19_2</th>\n      <th>t_19_3</th>\n      <th>t_19_4</th>\n      <th>...</th>\n      <th>t_19_81</th>\n      <th>t_19_82</th>\n      <th>t_19_83</th>\n      <th>t_19_84</th>\n      <th>t_19_85</th>\n      <th>t_19_86</th>\n      <th>t_19_87</th>\n      <th>t_19_88</th>\n      <th>t_19_89</th>\n      <th>t_19_90</th>\n    </tr>\n  </thead>\n  <tbody>\n    <tr>\n      <th>0</th>\n      <td>Hartlepool</td>\n      <td>E06000001</td>\n      <td>Hartlepool</td>\n      <td>45833.0</td>\n      <td>47830.0</td>\n      <td>1006.0</td>\n      <td>1009.0</td>\n      <td>1031.0</td>\n      <td>1125.0</td>\n      <td>1058.0</td>\n      <td>...</td>\n      <td>598.0</td>\n      <td>544.0</td>\n      <td>461.0</td>\n      <td>462.0</td>\n      <td>384.0</td>\n      <td>373.0</td>\n      <td>317.0</td>\n      <td>252.0</td>\n      <td>230.0</td>\n      <td>830.0</td>\n    </tr>\n    <tr>\n      <th>1</th>\n      <td>Middlesbrough</td>\n      <td>E06000002</td>\n      <td>Middlesbrough</td>\n      <td>69719.0</td>\n      <td>71261.0</td>\n      <td>1802.0</td>\n      <td>1944.0</td>\n      <td>1979.0</td>\n      <td>1886.0</td>\n      <td>1972.0</td>\n      <td>...</td>\n      <td>769.0</td>\n      <td>675.0</td>\n      <td>627.0</td>\n      <td>574.0</td>\n      <td>484.0</td>\n      <td>476.0</td>\n      <td>347.0</td>\n      <td>374.0</td>\n      <td>279.0</td>\n      <td>925.0</td>\n    </tr>\n    <tr>\n      <th>2</th>\n      <td>Redcar and Cleveland</td>\n      <td>E06000003</td>\n      <td>Redcar and Cleveland</td>\n      <td>66579.0</td>\n      <td>70571.0</td>\n      <td>1313.0</td>\n      <td>1372.0</td>\n      <td>1508.0</td>\n      <td>1421.0</td>\n      <td>1492.0</td>\n      <td>...</td>\n      <td>956.0</td>\n      <td>919.0</td>\n      <td>787.0</td>\n      <td>705.0</td>\n      <td>603.0</td>\n      <td>531.0</td>\n      <td>487.0</td>\n      <td>423.0</td>\n      <td>393.0</td>\n      <td>1321.0</td>\n    </tr>\n    <tr>\n      <th>3</th>\n      <td>Stockton-on-Tees</td>\n      <td>E06000004</td>\n      <td>Stockton-on-Tees</td>\n      <td>97593.0</td>\n      <td>99755.0</td>\n      <td>2149.0</td>\n      <td>2131.0</td>\n      <td>2337.0</td>\n      <td>2366.0</td>\n      <td>2479.0</td>\n      <td>...</td>\n      <td>1093.0</td>\n      <td>992.0</td>\n      <td>918.0</td>\n      <td>864.0</td>\n      <td>692.0</td>\n      <td>681.0</td>\n      <td>664.0</td>\n      <td>569.0</td>\n      <td>463.0</td>\n      <td>1491.0</td>\n    </tr>\n    <tr>\n      <th>4</th>\n      <td>Darlington</td>\n      <td>E06000005</td>\n      <td>Darlington</td>\n      <td>52065.0</td>\n      <td>54738.0</td>\n      <td>1100.0</td>\n      <td>1152.0</td>\n      <td>1112.0</td>\n      <td>1218.0</td>\n      <td>1208.0</td>\n      <td>...</td>\n      <td>698.0</td>\n      <td>625.0</td>\n      <td>588.0</td>\n      <td>572.0</td>\n      <td>449.0</td>\n      <td>447.0</td>\n      <td>379.0</td>\n      <td>304.0</td>\n      <td>263.0</td>\n      <td>1064.0</td>\n    </tr>\n  </tbody>\n</table>\n<p>5 rows × 96 columns</p>\n</div>"
     },
     "metadata": {},
     "execution_count": 8
    }
   ],
   "source": [
    "pop.head()"
   ]
  },
  {
   "source": [
    "## Definitions\n",
    "### Adult\n",
    "The definition of adult may vary according to vaccine. So we'll stick with the highest common value. This is 18 or older.\n",
    "\n",
    "#### Pfizer/BioNTech \n",
    "Not recommended for those younger than 16. [source](https://www.gov.uk/government/publications/regulatory-approval-of-pfizer-biontech-vaccine-for-covid-19/information-for-uk-recipients-on-pfizerbiontech-covid-19-vaccine)\n",
    "\n",
    "#### Astrazeneca\n",
    "Efficacy and safety not tested on those younger than 18. [source](https://www.gov.uk/government/publications/regulatory-approval-of-covid-19-vaccine-astrazeneca/information-for-healthcare-professionals-on-covid-19-vaccine-astrazeneca)\n",
    "\n",
    "#### Moderna\n",
    "Efficacy and safety not established on those younger than 18. [source](https://www.gov.uk/government/publications/regulatory-approval-of-covid-19-vaccine-moderna/information-for-healthcare-professionals-on-covid-19-vaccine-moderna)\n",
    "\n",
    "### Minor\n",
    "Not an adult. This is 17 or younger.\n"
   ],
   "cell_type": "markdown",
   "metadata": {}
  },
  {
   "cell_type": "code",
   "execution_count": 9,
   "metadata": {},
   "outputs": [],
   "source": [
    "# Use list comphrenesions to generate the column names we're going to be using\n",
    "minors_colnms = ['t_19_'+str(age) for age in range(0,18)]\n",
    "adults_colnms = ['t_19_'+str(age) for age in range(18,91)]"
   ]
  },
  {
   "cell_type": "code",
   "execution_count": 10,
   "metadata": {},
   "outputs": [
    {
     "output_type": "stream",
     "name": "stderr",
     "text": [
      "<ipython-input-10-3e1aa85d9d82>:2: SettingWithCopyWarning: \nA value is trying to be set on a copy of a slice from a DataFrame.\nTry using .loc[row_indexer,col_indexer] = value instead\n\nSee the caveats in the documentation: https://pandas.pydata.org/pandas-docs/stable/user_guide/indexing.html#returning-a-view-versus-a-copy\n  pop['t_19_minors'] = pop[minors_colnms].sum(axis=1).astype(int)\n<ipython-input-10-3e1aa85d9d82>:3: SettingWithCopyWarning: \nA value is trying to be set on a copy of a slice from a DataFrame.\nTry using .loc[row_indexer,col_indexer] = value instead\n\nSee the caveats in the documentation: https://pandas.pydata.org/pandas-docs/stable/user_guide/indexing.html#returning-a-view-versus-a-copy\n  pop['t_19_adults'] = pop[adults_colnms].sum(axis=1).astype(int)\n"
     ]
    }
   ],
   "source": [
    "# Aggregate on both these columns, convert to integers\n",
    "pop['t_19_minors'] = pop[minors_colnms].sum(axis=1).astype(int)\n",
    "pop['t_19_adults'] = pop[adults_colnms].sum(axis=1).astype(int)"
   ]
  },
  {
   "source": [
    "# Vaccinations\n",
    "Using the data from the Coronavirus dashboard at https://coronavirus.data.gov.uk, which is licensed under the [Open Government License v3.0](https://www.nationalarchives.gov.uk/doc/open-government-licence/version/3/)."
   ],
   "cell_type": "markdown",
   "metadata": {}
  },
  {
   "cell_type": "code",
   "execution_count": 11,
   "metadata": {},
   "outputs": [],
   "source": [
    "rename = {'newPeopleVaccinatedSecondDoseByPublishDate': 'newSecondDose',\n",
    "          'newPeopleVaccinatedFirstDoseByPublishDate': 'newFirstDose',\n",
    "          'cumPeopleVaccinatedFirstDoseByPublishDate': 'cumFirstDose',\n",
    "          'cumPeopleVaccinatedSecondDoseByPublishDate': 'cumSecondDose',\n",
    "          'weeklyPeopleVaccinatedFirstDoseByVaccinationDate': 'newFirstDose',\n",
    "          'weeklyPeopleVaccinatedSecondDoseByVaccinationDate': 'newSecondDose',\n",
    "          'cumPeopleVaccinatedFirstDoseByVaccinationDate': 'cumFirstDose',\n",
    "          'cumPeopleVaccinatedSecondDoseByVaccinationDate': 'cumSecondDose',\n",
    "          't_19_adults': 'popMid2019adults'}"
   ]
  },
  {
   "source": [
    "## For weekly vaccinations by nation"
   ],
   "cell_type": "markdown",
   "metadata": {}
  },
  {
   "cell_type": "code",
   "execution_count": 12,
   "metadata": {},
   "outputs": [
    {
     "output_type": "execute_result",
     "data": {
      "text/plain": [
       "  areaType areaName   areaCode       date  \\\n",
       "0   nation  England  E92000001 2021-02-28   \n",
       "1   nation  England  E92000001 2021-02-21   \n",
       "2   nation  England  E92000001 2021-02-14   \n",
       "3   nation  England  E92000001 2021-02-07   \n",
       "4   nation  England  E92000001 2021-01-31   \n",
       "\n",
       "   weeklyPeopleVaccinatedFirstDoseByVaccinationDate  \\\n",
       "0                                           2219150   \n",
       "1                                           2050373   \n",
       "2                                           2309588   \n",
       "3                                           2406601   \n",
       "4                                           2204262   \n",
       "\n",
       "   cumPeopleVaccinatedFirstDoseByVaccinationDate  \\\n",
       "0                                       17179491   \n",
       "1                                       14960341   \n",
       "2                                       12909968   \n",
       "3                                       10600380   \n",
       "4                                        8193779   \n",
       "\n",
       "   weeklyPeopleVaccinatedSecondDoseByVaccinationDate  \\\n",
       "0                                              85034   \n",
       "1                                              22559   \n",
       "2                                              18170   \n",
       "3                                               9319   \n",
       "4                                               8615   \n",
       "\n",
       "   cumPeopleVaccinatedSecondDoseByVaccinationDate  \n",
       "0                                          598345  \n",
       "1                                          513311  \n",
       "2                                          490752  \n",
       "3                                          472582  \n",
       "4                                          463263  "
      ],
      "text/html": "<div>\n<style scoped>\n    .dataframe tbody tr th:only-of-type {\n        vertical-align: middle;\n    }\n\n    .dataframe tbody tr th {\n        vertical-align: top;\n    }\n\n    .dataframe thead th {\n        text-align: right;\n    }\n</style>\n<table border=\"1\" class=\"dataframe\">\n  <thead>\n    <tr style=\"text-align: right;\">\n      <th></th>\n      <th>areaType</th>\n      <th>areaName</th>\n      <th>areaCode</th>\n      <th>date</th>\n      <th>weeklyPeopleVaccinatedFirstDoseByVaccinationDate</th>\n      <th>cumPeopleVaccinatedFirstDoseByVaccinationDate</th>\n      <th>weeklyPeopleVaccinatedSecondDoseByVaccinationDate</th>\n      <th>cumPeopleVaccinatedSecondDoseByVaccinationDate</th>\n    </tr>\n  </thead>\n  <tbody>\n    <tr>\n      <th>0</th>\n      <td>nation</td>\n      <td>England</td>\n      <td>E92000001</td>\n      <td>2021-02-28</td>\n      <td>2219150</td>\n      <td>17179491</td>\n      <td>85034</td>\n      <td>598345</td>\n    </tr>\n    <tr>\n      <th>1</th>\n      <td>nation</td>\n      <td>England</td>\n      <td>E92000001</td>\n      <td>2021-02-21</td>\n      <td>2050373</td>\n      <td>14960341</td>\n      <td>22559</td>\n      <td>513311</td>\n    </tr>\n    <tr>\n      <th>2</th>\n      <td>nation</td>\n      <td>England</td>\n      <td>E92000001</td>\n      <td>2021-02-14</td>\n      <td>2309588</td>\n      <td>12909968</td>\n      <td>18170</td>\n      <td>490752</td>\n    </tr>\n    <tr>\n      <th>3</th>\n      <td>nation</td>\n      <td>England</td>\n      <td>E92000001</td>\n      <td>2021-02-07</td>\n      <td>2406601</td>\n      <td>10600380</td>\n      <td>9319</td>\n      <td>472582</td>\n    </tr>\n    <tr>\n      <th>4</th>\n      <td>nation</td>\n      <td>England</td>\n      <td>E92000001</td>\n      <td>2021-01-31</td>\n      <td>2204262</td>\n      <td>8193779</td>\n      <td>8615</td>\n      <td>463263</td>\n    </tr>\n  </tbody>\n</table>\n</div>"
     },
     "metadata": {},
     "execution_count": 12
    }
   ],
   "source": [
    "# Coronavirus dashboard vaccination data\n",
    "# https://coronavirus.data.gov.uk/details/healthcare#card-people_who_have_received_vaccinations_by_nation\n",
    "json = requests.get('https://coronavirus.data.gov.uk/api/v1/data?filters=areaType=nation&structure=%7B%22areaType%22:%22areaType%22,%22areaName%22:%22areaName%22,%22areaCode%22:%22areaCode%22,%22date%22:%22date%22,%22weeklyPeopleVaccinatedFirstDoseByVaccinationDate%22:%22weeklyPeopleVaccinatedFirstDoseByVaccinationDate%22,%22cumPeopleVaccinatedFirstDoseByVaccinationDate%22:%22cumPeopleVaccinatedFirstDoseByVaccinationDate%22,%22weeklyPeopleVaccinatedSecondDoseByVaccinationDate%22:%22weeklyPeopleVaccinatedSecondDoseByVaccinationDate%22,%22cumPeopleVaccinatedSecondDoseByVaccinationDate%22:%22cumPeopleVaccinatedSecondDoseByVaccinationDate%22%7D&format=json').json()\n",
    "weekvac = pd.DataFrame(json['data'])\n",
    "weekvac['date'] = pd.to_datetime(weekvac['date'], format='%Y-%m-%d') # Format date column\n",
    "weekvac.head()"
   ]
  },
  {
   "cell_type": "code",
   "execution_count": 13,
   "metadata": {},
   "outputs": [
    {
     "output_type": "execute_result",
     "data": {
      "text/plain": [
       "  areaName   areaCode       date  newFirstDose  cumFirstDose  newSecondDose  \\\n",
       "0  England  E92000001 2021-02-28       2219150      17179491          85034   \n",
       "1  England  E92000001 2021-02-21       2050373      14960341          22559   \n",
       "2  England  E92000001 2021-02-14       2309588      12909968          18170   \n",
       "3  England  E92000001 2021-02-07       2406601      10600380           9319   \n",
       "4  England  E92000001 2021-01-31       2204262       8193779           8615   \n",
       "\n",
       "   cumSecondDose  popMid2019adults  Marker Period  \n",
       "0         598345          44263393  Actual   Week  \n",
       "1         513311          44263393  Actual   Week  \n",
       "2         490752          44263393  Actual   Week  \n",
       "3         472582          44263393  Actual   Week  \n",
       "4         463263          44263393  Actual   Week  "
      ],
      "text/html": "<div>\n<style scoped>\n    .dataframe tbody tr th:only-of-type {\n        vertical-align: middle;\n    }\n\n    .dataframe tbody tr th {\n        vertical-align: top;\n    }\n\n    .dataframe thead th {\n        text-align: right;\n    }\n</style>\n<table border=\"1\" class=\"dataframe\">\n  <thead>\n    <tr style=\"text-align: right;\">\n      <th></th>\n      <th>areaName</th>\n      <th>areaCode</th>\n      <th>date</th>\n      <th>newFirstDose</th>\n      <th>cumFirstDose</th>\n      <th>newSecondDose</th>\n      <th>cumSecondDose</th>\n      <th>popMid2019adults</th>\n      <th>Marker</th>\n      <th>Period</th>\n    </tr>\n  </thead>\n  <tbody>\n    <tr>\n      <th>0</th>\n      <td>England</td>\n      <td>E92000001</td>\n      <td>2021-02-28</td>\n      <td>2219150</td>\n      <td>17179491</td>\n      <td>85034</td>\n      <td>598345</td>\n      <td>44263393</td>\n      <td>Actual</td>\n      <td>Week</td>\n    </tr>\n    <tr>\n      <th>1</th>\n      <td>England</td>\n      <td>E92000001</td>\n      <td>2021-02-21</td>\n      <td>2050373</td>\n      <td>14960341</td>\n      <td>22559</td>\n      <td>513311</td>\n      <td>44263393</td>\n      <td>Actual</td>\n      <td>Week</td>\n    </tr>\n    <tr>\n      <th>2</th>\n      <td>England</td>\n      <td>E92000001</td>\n      <td>2021-02-14</td>\n      <td>2309588</td>\n      <td>12909968</td>\n      <td>18170</td>\n      <td>490752</td>\n      <td>44263393</td>\n      <td>Actual</td>\n      <td>Week</td>\n    </tr>\n    <tr>\n      <th>3</th>\n      <td>England</td>\n      <td>E92000001</td>\n      <td>2021-02-07</td>\n      <td>2406601</td>\n      <td>10600380</td>\n      <td>9319</td>\n      <td>472582</td>\n      <td>44263393</td>\n      <td>Actual</td>\n      <td>Week</td>\n    </tr>\n    <tr>\n      <th>4</th>\n      <td>England</td>\n      <td>E92000001</td>\n      <td>2021-01-31</td>\n      <td>2204262</td>\n      <td>8193779</td>\n      <td>8615</td>\n      <td>463263</td>\n      <td>44263393</td>\n      <td>Actual</td>\n      <td>Week</td>\n    </tr>\n  </tbody>\n</table>\n</div>"
     },
     "metadata": {},
     "execution_count": 13
    }
   ],
   "source": [
    "# Bring in population data and drop duplicate column\n",
    "weekdf = weekvac.merge(pop[['t_19_adults', 'geogcode']], how='inner', left_on='areaCode', right_on='geogcode')\n",
    "weekdf.drop(['geogcode','areaType'], axis=1, inplace=True)\n",
    "# Rename population value\n",
    "weekdf = weekdf.rename(rename, axis=1)\n",
    "# Labelling actuals\n",
    "weekdf['Marker'], weekdf['Period'] = 'Actual', 'Week'\n",
    "weekdf.head()"
   ]
  },
  {
   "source": [
    "## For daily vaccinations by nation\n",
    "What we're going to do is to download it, crop out anything which takes place before the latest weekly information, and append it to the dataframe, tweak the area charts' time axis and labels, to show more detail.\n"
   ],
   "cell_type": "markdown",
   "metadata": {}
  },
  {
   "cell_type": "code",
   "execution_count": 14,
   "metadata": {},
   "outputs": [
    {
     "output_type": "execute_result",
     "data": {
      "text/plain": [
       "  areaType areaName   areaCode       date  \\\n",
       "0   nation  England  E92000001 2021-03-12   \n",
       "1   nation  England  E92000001 2021-03-11   \n",
       "2   nation  England  E92000001 2021-03-10   \n",
       "3   nation  England  E92000001 2021-03-09   \n",
       "4   nation  England  E92000001 2021-03-08   \n",
       "\n",
       "   newPeopleVaccinatedFirstDoseByPublishDate  \\\n",
       "0                                   312716.0   \n",
       "1                                   211393.0   \n",
       "2                                   206720.0   \n",
       "3                                   181127.0   \n",
       "4                                   183736.0   \n",
       "\n",
       "   newPeopleVaccinatedSecondDoseByPublishDate  \\\n",
       "0                                     67514.0   \n",
       "1                                     69680.0   \n",
       "2                                     70960.0   \n",
       "3                                     47151.0   \n",
       "4                                     23800.0   \n",
       "\n",
       "   cumPeopleVaccinatedFirstDoseByPublishDate  \\\n",
       "0                                   20111189   \n",
       "1                                   19798473   \n",
       "2                                   19587080   \n",
       "3                                   19380360   \n",
       "4                                   19199233   \n",
       "\n",
       "   cumPeopleVaccinatedSecondDoseByPublishDate  \n",
       "0                                     1076426  \n",
       "1                                     1008912  \n",
       "2                                      939232  \n",
       "3                                      868272  \n",
       "4                                      821121  "
      ],
      "text/html": "<div>\n<style scoped>\n    .dataframe tbody tr th:only-of-type {\n        vertical-align: middle;\n    }\n\n    .dataframe tbody tr th {\n        vertical-align: top;\n    }\n\n    .dataframe thead th {\n        text-align: right;\n    }\n</style>\n<table border=\"1\" class=\"dataframe\">\n  <thead>\n    <tr style=\"text-align: right;\">\n      <th></th>\n      <th>areaType</th>\n      <th>areaName</th>\n      <th>areaCode</th>\n      <th>date</th>\n      <th>newPeopleVaccinatedFirstDoseByPublishDate</th>\n      <th>newPeopleVaccinatedSecondDoseByPublishDate</th>\n      <th>cumPeopleVaccinatedFirstDoseByPublishDate</th>\n      <th>cumPeopleVaccinatedSecondDoseByPublishDate</th>\n    </tr>\n  </thead>\n  <tbody>\n    <tr>\n      <th>0</th>\n      <td>nation</td>\n      <td>England</td>\n      <td>E92000001</td>\n      <td>2021-03-12</td>\n      <td>312716.0</td>\n      <td>67514.0</td>\n      <td>20111189</td>\n      <td>1076426</td>\n    </tr>\n    <tr>\n      <th>1</th>\n      <td>nation</td>\n      <td>England</td>\n      <td>E92000001</td>\n      <td>2021-03-11</td>\n      <td>211393.0</td>\n      <td>69680.0</td>\n      <td>19798473</td>\n      <td>1008912</td>\n    </tr>\n    <tr>\n      <th>2</th>\n      <td>nation</td>\n      <td>England</td>\n      <td>E92000001</td>\n      <td>2021-03-10</td>\n      <td>206720.0</td>\n      <td>70960.0</td>\n      <td>19587080</td>\n      <td>939232</td>\n    </tr>\n    <tr>\n      <th>3</th>\n      <td>nation</td>\n      <td>England</td>\n      <td>E92000001</td>\n      <td>2021-03-09</td>\n      <td>181127.0</td>\n      <td>47151.0</td>\n      <td>19380360</td>\n      <td>868272</td>\n    </tr>\n    <tr>\n      <th>4</th>\n      <td>nation</td>\n      <td>England</td>\n      <td>E92000001</td>\n      <td>2021-03-08</td>\n      <td>183736.0</td>\n      <td>23800.0</td>\n      <td>19199233</td>\n      <td>821121</td>\n    </tr>\n  </tbody>\n</table>\n</div>"
     },
     "metadata": {},
     "execution_count": 14
    }
   ],
   "source": [
    "# Coronavirus daily dashboard vaccination data\n",
    "# https://coronavirus.data.gov.uk/details/healthcare#card-people_who_have_received_vaccinations_by_nation\n",
    "json = requests.get('https://coronavirus.data.gov.uk/api/v1/data?filters=areaType=nation&structure=%7B%22areaType%22:%22areaType%22,%22areaName%22:%22areaName%22,%22areaCode%22:%22areaCode%22,%22date%22:%22date%22,%22newPeopleVaccinatedFirstDoseByPublishDate%22:%22newPeopleVaccinatedFirstDoseByPublishDate%22,%22newPeopleVaccinatedSecondDoseByPublishDate%22:%22newPeopleVaccinatedSecondDoseByPublishDate%22,%22cumPeopleVaccinatedFirstDoseByPublishDate%22:%22cumPeopleVaccinatedFirstDoseByPublishDate%22,%22cumPeopleVaccinatedSecondDoseByPublishDate%22:%22cumPeopleVaccinatedSecondDoseByPublishDate%22%7D&format=json').json()\n",
    "dayvac = pd.DataFrame(json['data'])\n",
    "dayvac['date'] = pd.to_datetime(dayvac['date'], format='%Y-%m-%d') # Format date column\n",
    "dayvac.head()\n"
   ]
  },
  {
   "cell_type": "code",
   "execution_count": 15,
   "metadata": {},
   "outputs": [
    {
     "output_type": "execute_result",
     "data": {
      "text/plain": [
       "  areaName   areaCode       date  newFirstDose  newSecondDose  cumFirstDose  \\\n",
       "0  England  E92000001 2021-03-12      312716.0        67514.0      20111189   \n",
       "1  England  E92000001 2021-03-11      211393.0        69680.0      19798473   \n",
       "2  England  E92000001 2021-03-10      206720.0        70960.0      19587080   \n",
       "3  England  E92000001 2021-03-09      181127.0        47151.0      19380360   \n",
       "4  England  E92000001 2021-03-08      183736.0        23800.0      19199233   \n",
       "\n",
       "   cumSecondDose  popMid2019adults  Marker Period  \n",
       "0        1076426          44263393  Actual    Day  \n",
       "1        1008912          44263393  Actual    Day  \n",
       "2         939232          44263393  Actual    Day  \n",
       "3         868272          44263393  Actual    Day  \n",
       "4         821121          44263393  Actual    Day  "
      ],
      "text/html": "<div>\n<style scoped>\n    .dataframe tbody tr th:only-of-type {\n        vertical-align: middle;\n    }\n\n    .dataframe tbody tr th {\n        vertical-align: top;\n    }\n\n    .dataframe thead th {\n        text-align: right;\n    }\n</style>\n<table border=\"1\" class=\"dataframe\">\n  <thead>\n    <tr style=\"text-align: right;\">\n      <th></th>\n      <th>areaName</th>\n      <th>areaCode</th>\n      <th>date</th>\n      <th>newFirstDose</th>\n      <th>newSecondDose</th>\n      <th>cumFirstDose</th>\n      <th>cumSecondDose</th>\n      <th>popMid2019adults</th>\n      <th>Marker</th>\n      <th>Period</th>\n    </tr>\n  </thead>\n  <tbody>\n    <tr>\n      <th>0</th>\n      <td>England</td>\n      <td>E92000001</td>\n      <td>2021-03-12</td>\n      <td>312716.0</td>\n      <td>67514.0</td>\n      <td>20111189</td>\n      <td>1076426</td>\n      <td>44263393</td>\n      <td>Actual</td>\n      <td>Day</td>\n    </tr>\n    <tr>\n      <th>1</th>\n      <td>England</td>\n      <td>E92000001</td>\n      <td>2021-03-11</td>\n      <td>211393.0</td>\n      <td>69680.0</td>\n      <td>19798473</td>\n      <td>1008912</td>\n      <td>44263393</td>\n      <td>Actual</td>\n      <td>Day</td>\n    </tr>\n    <tr>\n      <th>2</th>\n      <td>England</td>\n      <td>E92000001</td>\n      <td>2021-03-10</td>\n      <td>206720.0</td>\n      <td>70960.0</td>\n      <td>19587080</td>\n      <td>939232</td>\n      <td>44263393</td>\n      <td>Actual</td>\n      <td>Day</td>\n    </tr>\n    <tr>\n      <th>3</th>\n      <td>England</td>\n      <td>E92000001</td>\n      <td>2021-03-09</td>\n      <td>181127.0</td>\n      <td>47151.0</td>\n      <td>19380360</td>\n      <td>868272</td>\n      <td>44263393</td>\n      <td>Actual</td>\n      <td>Day</td>\n    </tr>\n    <tr>\n      <th>4</th>\n      <td>England</td>\n      <td>E92000001</td>\n      <td>2021-03-08</td>\n      <td>183736.0</td>\n      <td>23800.0</td>\n      <td>19199233</td>\n      <td>821121</td>\n      <td>44263393</td>\n      <td>Actual</td>\n      <td>Day</td>\n    </tr>\n  </tbody>\n</table>\n</div>"
     },
     "metadata": {},
     "execution_count": 15
    }
   ],
   "source": [
    "# Bring in population data and drop duplicate column\n",
    "daydf = dayvac.merge(pop[['t_19_adults', 'geogcode']], how='inner', left_on='areaCode', right_on='geogcode')\n",
    "daydf.drop(['geogcode','areaType'], axis=1, inplace=True)\n",
    "daydf = daydf.rename(rename, axis=1)\n",
    "# Labelling actuals\n",
    "daydf['Marker'], daydf['Period'] = 'Actual', 'Day'\n",
    "daydf.head()"
   ]
  },
  {
   "cell_type": "code",
   "execution_count": 16,
   "metadata": {},
   "outputs": [
    {
     "output_type": "execute_result",
     "data": {
      "text/plain": [
       "(Index(['areaName', 'areaCode', 'date', 'newFirstDose', 'newSecondDose',\n",
       "        'cumFirstDose', 'cumSecondDose', 'popMid2019adults', 'Marker',\n",
       "        'Period'],\n",
       "       dtype='object'),\n",
       " Index(['areaName', 'areaCode', 'date', 'newFirstDose', 'cumFirstDose',\n",
       "        'newSecondDose', 'cumSecondDose', 'popMid2019adults', 'Marker',\n",
       "        'Period'],\n",
       "       dtype='object'))"
      ]
     },
     "metadata": {},
     "execution_count": 16
    }
   ],
   "source": [
    "daydf.columns, weekdf.columns"
   ]
  },
  {
   "cell_type": "code",
   "execution_count": 17,
   "metadata": {},
   "outputs": [],
   "source": [
    "combineddf =pd.concat([daydf, weekdf])"
   ]
  },
  {
   "cell_type": "code",
   "execution_count": 18,
   "metadata": {},
   "outputs": [
    {
     "output_type": "execute_result",
     "data": {
      "text/plain": [
       "  areaName   areaCode       date  newFirstDose  newSecondDose  cumFirstDose  \\\n",
       "0  England  E92000001 2021-03-12      312716.0        67514.0      20111189   \n",
       "1  England  E92000001 2021-03-11      211393.0        69680.0      19798473   \n",
       "2  England  E92000001 2021-03-10      206720.0        70960.0      19587080   \n",
       "3  England  E92000001 2021-03-09      181127.0        47151.0      19380360   \n",
       "4  England  E92000001 2021-03-08      183736.0        23800.0      19199233   \n",
       "\n",
       "   cumSecondDose  popMid2019adults  Marker Period  \n",
       "0        1076426          44263393  Actual    Day  \n",
       "1        1008912          44263393  Actual    Day  \n",
       "2         939232          44263393  Actual    Day  \n",
       "3         868272          44263393  Actual    Day  \n",
       "4         821121          44263393  Actual    Day  "
      ],
      "text/html": "<div>\n<style scoped>\n    .dataframe tbody tr th:only-of-type {\n        vertical-align: middle;\n    }\n\n    .dataframe tbody tr th {\n        vertical-align: top;\n    }\n\n    .dataframe thead th {\n        text-align: right;\n    }\n</style>\n<table border=\"1\" class=\"dataframe\">\n  <thead>\n    <tr style=\"text-align: right;\">\n      <th></th>\n      <th>areaName</th>\n      <th>areaCode</th>\n      <th>date</th>\n      <th>newFirstDose</th>\n      <th>newSecondDose</th>\n      <th>cumFirstDose</th>\n      <th>cumSecondDose</th>\n      <th>popMid2019adults</th>\n      <th>Marker</th>\n      <th>Period</th>\n    </tr>\n  </thead>\n  <tbody>\n    <tr>\n      <th>0</th>\n      <td>England</td>\n      <td>E92000001</td>\n      <td>2021-03-12</td>\n      <td>312716.0</td>\n      <td>67514.0</td>\n      <td>20111189</td>\n      <td>1076426</td>\n      <td>44263393</td>\n      <td>Actual</td>\n      <td>Day</td>\n    </tr>\n    <tr>\n      <th>1</th>\n      <td>England</td>\n      <td>E92000001</td>\n      <td>2021-03-11</td>\n      <td>211393.0</td>\n      <td>69680.0</td>\n      <td>19798473</td>\n      <td>1008912</td>\n      <td>44263393</td>\n      <td>Actual</td>\n      <td>Day</td>\n    </tr>\n    <tr>\n      <th>2</th>\n      <td>England</td>\n      <td>E92000001</td>\n      <td>2021-03-10</td>\n      <td>206720.0</td>\n      <td>70960.0</td>\n      <td>19587080</td>\n      <td>939232</td>\n      <td>44263393</td>\n      <td>Actual</td>\n      <td>Day</td>\n    </tr>\n    <tr>\n      <th>3</th>\n      <td>England</td>\n      <td>E92000001</td>\n      <td>2021-03-09</td>\n      <td>181127.0</td>\n      <td>47151.0</td>\n      <td>19380360</td>\n      <td>868272</td>\n      <td>44263393</td>\n      <td>Actual</td>\n      <td>Day</td>\n    </tr>\n    <tr>\n      <th>4</th>\n      <td>England</td>\n      <td>E92000001</td>\n      <td>2021-03-08</td>\n      <td>183736.0</td>\n      <td>23800.0</td>\n      <td>19199233</td>\n      <td>821121</td>\n      <td>44263393</td>\n      <td>Actual</td>\n      <td>Day</td>\n    </tr>\n  </tbody>\n</table>\n</div>"
     },
     "metadata": {},
     "execution_count": 18
    }
   ],
   "source": [
    "combineddf.head()"
   ]
  },
  {
   "source": [
    "# Model"
   ],
   "cell_type": "markdown",
   "metadata": {}
  },
  {
   "cell_type": "code",
   "execution_count": 19,
   "metadata": {},
   "outputs": [],
   "source": [
    "# Calculate the daynumbers Monday = 0, ..., Sunday = 6\n",
    "combineddf['day'] = combineddf[\"date\"].apply(lambda x: x.weekday())"
   ]
  },
  {
   "cell_type": "code",
   "execution_count": 20,
   "metadata": {},
   "outputs": [],
   "source": [
    "combineddf['newDose'] = combineddf['newFirstDose'] + combineddf['newSecondDose']"
   ]
  },
  {
   "cell_type": "code",
   "execution_count": 21,
   "metadata": {},
   "outputs": [
    {
     "output_type": "execute_result",
     "data": {
      "text/plain": [
       "   areaName   areaCode       date  newFirstDose  newSecondDose  cumFirstDose  \\\n",
       "0   England  E92000001 2021-03-12      312716.0        67514.0      20111189   \n",
       "1   England  E92000001 2021-03-11      211393.0        69680.0      19798473   \n",
       "2   England  E92000001 2021-03-10      206720.0        70960.0      19587080   \n",
       "3   England  E92000001 2021-03-09      181127.0        47151.0      19380360   \n",
       "4   England  E92000001 2021-03-08      183736.0        23800.0      19199233   \n",
       "..      ...        ...        ...           ...            ...           ...   \n",
       "43    Wales  W92000004 2021-01-10       41726.0           83.0         92482   \n",
       "44    Wales  W92000004 2021-01-03       14205.0           27.0         50756   \n",
       "45    Wales  W92000004 2020-12-27       12495.0            0.0         36551   \n",
       "46    Wales  W92000004 2020-12-20       15799.0            0.0         24056   \n",
       "47    Wales  W92000004 2020-12-13        8257.0            0.0          8257   \n",
       "\n",
       "    cumSecondDose  popMid2019adults  Marker Period  day   newDose  \n",
       "0         1076426          44263393  Actual    Day    4  380230.0  \n",
       "1         1008912          44263393  Actual    Day    3  281073.0  \n",
       "2          939232          44263393  Actual    Day    2  277680.0  \n",
       "3          868272          44263393  Actual    Day    1  228278.0  \n",
       "4          821121          44263393  Actual    Day    0  207536.0  \n",
       "..            ...               ...     ...    ...  ...       ...  \n",
       "43            110           2522940  Actual   Week    6   41809.0  \n",
       "44             27           2522940  Actual   Week    6   14232.0  \n",
       "45              0           2522940  Actual   Week    6   12495.0  \n",
       "46              0           2522940  Actual   Week    6   15799.0  \n",
       "47              0           2522940  Actual   Week    6    8257.0  \n",
       "\n",
       "[296 rows x 12 columns]"
      ],
      "text/html": "<div>\n<style scoped>\n    .dataframe tbody tr th:only-of-type {\n        vertical-align: middle;\n    }\n\n    .dataframe tbody tr th {\n        vertical-align: top;\n    }\n\n    .dataframe thead th {\n        text-align: right;\n    }\n</style>\n<table border=\"1\" class=\"dataframe\">\n  <thead>\n    <tr style=\"text-align: right;\">\n      <th></th>\n      <th>areaName</th>\n      <th>areaCode</th>\n      <th>date</th>\n      <th>newFirstDose</th>\n      <th>newSecondDose</th>\n      <th>cumFirstDose</th>\n      <th>cumSecondDose</th>\n      <th>popMid2019adults</th>\n      <th>Marker</th>\n      <th>Period</th>\n      <th>day</th>\n      <th>newDose</th>\n    </tr>\n  </thead>\n  <tbody>\n    <tr>\n      <th>0</th>\n      <td>England</td>\n      <td>E92000001</td>\n      <td>2021-03-12</td>\n      <td>312716.0</td>\n      <td>67514.0</td>\n      <td>20111189</td>\n      <td>1076426</td>\n      <td>44263393</td>\n      <td>Actual</td>\n      <td>Day</td>\n      <td>4</td>\n      <td>380230.0</td>\n    </tr>\n    <tr>\n      <th>1</th>\n      <td>England</td>\n      <td>E92000001</td>\n      <td>2021-03-11</td>\n      <td>211393.0</td>\n      <td>69680.0</td>\n      <td>19798473</td>\n      <td>1008912</td>\n      <td>44263393</td>\n      <td>Actual</td>\n      <td>Day</td>\n      <td>3</td>\n      <td>281073.0</td>\n    </tr>\n    <tr>\n      <th>2</th>\n      <td>England</td>\n      <td>E92000001</td>\n      <td>2021-03-10</td>\n      <td>206720.0</td>\n      <td>70960.0</td>\n      <td>19587080</td>\n      <td>939232</td>\n      <td>44263393</td>\n      <td>Actual</td>\n      <td>Day</td>\n      <td>2</td>\n      <td>277680.0</td>\n    </tr>\n    <tr>\n      <th>3</th>\n      <td>England</td>\n      <td>E92000001</td>\n      <td>2021-03-09</td>\n      <td>181127.0</td>\n      <td>47151.0</td>\n      <td>19380360</td>\n      <td>868272</td>\n      <td>44263393</td>\n      <td>Actual</td>\n      <td>Day</td>\n      <td>1</td>\n      <td>228278.0</td>\n    </tr>\n    <tr>\n      <th>4</th>\n      <td>England</td>\n      <td>E92000001</td>\n      <td>2021-03-08</td>\n      <td>183736.0</td>\n      <td>23800.0</td>\n      <td>19199233</td>\n      <td>821121</td>\n      <td>44263393</td>\n      <td>Actual</td>\n      <td>Day</td>\n      <td>0</td>\n      <td>207536.0</td>\n    </tr>\n    <tr>\n      <th>...</th>\n      <td>...</td>\n      <td>...</td>\n      <td>...</td>\n      <td>...</td>\n      <td>...</td>\n      <td>...</td>\n      <td>...</td>\n      <td>...</td>\n      <td>...</td>\n      <td>...</td>\n      <td>...</td>\n      <td>...</td>\n    </tr>\n    <tr>\n      <th>43</th>\n      <td>Wales</td>\n      <td>W92000004</td>\n      <td>2021-01-10</td>\n      <td>41726.0</td>\n      <td>83.0</td>\n      <td>92482</td>\n      <td>110</td>\n      <td>2522940</td>\n      <td>Actual</td>\n      <td>Week</td>\n      <td>6</td>\n      <td>41809.0</td>\n    </tr>\n    <tr>\n      <th>44</th>\n      <td>Wales</td>\n      <td>W92000004</td>\n      <td>2021-01-03</td>\n      <td>14205.0</td>\n      <td>27.0</td>\n      <td>50756</td>\n      <td>27</td>\n      <td>2522940</td>\n      <td>Actual</td>\n      <td>Week</td>\n      <td>6</td>\n      <td>14232.0</td>\n    </tr>\n    <tr>\n      <th>45</th>\n      <td>Wales</td>\n      <td>W92000004</td>\n      <td>2020-12-27</td>\n      <td>12495.0</td>\n      <td>0.0</td>\n      <td>36551</td>\n      <td>0</td>\n      <td>2522940</td>\n      <td>Actual</td>\n      <td>Week</td>\n      <td>6</td>\n      <td>12495.0</td>\n    </tr>\n    <tr>\n      <th>46</th>\n      <td>Wales</td>\n      <td>W92000004</td>\n      <td>2020-12-20</td>\n      <td>15799.0</td>\n      <td>0.0</td>\n      <td>24056</td>\n      <td>0</td>\n      <td>2522940</td>\n      <td>Actual</td>\n      <td>Week</td>\n      <td>6</td>\n      <td>15799.0</td>\n    </tr>\n    <tr>\n      <th>47</th>\n      <td>Wales</td>\n      <td>W92000004</td>\n      <td>2020-12-13</td>\n      <td>8257.0</td>\n      <td>0.0</td>\n      <td>8257</td>\n      <td>0</td>\n      <td>2522940</td>\n      <td>Actual</td>\n      <td>Week</td>\n      <td>6</td>\n      <td>8257.0</td>\n    </tr>\n  </tbody>\n</table>\n<p>296 rows × 12 columns</p>\n</div>"
     },
     "metadata": {},
     "execution_count": 21
    }
   ],
   "source": [
    "combineddf"
   ]
  },
  {
   "cell_type": "code",
   "execution_count": 44,
   "metadata": {},
   "outputs": [],
   "source": [
    "import numpy as np\n",
    "from statsmodels.tsa.seasonal import seasonal_decompose\n",
    "import matplotlib.pyplot as plt"
   ]
  },
  {
   "cell_type": "code",
   "execution_count": 24,
   "metadata": {},
   "outputs": [],
   "source": [
    "df = combineddf.copy()"
   ]
  },
  {
   "cell_type": "code",
   "execution_count": 25,
   "metadata": {},
   "outputs": [
    {
     "output_type": "execute_result",
     "data": {
      "text/plain": [
       "  areaName   areaCode       date  newFirstDose  newSecondDose  cumFirstDose  \\\n",
       "0  England  E92000001 2021-03-12      312716.0        67514.0      20111189   \n",
       "1  England  E92000001 2021-03-11      211393.0        69680.0      19798473   \n",
       "2  England  E92000001 2021-03-10      206720.0        70960.0      19587080   \n",
       "3  England  E92000001 2021-03-09      181127.0        47151.0      19380360   \n",
       "4  England  E92000001 2021-03-08      183736.0        23800.0      19199233   \n",
       "\n",
       "   cumSecondDose  popMid2019adults  Marker Period  day   newDose  \n",
       "0        1076426          44263393  Actual    Day    4  380230.0  \n",
       "1        1008912          44263393  Actual    Day    3  281073.0  \n",
       "2         939232          44263393  Actual    Day    2  277680.0  \n",
       "3         868272          44263393  Actual    Day    1  228278.0  \n",
       "4         821121          44263393  Actual    Day    0  207536.0  "
      ],
      "text/html": "<div>\n<style scoped>\n    .dataframe tbody tr th:only-of-type {\n        vertical-align: middle;\n    }\n\n    .dataframe tbody tr th {\n        vertical-align: top;\n    }\n\n    .dataframe thead th {\n        text-align: right;\n    }\n</style>\n<table border=\"1\" class=\"dataframe\">\n  <thead>\n    <tr style=\"text-align: right;\">\n      <th></th>\n      <th>areaName</th>\n      <th>areaCode</th>\n      <th>date</th>\n      <th>newFirstDose</th>\n      <th>newSecondDose</th>\n      <th>cumFirstDose</th>\n      <th>cumSecondDose</th>\n      <th>popMid2019adults</th>\n      <th>Marker</th>\n      <th>Period</th>\n      <th>day</th>\n      <th>newDose</th>\n    </tr>\n  </thead>\n  <tbody>\n    <tr>\n      <th>0</th>\n      <td>England</td>\n      <td>E92000001</td>\n      <td>2021-03-12</td>\n      <td>312716.0</td>\n      <td>67514.0</td>\n      <td>20111189</td>\n      <td>1076426</td>\n      <td>44263393</td>\n      <td>Actual</td>\n      <td>Day</td>\n      <td>4</td>\n      <td>380230.0</td>\n    </tr>\n    <tr>\n      <th>1</th>\n      <td>England</td>\n      <td>E92000001</td>\n      <td>2021-03-11</td>\n      <td>211393.0</td>\n      <td>69680.0</td>\n      <td>19798473</td>\n      <td>1008912</td>\n      <td>44263393</td>\n      <td>Actual</td>\n      <td>Day</td>\n      <td>3</td>\n      <td>281073.0</td>\n    </tr>\n    <tr>\n      <th>2</th>\n      <td>England</td>\n      <td>E92000001</td>\n      <td>2021-03-10</td>\n      <td>206720.0</td>\n      <td>70960.0</td>\n      <td>19587080</td>\n      <td>939232</td>\n      <td>44263393</td>\n      <td>Actual</td>\n      <td>Day</td>\n      <td>2</td>\n      <td>277680.0</td>\n    </tr>\n    <tr>\n      <th>3</th>\n      <td>England</td>\n      <td>E92000001</td>\n      <td>2021-03-09</td>\n      <td>181127.0</td>\n      <td>47151.0</td>\n      <td>19380360</td>\n      <td>868272</td>\n      <td>44263393</td>\n      <td>Actual</td>\n      <td>Day</td>\n      <td>1</td>\n      <td>228278.0</td>\n    </tr>\n    <tr>\n      <th>4</th>\n      <td>England</td>\n      <td>E92000001</td>\n      <td>2021-03-08</td>\n      <td>183736.0</td>\n      <td>23800.0</td>\n      <td>19199233</td>\n      <td>821121</td>\n      <td>44263393</td>\n      <td>Actual</td>\n      <td>Day</td>\n      <td>0</td>\n      <td>207536.0</td>\n    </tr>\n  </tbody>\n</table>\n</div>"
     },
     "metadata": {},
     "execution_count": 25
    }
   ],
   "source": [
    "df.head()"
   ]
  },
  {
   "cell_type": "code",
   "execution_count": 36,
   "metadata": {},
   "outputs": [],
   "source": []
  },
  {
   "cell_type": "code",
   "execution_count": 58,
   "metadata": {},
   "outputs": [],
   "source": []
  },
  {
   "cell_type": "code",
   "execution_count": 93,
   "metadata": {},
   "outputs": [],
   "source": [
    "# For England\n",
    "england = df.loc[(df['areaName'] == 'England') & (df['Period'] == 'Day'), ['date', 'newDose']].set_index('date').dropna()\n",
    "eng_result = seasonal_decompose(np.array(england), model='multiplactive', period=7)"
   ]
  },
  {
   "cell_type": "code",
   "execution_count": 94,
   "metadata": {},
   "outputs": [],
   "source": [
    "# For Scotland\n",
    "scotland = df.loc[(df['areaName'] == 'Scotland') & (df['Period'] == 'Day'), ['date', 'newDose']].set_index('date').dropna()\n",
    "sco_result = seasonal_decompose(np.array(scotland), model='multiplactive', period=7)"
   ]
  },
  {
   "cell_type": "code",
   "execution_count": 95,
   "metadata": {},
   "outputs": [],
   "source": [
    "# For Wales\n",
    "wales = df.loc[(df['areaName'] == 'Wales') & (df['Period'] == 'Day'), ['date', 'newDose']].set_index('date').dropna()\n",
    "wal_result = seasonal_decompose(np.array(scotland), model='multiplactive', period=7)"
   ]
  },
  {
   "cell_type": "code",
   "execution_count": 98,
   "metadata": {},
   "outputs": [],
   "source": [
    "# For Northern Ireland\n",
    "nie = df.loc[(df['areaName'] == 'Northern Ireland') & (df['Period'] == 'Day'), ['date', 'newDose']].set_index('date').dropna()\n",
    "nie_result = seasonal_decompose(np.array(scotland), model='multiplactive', period=7)"
   ]
  },
  {
   "cell_type": "code",
   "execution_count": 127,
   "metadata": {},
   "outputs": [],
   "source": [
    "# England seasonality \n",
    "seasonality = pd.DataFrame([eng_result.seasonal[0:7], sco_result.seasonal[0:7], wal_result.seasonal[0:7], nie_result.seasonal[0:7], (1, 2, 3, 4, 5, 6, 0)]).T.set_index(4)\n",
    "seasonality.rename({0: 'England', 1: 'Scotland', 2: 'Wales', 3: 'N. Ireland'}, axis=1, inplace=True)\n",
    "seasonality.index = seasonality.index.astype(int)\n",
    "seasonality.index.name = 'Weekday'\n",
    "seasonality.sort_index(inplace=True)\n",
    "seasonality.to_csv('test.csv')"
   ]
  },
  {
   "cell_type": "code",
   "execution_count": 110,
   "metadata": {},
   "outputs": [
    {
     "output_type": "error",
     "ename": "TypeError",
     "evalue": "float() argument must be a string or a number, not 'DecomposeResult'",
     "traceback": [
      "\u001b[0;31m---------------------------------------------------------------------------\u001b[0m",
      "\u001b[0;31mTypeError\u001b[0m                                 Traceback (most recent call last)",
      "\u001b[0;32m<ipython-input-110-cb29380fb083>\u001b[0m in \u001b[0;36m<module>\u001b[0;34m\u001b[0m\n\u001b[1;32m     13\u001b[0m \u001b[0ma3\u001b[0m \u001b[0;34m=\u001b[0m \u001b[0mplt\u001b[0m\u001b[0;34m.\u001b[0m\u001b[0msubplot\u001b[0m\u001b[0;34m(\u001b[0m\u001b[0mgs\u001b[0m\u001b[0;34m[\u001b[0m\u001b[0;36m3\u001b[0m\u001b[0;34m]\u001b[0m\u001b[0;34m)\u001b[0m\u001b[0;34m\u001b[0m\u001b[0;34m\u001b[0m\u001b[0m\n\u001b[1;32m     14\u001b[0m \u001b[0;34m\u001b[0m\u001b[0m\n\u001b[0;32m---> 15\u001b[0;31m \u001b[0ma0\u001b[0m\u001b[0;34m.\u001b[0m\u001b[0mplot\u001b[0m\u001b[0;34m(\u001b[0m\u001b[0meng_result\u001b[0m\u001b[0;34m)\u001b[0m\u001b[0;34m\u001b[0m\u001b[0;34m\u001b[0m\u001b[0m\n\u001b[0m\u001b[1;32m     16\u001b[0m \u001b[0;34m\u001b[0m\u001b[0m\n\u001b[1;32m     17\u001b[0m \u001b[0mfig_title\u001b[0m \u001b[0;34m=\u001b[0m \u001b[0;34mf\"United Kingdom's Vaccination Progress to {shape_first_day.index.max().strftime('%a %d %b %Y')}\"\u001b[0m\u001b[0;34m\u001b[0m\u001b[0;34m\u001b[0m\u001b[0m\n",
      "\u001b[0;32m/usr/local/lib/python3.9/site-packages/matplotlib/axes/_axes.py\u001b[0m in \u001b[0;36mplot\u001b[0;34m(self, scalex, scaley, data, *args, **kwargs)\u001b[0m\n\u001b[1;32m   1743\u001b[0m         \u001b[0mlines\u001b[0m \u001b[0;34m=\u001b[0m \u001b[0;34m[\u001b[0m\u001b[0;34m*\u001b[0m\u001b[0mself\u001b[0m\u001b[0;34m.\u001b[0m\u001b[0m_get_lines\u001b[0m\u001b[0;34m(\u001b[0m\u001b[0;34m*\u001b[0m\u001b[0margs\u001b[0m\u001b[0;34m,\u001b[0m \u001b[0mdata\u001b[0m\u001b[0;34m=\u001b[0m\u001b[0mdata\u001b[0m\u001b[0;34m,\u001b[0m \u001b[0;34m**\u001b[0m\u001b[0mkwargs\u001b[0m\u001b[0;34m)\u001b[0m\u001b[0;34m]\u001b[0m\u001b[0;34m\u001b[0m\u001b[0;34m\u001b[0m\u001b[0m\n\u001b[1;32m   1744\u001b[0m         \u001b[0;32mfor\u001b[0m \u001b[0mline\u001b[0m \u001b[0;32min\u001b[0m \u001b[0mlines\u001b[0m\u001b[0;34m:\u001b[0m\u001b[0;34m\u001b[0m\u001b[0;34m\u001b[0m\u001b[0m\n\u001b[0;32m-> 1745\u001b[0;31m             \u001b[0mself\u001b[0m\u001b[0;34m.\u001b[0m\u001b[0madd_line\u001b[0m\u001b[0;34m(\u001b[0m\u001b[0mline\u001b[0m\u001b[0;34m)\u001b[0m\u001b[0;34m\u001b[0m\u001b[0;34m\u001b[0m\u001b[0m\n\u001b[0m\u001b[1;32m   1746\u001b[0m         \u001b[0mself\u001b[0m\u001b[0;34m.\u001b[0m\u001b[0m_request_autoscale_view\u001b[0m\u001b[0;34m(\u001b[0m\u001b[0mscalex\u001b[0m\u001b[0;34m=\u001b[0m\u001b[0mscalex\u001b[0m\u001b[0;34m,\u001b[0m \u001b[0mscaley\u001b[0m\u001b[0;34m=\u001b[0m\u001b[0mscaley\u001b[0m\u001b[0;34m)\u001b[0m\u001b[0;34m\u001b[0m\u001b[0;34m\u001b[0m\u001b[0m\n\u001b[1;32m   1747\u001b[0m         \u001b[0;32mreturn\u001b[0m \u001b[0mlines\u001b[0m\u001b[0;34m\u001b[0m\u001b[0;34m\u001b[0m\u001b[0m\n",
      "\u001b[0;32m/usr/local/lib/python3.9/site-packages/matplotlib/axes/_base.py\u001b[0m in \u001b[0;36madd_line\u001b[0;34m(self, line)\u001b[0m\n\u001b[1;32m   1962\u001b[0m             \u001b[0mline\u001b[0m\u001b[0;34m.\u001b[0m\u001b[0mset_clip_path\u001b[0m\u001b[0;34m(\u001b[0m\u001b[0mself\u001b[0m\u001b[0;34m.\u001b[0m\u001b[0mpatch\u001b[0m\u001b[0;34m)\u001b[0m\u001b[0;34m\u001b[0m\u001b[0;34m\u001b[0m\u001b[0m\n\u001b[1;32m   1963\u001b[0m \u001b[0;34m\u001b[0m\u001b[0m\n\u001b[0;32m-> 1964\u001b[0;31m         \u001b[0mself\u001b[0m\u001b[0;34m.\u001b[0m\u001b[0m_update_line_limits\u001b[0m\u001b[0;34m(\u001b[0m\u001b[0mline\u001b[0m\u001b[0;34m)\u001b[0m\u001b[0;34m\u001b[0m\u001b[0;34m\u001b[0m\u001b[0m\n\u001b[0m\u001b[1;32m   1965\u001b[0m         \u001b[0;32mif\u001b[0m \u001b[0;32mnot\u001b[0m \u001b[0mline\u001b[0m\u001b[0;34m.\u001b[0m\u001b[0mget_label\u001b[0m\u001b[0;34m(\u001b[0m\u001b[0;34m)\u001b[0m\u001b[0;34m:\u001b[0m\u001b[0;34m\u001b[0m\u001b[0;34m\u001b[0m\u001b[0m\n\u001b[1;32m   1966\u001b[0m             \u001b[0mline\u001b[0m\u001b[0;34m.\u001b[0m\u001b[0mset_label\u001b[0m\u001b[0;34m(\u001b[0m\u001b[0;34m'_line%d'\u001b[0m \u001b[0;34m%\u001b[0m \u001b[0mlen\u001b[0m\u001b[0;34m(\u001b[0m\u001b[0mself\u001b[0m\u001b[0;34m.\u001b[0m\u001b[0mlines\u001b[0m\u001b[0;34m)\u001b[0m\u001b[0;34m)\u001b[0m\u001b[0;34m\u001b[0m\u001b[0;34m\u001b[0m\u001b[0m\n",
      "\u001b[0;32m/usr/local/lib/python3.9/site-packages/matplotlib/axes/_base.py\u001b[0m in \u001b[0;36m_update_line_limits\u001b[0;34m(self, line)\u001b[0m\n\u001b[1;32m   1984\u001b[0m         \u001b[0mFigures\u001b[0m \u001b[0mout\u001b[0m \u001b[0mthe\u001b[0m \u001b[0mdata\u001b[0m \u001b[0mlimit\u001b[0m \u001b[0mof\u001b[0m \u001b[0mthe\u001b[0m \u001b[0mgiven\u001b[0m \u001b[0mline\u001b[0m\u001b[0;34m,\u001b[0m \u001b[0mupdating\u001b[0m \u001b[0mself\u001b[0m\u001b[0;34m.\u001b[0m\u001b[0mdataLim\u001b[0m\u001b[0;34m.\u001b[0m\u001b[0;34m\u001b[0m\u001b[0;34m\u001b[0m\u001b[0m\n\u001b[1;32m   1985\u001b[0m         \"\"\"\n\u001b[0;32m-> 1986\u001b[0;31m         \u001b[0mpath\u001b[0m \u001b[0;34m=\u001b[0m \u001b[0mline\u001b[0m\u001b[0;34m.\u001b[0m\u001b[0mget_path\u001b[0m\u001b[0;34m(\u001b[0m\u001b[0;34m)\u001b[0m\u001b[0;34m\u001b[0m\u001b[0;34m\u001b[0m\u001b[0m\n\u001b[0m\u001b[1;32m   1987\u001b[0m         \u001b[0;32mif\u001b[0m \u001b[0mpath\u001b[0m\u001b[0;34m.\u001b[0m\u001b[0mvertices\u001b[0m\u001b[0;34m.\u001b[0m\u001b[0msize\u001b[0m \u001b[0;34m==\u001b[0m \u001b[0;36m0\u001b[0m\u001b[0;34m:\u001b[0m\u001b[0;34m\u001b[0m\u001b[0;34m\u001b[0m\u001b[0m\n\u001b[1;32m   1988\u001b[0m             \u001b[0;32mreturn\u001b[0m\u001b[0;34m\u001b[0m\u001b[0;34m\u001b[0m\u001b[0m\n",
      "\u001b[0;32m/usr/local/lib/python3.9/site-packages/matplotlib/lines.py\u001b[0m in \u001b[0;36mget_path\u001b[0;34m(self)\u001b[0m\n\u001b[1;32m   1009\u001b[0m         \"\"\"\n\u001b[1;32m   1010\u001b[0m         \u001b[0;32mif\u001b[0m \u001b[0mself\u001b[0m\u001b[0;34m.\u001b[0m\u001b[0m_invalidy\u001b[0m \u001b[0;32mor\u001b[0m \u001b[0mself\u001b[0m\u001b[0;34m.\u001b[0m\u001b[0m_invalidx\u001b[0m\u001b[0;34m:\u001b[0m\u001b[0;34m\u001b[0m\u001b[0;34m\u001b[0m\u001b[0m\n\u001b[0;32m-> 1011\u001b[0;31m             \u001b[0mself\u001b[0m\u001b[0;34m.\u001b[0m\u001b[0mrecache\u001b[0m\u001b[0;34m(\u001b[0m\u001b[0;34m)\u001b[0m\u001b[0;34m\u001b[0m\u001b[0;34m\u001b[0m\u001b[0m\n\u001b[0m\u001b[1;32m   1012\u001b[0m         \u001b[0;32mreturn\u001b[0m \u001b[0mself\u001b[0m\u001b[0;34m.\u001b[0m\u001b[0m_path\u001b[0m\u001b[0;34m\u001b[0m\u001b[0;34m\u001b[0m\u001b[0m\n\u001b[1;32m   1013\u001b[0m \u001b[0;34m\u001b[0m\u001b[0m\n",
      "\u001b[0;32m/usr/local/lib/python3.9/site-packages/matplotlib/lines.py\u001b[0m in \u001b[0;36mrecache\u001b[0;34m(self, always)\u001b[0m\n\u001b[1;32m    656\u001b[0m         \u001b[0;32mif\u001b[0m \u001b[0malways\u001b[0m \u001b[0;32mor\u001b[0m \u001b[0mself\u001b[0m\u001b[0;34m.\u001b[0m\u001b[0m_invalidy\u001b[0m\u001b[0;34m:\u001b[0m\u001b[0;34m\u001b[0m\u001b[0;34m\u001b[0m\u001b[0m\n\u001b[1;32m    657\u001b[0m             \u001b[0myconv\u001b[0m \u001b[0;34m=\u001b[0m \u001b[0mself\u001b[0m\u001b[0;34m.\u001b[0m\u001b[0mconvert_yunits\u001b[0m\u001b[0;34m(\u001b[0m\u001b[0mself\u001b[0m\u001b[0;34m.\u001b[0m\u001b[0m_yorig\u001b[0m\u001b[0;34m)\u001b[0m\u001b[0;34m\u001b[0m\u001b[0;34m\u001b[0m\u001b[0m\n\u001b[0;32m--> 658\u001b[0;31m             \u001b[0my\u001b[0m \u001b[0;34m=\u001b[0m \u001b[0m_to_unmasked_float_array\u001b[0m\u001b[0;34m(\u001b[0m\u001b[0myconv\u001b[0m\u001b[0;34m)\u001b[0m\u001b[0;34m.\u001b[0m\u001b[0mravel\u001b[0m\u001b[0;34m(\u001b[0m\u001b[0;34m)\u001b[0m\u001b[0;34m\u001b[0m\u001b[0;34m\u001b[0m\u001b[0m\n\u001b[0m\u001b[1;32m    659\u001b[0m         \u001b[0;32melse\u001b[0m\u001b[0;34m:\u001b[0m\u001b[0;34m\u001b[0m\u001b[0;34m\u001b[0m\u001b[0m\n\u001b[1;32m    660\u001b[0m             \u001b[0my\u001b[0m \u001b[0;34m=\u001b[0m \u001b[0mself\u001b[0m\u001b[0;34m.\u001b[0m\u001b[0m_y\u001b[0m\u001b[0;34m\u001b[0m\u001b[0;34m\u001b[0m\u001b[0m\n",
      "\u001b[0;32m/usr/local/lib/python3.9/site-packages/matplotlib/cbook/__init__.py\u001b[0m in \u001b[0;36m_to_unmasked_float_array\u001b[0;34m(x)\u001b[0m\n\u001b[1;32m   1287\u001b[0m         \u001b[0;32mreturn\u001b[0m \u001b[0mnp\u001b[0m\u001b[0;34m.\u001b[0m\u001b[0mma\u001b[0m\u001b[0;34m.\u001b[0m\u001b[0masarray\u001b[0m\u001b[0;34m(\u001b[0m\u001b[0mx\u001b[0m\u001b[0;34m,\u001b[0m \u001b[0mfloat\u001b[0m\u001b[0;34m)\u001b[0m\u001b[0;34m.\u001b[0m\u001b[0mfilled\u001b[0m\u001b[0;34m(\u001b[0m\u001b[0mnp\u001b[0m\u001b[0;34m.\u001b[0m\u001b[0mnan\u001b[0m\u001b[0;34m)\u001b[0m\u001b[0;34m\u001b[0m\u001b[0;34m\u001b[0m\u001b[0m\n\u001b[1;32m   1288\u001b[0m     \u001b[0;32melse\u001b[0m\u001b[0;34m:\u001b[0m\u001b[0;34m\u001b[0m\u001b[0;34m\u001b[0m\u001b[0m\n\u001b[0;32m-> 1289\u001b[0;31m         \u001b[0;32mreturn\u001b[0m \u001b[0mnp\u001b[0m\u001b[0;34m.\u001b[0m\u001b[0masarray\u001b[0m\u001b[0;34m(\u001b[0m\u001b[0mx\u001b[0m\u001b[0;34m,\u001b[0m \u001b[0mfloat\u001b[0m\u001b[0;34m)\u001b[0m\u001b[0;34m\u001b[0m\u001b[0;34m\u001b[0m\u001b[0m\n\u001b[0m\u001b[1;32m   1290\u001b[0m \u001b[0;34m\u001b[0m\u001b[0m\n\u001b[1;32m   1291\u001b[0m \u001b[0;34m\u001b[0m\u001b[0m\n",
      "\u001b[0;32m/usr/local/lib/python3.9/site-packages/numpy/core/_asarray.py\u001b[0m in \u001b[0;36masarray\u001b[0;34m(a, dtype, order, like)\u001b[0m\n\u001b[1;32m    100\u001b[0m         \u001b[0;32mreturn\u001b[0m \u001b[0m_asarray_with_like\u001b[0m\u001b[0;34m(\u001b[0m\u001b[0ma\u001b[0m\u001b[0;34m,\u001b[0m \u001b[0mdtype\u001b[0m\u001b[0;34m=\u001b[0m\u001b[0mdtype\u001b[0m\u001b[0;34m,\u001b[0m \u001b[0morder\u001b[0m\u001b[0;34m=\u001b[0m\u001b[0morder\u001b[0m\u001b[0;34m,\u001b[0m \u001b[0mlike\u001b[0m\u001b[0;34m=\u001b[0m\u001b[0mlike\u001b[0m\u001b[0;34m)\u001b[0m\u001b[0;34m\u001b[0m\u001b[0;34m\u001b[0m\u001b[0m\n\u001b[1;32m    101\u001b[0m \u001b[0;34m\u001b[0m\u001b[0m\n\u001b[0;32m--> 102\u001b[0;31m     \u001b[0;32mreturn\u001b[0m \u001b[0marray\u001b[0m\u001b[0;34m(\u001b[0m\u001b[0ma\u001b[0m\u001b[0;34m,\u001b[0m \u001b[0mdtype\u001b[0m\u001b[0;34m,\u001b[0m \u001b[0mcopy\u001b[0m\u001b[0;34m=\u001b[0m\u001b[0;32mFalse\u001b[0m\u001b[0;34m,\u001b[0m \u001b[0morder\u001b[0m\u001b[0;34m=\u001b[0m\u001b[0morder\u001b[0m\u001b[0;34m)\u001b[0m\u001b[0;34m\u001b[0m\u001b[0;34m\u001b[0m\u001b[0m\n\u001b[0m\u001b[1;32m    103\u001b[0m \u001b[0;34m\u001b[0m\u001b[0m\n\u001b[1;32m    104\u001b[0m \u001b[0;34m\u001b[0m\u001b[0m\n",
      "\u001b[0;31mTypeError\u001b[0m: float() argument must be a string or a number, not 'DecomposeResult'"
     ]
    }
   ],
   "source": [
    "plt.close('all')\n",
    "#define chart parameters\n",
    "plt.style.use('seaborn')\n",
    "\n",
    "\n",
    "fig = plt.figure(figsize=(8,6))\n",
    "\n",
    "gs = gridspec.GridSpec(2,2, width_ratios=[4,2])\n",
    "\n",
    "a0 = plt.subplot(gs[0])\n",
    "a1 = plt.subplot(gs[1])\n",
    "a2 = plt.subplot(gs[2])\n",
    "a3 = plt.subplot(gs[3])\n",
    "\n",
    "eng_result.plot()\n",
    "\n",
    "fig_title = f\"United Kingdom's Vaccination Progress to {shape_first_day.index.max().strftime('%a %d %b %Y')}\"\n",
    "fig.suptitle(fig_title, fontsize=15)\n",
    "\n",
    "plt.show()\n",
    "fig.savefig(f\"decomp_model_multiplicative_{shape_first_day.index.max().strftime('%Y%m%d')}\")"
   ]
  },
  {
   "cell_type": "code",
   "execution_count": 123,
   "metadata": {},
   "outputs": [
    {
     "output_type": "execute_result",
     "data": {
      "text/plain": [
       "array([       nan,        nan,        nan, 0.93934603, 1.09216765,\n",
       "       0.86135151, 1.07172281, 1.11775202, 1.06681439, 0.89467773,\n",
       "       0.82808988, 0.87707447, 0.95147746, 0.92630125, 1.07126006,\n",
       "       1.11797871, 1.1826793 , 1.05872676, 0.80550726, 0.6837045 ,\n",
       "       0.82320512, 0.85670547, 1.10504495, 1.28290927, 1.08404364,\n",
       "       0.94812138, 0.92384391, 1.00518367, 1.01680644, 0.96738217,\n",
       "       0.93832888, 1.02478508, 1.09965236, 1.13947615, 1.02475628,\n",
       "       0.89680175, 0.93264511, 0.99846776, 0.92030871, 1.11077492,\n",
       "       1.33904565, 1.21348128, 0.97298663, 0.84725163, 0.7295435 ,\n",
       "       0.95010465, 1.13324077, 1.08537231, 1.07370201, 1.00050543,\n",
       "       0.94574734, 0.96877959, 1.18932215, 0.92818808, 1.01045541,\n",
       "       0.85637448, 1.06190908, 1.01186258,        nan,        nan,\n",
       "              nan])"
      ]
     },
     "metadata": {},
     "execution_count": 123
    }
   ],
   "source": [
    "eng_result.resid"
   ]
  },
  {
   "cell_type": "code",
   "execution_count": 124,
   "metadata": {},
   "outputs": [
    {
     "output_type": "execute_result",
     "data": {
      "text/plain": [
       "Index(['areaName', 'areaCode', 'date', 'newFirstDose', 'newSecondDose',\n",
       "       'cumFirstDose', 'cumSecondDose', 'popMid2019adults', 'Marker', 'Period',\n",
       "       'day', 'newDose'],\n",
       "      dtype='object')"
      ]
     },
     "metadata": {},
     "execution_count": 124
    }
   ],
   "source": [
    "df.columns"
   ]
  },
  {
   "cell_type": "code",
   "execution_count": 125,
   "metadata": {},
   "outputs": [
    {
     "output_type": "execute_result",
     "data": {
      "text/plain": [
       "<bound method NDFrame._add_numeric_operations.<locals>.max of 0    2021-03-12\n",
       "1    2021-03-11\n",
       "2    2021-03-10\n",
       "3    2021-03-09\n",
       "4    2021-03-08\n",
       "        ...    \n",
       "43   2021-01-10\n",
       "44   2021-01-03\n",
       "45   2020-12-27\n",
       "46   2020-12-20\n",
       "47   2020-12-13\n",
       "Name: date, Length: 296, dtype: datetime64[ns]>"
      ]
     },
     "metadata": {},
     "execution_count": 125
    }
   ],
   "source": [
    "df['date'].max"
   ]
  },
  {
   "cell_type": "code",
   "execution_count": 126,
   "metadata": {},
   "outputs": [
    {
     "output_type": "execute_result",
     "data": {
      "text/plain": [
       "             areaName   areaCode       date  newFirstDose  newSecondDose  \\\n",
       "0             England  E92000001 2021-03-12      312716.0        67514.0   \n",
       "62   Northern Ireland  N92000002 2021-03-12        6833.0          652.0   \n",
       "124          Scotland  S92000003 2021-03-12       22487.0         6841.0   \n",
       "186             Wales  W92000004 2021-03-12       27542.0        12669.0   \n",
       "\n",
       "     cumFirstDose  cumSecondDose  popMid2019adults  Marker Period  day  \\\n",
       "0        20111189        1076426          44263393  Actual    Day    4   \n",
       "62         621462          50052           1452962  Actual    Day    4   \n",
       "124       1867123         156250           4434138  Actual    Day    4   \n",
       "186       1084329         250026           2522940  Actual    Day    4   \n",
       "\n",
       "      newDose  \n",
       "0    380230.0  \n",
       "62     7485.0  \n",
       "124   29328.0  \n",
       "186   40211.0  "
      ],
      "text/html": "<div>\n<style scoped>\n    .dataframe tbody tr th:only-of-type {\n        vertical-align: middle;\n    }\n\n    .dataframe tbody tr th {\n        vertical-align: top;\n    }\n\n    .dataframe thead th {\n        text-align: right;\n    }\n</style>\n<table border=\"1\" class=\"dataframe\">\n  <thead>\n    <tr style=\"text-align: right;\">\n      <th></th>\n      <th>areaName</th>\n      <th>areaCode</th>\n      <th>date</th>\n      <th>newFirstDose</th>\n      <th>newSecondDose</th>\n      <th>cumFirstDose</th>\n      <th>cumSecondDose</th>\n      <th>popMid2019adults</th>\n      <th>Marker</th>\n      <th>Period</th>\n      <th>day</th>\n      <th>newDose</th>\n    </tr>\n  </thead>\n  <tbody>\n    <tr>\n      <th>0</th>\n      <td>England</td>\n      <td>E92000001</td>\n      <td>2021-03-12</td>\n      <td>312716.0</td>\n      <td>67514.0</td>\n      <td>20111189</td>\n      <td>1076426</td>\n      <td>44263393</td>\n      <td>Actual</td>\n      <td>Day</td>\n      <td>4</td>\n      <td>380230.0</td>\n    </tr>\n    <tr>\n      <th>62</th>\n      <td>Northern Ireland</td>\n      <td>N92000002</td>\n      <td>2021-03-12</td>\n      <td>6833.0</td>\n      <td>652.0</td>\n      <td>621462</td>\n      <td>50052</td>\n      <td>1452962</td>\n      <td>Actual</td>\n      <td>Day</td>\n      <td>4</td>\n      <td>7485.0</td>\n    </tr>\n    <tr>\n      <th>124</th>\n      <td>Scotland</td>\n      <td>S92000003</td>\n      <td>2021-03-12</td>\n      <td>22487.0</td>\n      <td>6841.0</td>\n      <td>1867123</td>\n      <td>156250</td>\n      <td>4434138</td>\n      <td>Actual</td>\n      <td>Day</td>\n      <td>4</td>\n      <td>29328.0</td>\n    </tr>\n    <tr>\n      <th>186</th>\n      <td>Wales</td>\n      <td>W92000004</td>\n      <td>2021-03-12</td>\n      <td>27542.0</td>\n      <td>12669.0</td>\n      <td>1084329</td>\n      <td>250026</td>\n      <td>2522940</td>\n      <td>Actual</td>\n      <td>Day</td>\n      <td>4</td>\n      <td>40211.0</td>\n    </tr>\n  </tbody>\n</table>\n</div>"
     },
     "metadata": {},
     "execution_count": 126
    }
   ],
   "source": [
    "df[(df['date'] == df['date'].max())]"
   ]
  },
  {
   "cell_type": "code",
   "execution_count": null,
   "metadata": {},
   "outputs": [],
   "source": []
  }
 ]
}