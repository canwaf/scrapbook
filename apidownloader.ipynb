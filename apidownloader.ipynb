{
 "metadata": {
  "language_info": {
   "codemirror_mode": {
    "name": "ipython",
    "version": 3
   },
   "file_extension": ".py",
   "mimetype": "text/x-python",
   "name": "python",
   "nbconvert_exporter": "python",
   "pygments_lexer": "ipython3",
   "version": "3.9.1-final"
  },
  "orig_nbformat": 2,
  "kernelspec": {
   "name": "python3",
   "display_name": "Python 3",
   "language": "python"
  }
 },
 "nbformat": 4,
 "nbformat_minor": 2,
 "cells": [
  {
   "cell_type": "code",
   "execution_count": 1,
   "metadata": {},
   "outputs": [],
   "source": [
    "import pathlib, logging\n",
    "from SPARQLWrapper import SPARQLWrapper, JSON"
   ]
  },
  {
   "cell_type": "code",
   "execution_count": 2,
   "metadata": {},
   "outputs": [],
   "source": [
    "logger = logging.getLogger()\n",
    "logger.setLevel(logging.DEBUG)"
   ]
  },
  {
   "cell_type": "code",
   "execution_count": 3,
   "metadata": {},
   "outputs": [],
   "source": [
    "def get_dataset_periods(dataset_url: str = None, endpoint_url: str = None):\n",
    "    logging.info('Dataset url is {}'.format(dataset_url))\n",
    "    logging.info('SPARQL endpoint is {}'.format(endpoint_url))\n",
    "\n",
    "    query = f'PREFIX qb: <http://purl.org/linked-data/cube#> PREFIX dim: <http://purl.org/linked-data/sdmx/2009/dimension#> SELECT DISTINCT ?period WHERE {{ ?object a qb:DataSet . ?obs qb:dataSet ?obj ; ?p ?period . ?obs dim:refPeriod ?period . FILTER (?obj = <{dataset_url}>) }}'\n",
    "    logging.info(f'Query is {query}')\n",
    "\n",
    "    sparql = SPARQLWrapper(endpoint_url)\n",
    "    query = sparql.setQuery(query)\n",
    "\n",
    "    sparql.setReturnFormat(JSON)\n",
    "    result = sparql.query().convert()\n",
    "\n",
    "    return [x['period']['value'] for x in result['results']['bindings']]"
   ]
  },
  {
   "cell_type": "code",
   "execution_count": 20,
   "metadata": {},
   "outputs": [
    {
     "output_type": "stream",
     "name": "stderr",
     "text": [
      "INFO:root:Dataset url is http://gss-data.org.uk/data/gss_data/covid-19/phs-weekly-covid-19-statistical-data-in-scotland#dataset\n",
      "INFO:root:SPARQL endpoint is https://staging.gss-data.org.uk/sparql\n",
      "INFO:root:Query is PREFIX qb: <http://purl.org/linked-data/cube#> PREFIX dim: <http://purl.org/linked-data/sdmx/2009/dimension#> SELECT DISTINCT ?period WHERE { ?object a qb:DataSet . ?obs qb:dataSet ?obj ; ?p ?period . ?obs dim:refPeriod ?period . FILTER (?obj = <http://gss-data.org.uk/data/gss_data/covid-19/phs-weekly-covid-19-statistical-data-in-scotland#dataset>) }\n"
     ]
    }
   ],
   "source": [
    "result = get_dataset_periods(dataset_url='http://gss-data.org.uk/data/gss_data/covid-19/phs-weekly-covid-19-statistical-data-in-scotland#dataset',\n",
    "                    endpoint_url='https://staging.gss-data.org.uk/sparql')\n",
    "    "
   ]
  },
  {
   "cell_type": "code",
   "execution_count": 21,
   "metadata": {},
   "outputs": [
    {
     "output_type": "execute_result",
     "data": {
      "text/plain": [
       "(192,\n",
       " ['http://reference.data.gov.uk/id/day/2020-02-28',\n",
       "  'http://reference.data.gov.uk/id/day/2020-02-29',\n",
       "  'http://reference.data.gov.uk/id/day/2020-03-01',\n",
       "  'http://reference.data.gov.uk/id/day/2020-03-02',\n",
       "  'http://reference.data.gov.uk/id/day/2020-03-03'])"
      ]
     },
     "metadata": {},
     "execution_count": 21
    }
   ],
   "source": [
    "len(result), result[:5]"
   ]
  },
  {
   "cell_type": "code",
   "execution_count": 16,
   "metadata": {},
   "outputs": [
    {
     "output_type": "execute_result",
     "data": {
      "text/plain": [
       "'http://gss-data.org.uk/data/gss_data/trade/ons-quarterly-national-accounts/quarterly-national-accounts-gdp-data-tables-national-accounts-aggregates-gdp-and-gva-in-ps-million'"
      ]
     },
     "metadata": {},
     "execution_count": 16
    }
   ],
   "source": [
    "# Test dataset\n",
    "import urllib\n",
    "url = 'http%3A%2F%2Fgss-data.org.uk%2Fdata%2Fgss_data%2Ftrade%2Fons-quarterly-national-accounts%2Fquarterly-national-accounts-gdp-data-tables-national-accounts-aggregates-gdp-and-gva-in-ps-million'\n",
    "dataset_url = urllib.parse.unquote(url)\n",
    "dataset_url"
   ]
  },
  {
   "cell_type": "code",
   "execution_count": 17,
   "metadata": {},
   "outputs": [
    {
     "output_type": "stream",
     "name": "stderr",
     "text": [
      "INFO:root:Dataset url is http://gss-data.org.uk/data/gss_data/trade/ons-quarterly-national-accounts/quarterly-national-accounts-gdp-data-tables-national-accounts-aggregates-gdp-and-gva-in-ps-million\n",
      "INFO:root:SPARQL endpoint is http://gss-data.org.uk/sparql\n",
      "INFO:root:Query is PREFIX qb: <http://purl.org/linked-data/cube#> PREFIX dim: <http://purl.org/linked-data/sdmx/2009/dimension#> SELECT DISTINCT ?period WHERE { ?object a qb:DataSet . ?obs qb:dataSet ?obj ; ?p ?period . ?obs dim:refPeriod ?period . FILTER (?obj = <http://gss-data.org.uk/data/gss_data/trade/ons-quarterly-national-accounts/quarterly-national-accounts-gdp-data-tables-national-accounts-aggregates-gdp-and-gva-in-ps-million>) }\n"
     ]
    }
   ],
   "source": [
    "result = get_dataset_periods(endpoint_url='http://gss-data.org.uk/sparql', dataset_url=dataset_url)"
   ]
  },
  {
   "cell_type": "code",
   "execution_count": 15,
   "metadata": {},
   "outputs": [
    {
     "output_type": "execute_result",
     "data": {
      "text/plain": [
       "(0, [])"
      ]
     },
     "metadata": {},
     "execution_count": 15
    }
   ],
   "source": [
    "len(result), result[:5]"
   ]
  },
  {
   "cell_type": "code",
   "execution_count": null,
   "metadata": {},
   "outputs": [],
   "source": []
  }
 ]
}