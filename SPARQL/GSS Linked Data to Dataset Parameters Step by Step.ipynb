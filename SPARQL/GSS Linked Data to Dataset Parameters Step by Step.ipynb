{
 "metadata": {
  "language_info": {
   "codemirror_mode": {
    "name": "ipython",
    "version": 3
   },
   "file_extension": ".py",
   "mimetype": "text/x-python",
   "name": "python",
   "nbconvert_exporter": "python",
   "pygments_lexer": "ipython3",
   "version": "3.9.1-final"
  },
  "orig_nbformat": 2,
  "kernelspec": {
   "name": "sparql",
   "display_name": "SPARQL",
   "language": "sparql"
  }
 },
 "nbformat": 4,
 "nbformat_minor": 2,
 "cells": [
  {
   "cell_type": "code",
   "execution_count": 3,
   "metadata": {},
   "outputs": [
    {
     "output_type": "display_data",
     "data": {
      "text/html": "<div class=\"krn-spql\"><div class=\"magic\">Endpoint set to: https://staging.gss-data.org.uk/sparql</div><div class=\"magic\">Request format: ANY</div><div class=\"magic\">Display: table</div></div>",
      "text/plain": "Endpoint set to: https://staging.gss-data.org.uk/sparql\nRequest format: ANY\nDisplay: table\n"
     },
     "metadata": {}
    }
   ],
   "source": [
    "%endpoint https://staging.gss-data.org.uk/sparql\n",
    "%format any\n",
    "%display table"
   ]
  },
  {
   "source": [
    "https://www.w3.org/TR/vocab-data-cube/\n",
    "![Data Cube Vocabulary](https://www.w3.org/TR/vocab-data-cube/images/qb-fig1.png)"
   ],
   "cell_type": "markdown",
   "metadata": {}
  },
  {
   "cell_type": "code",
   "execution_count": 4,
   "metadata": {},
   "outputs": [
    {
     "output_type": "display_data",
     "data": {
      "text/html": "<div class=\"krn-spql\"><table><tr class=hdr><th>s</th>\n<th>o</th></tr><tr class=odd><td class=val><a href=\"http://purl.org/dc/terms/\" target=\"_other\">http://purl.org/dc/terms/</a></td>\n<td class=val>DCMI Metadata Terms - other</td></tr><tr class=even><td class=val><a href=\"http://purl.org/dc/terms/\" target=\"_other\">http://purl.org/dc/terms/</a></td>\n<td class=val>DCMI Metadata Terms - other</td></tr><tr class=odd><td class=val><a href=\"http://gss-data.org.uk/catalog/workaround\" target=\"_other\">http://gss-data.org.uk/catalog/workaround</a></td>\n<td class=val>Workaround Catalog</td></tr><tr class=even><td class=val><a href=\"http://publishmydata.com/pmdcat#work-around-ds\" target=\"_other\">http://publishmydata.com/pmdcat#work-around-ds</a></td>\n<td class=val>Workaround</td></tr><tr class=odd><td class=val><a href=\"http://www.w3.org/2004/02/skos/core\" target=\"_other\">http://www.w3.org/2004/02/skos/core</a></td>\n<td class=val>SKOS Vocabulary</td></tr><tr class=even><td class=val><a href=\"http://vocab.deri.ie/void\" target=\"_other\">http://vocab.deri.ie/void</a></td>\n<td class=val>Vocabulary of Interlinked Datasets (VoID)</td></tr><tr class=odd><td class=val><a href=\"http://gss-data.org.uk/catalog/vocabularies\" target=\"_other\">http://gss-data.org.uk/catalog/vocabularies</a></td>\n<td class=val>Reference Data</td></tr><tr class=even><td class=val><a href=\"http://gss-data.org.uk/catalog/datasets\" target=\"_other\">http://gss-data.org.uk/catalog/datasets</a></td>\n<td class=val>Datasets</td></tr><tr class=odd><td class=val><a href=\"http://purl.org/linked-data/cube\" target=\"_other\">http://purl.org/linked-data/cube</a></td>\n<td class=val>Vocabulary for multi-dimensional (e.g. statistical) data publishing</td></tr><tr class=even><td class=val><a href=\"http://gss-data.org.uk/def/metadata/ontology\" target=\"_other\">http://gss-data.org.uk/def/metadata/ontology</a></td>\n<td class=val>COGS metadata terms</td></tr></table><div class=\"tinfo\">Total: 10, Shown: 10</div></div>"
     },
     "metadata": {}
    }
   ],
   "source": [
    "PREFIX owl: <http://www.w3.org/2002/07/owl#>\n",
    "PREFIX void: <http://rdfs.org/ns/void#>\n",
    "PREFIX pmdkos: <http://publishmydata.com/def/pmdkos/>\n",
    "PREFIX dcterms: <http://purl.org/dc/terms/>\n",
    "PREFIX rdf: <http://www.w3.org/1999/02/22-rdf-syntax-ns#>\n",
    "PREFIX dcat: <http://www.w3.org/ns/dcat#>\n",
    "PREFIX pmdui: <http://publishmydata.com/def/pmdui/>\n",
    "PREFIX rdfs: <http://www.w3.org/2000/01/rdf-schema#>\n",
    "PREFIX markdown: <https://www.w3.org/ns/iana/media-types/text/markdown#>\n",
    "PREFIX qb: <http://purl.org/linked-data/cube#>\n",
    "PREFIX skos: <http://www.w3.org/2004/02/skos/core#>\n",
    "PREFIX xsd: <http://www.w3.org/2001/XMLSchema#>\n",
    "\n",
    "SELECT *\n",
    "WHERE { ?s dcterms:title ?o.\n",
    "      }\n",
    "LIMIT 10"
   ]
  },
  {
   "cell_type": "code",
   "execution_count": 5,
   "metadata": {},
   "outputs": [
    {
     "output_type": "display_data",
     "data": {
      "text/html": "<div class=\"krn-spql\"><table><tr class=hdr><th>s</th></tr><tr class=odd><td class=val><a href=\"http://gss-data.org.uk/data/gss_data/covid-19/ho-statistics-relating-to-covid-19-and-the-immigration-system-may-2020#dataset\" target=\"_other\">http://gss-data.org.uk/data/gss_data/covid-19/ho-statistics-relating-to-covid-19-and-the-immigration-system-may-2020#dataset</a></td></tr><tr class=even><td class=val><a href=\"http://gss-data.org.uk/data/gss_data/covid-19/nrs-deaths-involving-coronavirus-covid-19-in-scotland#dataset\" target=\"_other\">http://gss-data.org.uk/data/gss_data/covid-19/nrs-deaths-involving-coronavirus-covid-19-in-scotland#dataset</a></td></tr><tr class=odd><td class=val><a href=\"http://gss-data.org.uk/data/gss_data/covid-19/wg-notifications-of-deaths-of-residents-related-to-covid-19-in-adult-care-homes#dataset\" target=\"_other\">http://gss-data.org.uk/data/gss_data/covid-19/wg-notifications-of-deaths-of-residents-related-to-covid-19-in-adult-care-homes#dataset</a></td></tr><tr class=even><td class=val><a href=\"http://gss-data.org.uk/data/gss_data/covid-19/ons-number-of-deaths-in-care-homes-notified-to-the-care-quality-commission-england#dataset\" target=\"_other\">http://gss-data.org.uk/data/gss_data/covid-19/ons-number-of-deaths-in-care-homes-notified-to-the-care-quality-commission-england#dataset</a></td></tr><tr class=odd><td class=val><a href=\"http://gss-data.org.uk/data/gss_data/covid-19/ons-deaths-involving-covid-19-in-the-care-sector-england-and-wales-deaths-occurring-up-to-1-may-2020-and-registered-up-to-9-may-2020-provisional#dataset\" target=\"_other\">http://gss-data.org.uk/data/gss_data/covid-19/ons-deaths-involving-covid-19-in-the-care-sector-england-and-wales-deaths-occurring-up-to-1-may-2020-and-registered-up-to-9-may-2020-provisional#dataset</a></td></tr><tr class=even><td class=val><a href=\"http://gss-data.org.uk/data/gss_data/census-2011#dataset\" target=\"_other\">http://gss-data.org.uk/data/gss_data/census-2011#dataset</a></td></tr><tr class=odd><td class=val><a href=\"http://gss-data.org.uk/data/gss_data/covid-19/ons-online-price-changes-for-high-demand-products#dataset\" target=\"_other\">http://gss-data.org.uk/data/gss_data/covid-19/ons-online-price-changes-for-high-demand-products#dataset</a></td></tr><tr class=even><td class=val><a href=\"http://gss-data.org.uk/data/gss_data/covid-19/phe-covid-19-number-of-outbreaks-in-care-homes-management-information#dataset\" target=\"_other\">http://gss-data.org.uk/data/gss_data/covid-19/phe-covid-19-number-of-outbreaks-in-care-homes-management-information#dataset</a></td></tr><tr class=odd><td class=val><a href=\"http://gss-data.org.uk/data/gss_data/covid-19/ons-online-job-advert-estimates#dataset\" target=\"_other\">http://gss-data.org.uk/data/gss_data/covid-19/ons-online-job-advert-estimates#dataset</a></td></tr><tr class=even><td class=val><a href=\"http://gss-data.org.uk/data/gss_data/covid-19/sg-coronavirus-covid-19-additional-data-about-adult-care-homes-in-scotland#dataset\" target=\"_other\">http://gss-data.org.uk/data/gss_data/covid-19/sg-coronavirus-covid-19-additional-data-about-adult-care-homes-in-scotland#dataset</a></td></tr></table><div class=\"tinfo\">Total: 10, Shown: 10</div></div>"
     },
     "metadata": {}
    }
   ],
   "source": [
    "PREFIX owl: <http://www.w3.org/2002/07/owl#>\n",
    "PREFIX void: <http://rdfs.org/ns/void#>\n",
    "PREFIX pmdkos: <http://publishmydata.com/def/pmdkos/>\n",
    "PREFIX dcterms: <http://purl.org/dc/terms/>\n",
    "PREFIX rdf: <http://www.w3.org/1999/02/22-rdf-syntax-ns#>\n",
    "PREFIX dcat: <http://www.w3.org/ns/dcat#>\n",
    "PREFIX pmdui: <http://publishmydata.com/def/pmdui/>\n",
    "PREFIX rdfs: <http://www.w3.org/2000/01/rdf-schema#>\n",
    "PREFIX markdown: <https://www.w3.org/ns/iana/media-types/text/markdown#>\n",
    "PREFIX qb: <http://purl.org/linked-data/cube#>\n",
    "PREFIX skos: <http://www.w3.org/2004/02/skos/core#>\n",
    "PREFIX xsd: <http://www.w3.org/2001/XMLSchema#>\n",
    "\n",
    "SELECT *\n",
    "WHERE { ?s a qb:DataSet.\n",
    "      }\n",
    "LIMIT 10"
   ]
  },
  {
   "cell_type": "code",
   "execution_count": 6,
   "metadata": {},
   "outputs": [
    {
     "output_type": "display_data",
     "data": {
      "text/html": "<div class=\"krn-spql\"><table><tr class=hdr><th>s</th>\n<th>o</th></tr><tr class=odd><td class=val><a href=\"http://gss-data.org.uk/data/gss_data/covid-19/ho-statistics-relating-to-covid-19-and-the-immigration-system-may-2020#dataset\" target=\"_other\">http://gss-data.org.uk/data/gss_data/covid-19/ho-statistics-relating-to-covid-19-and-the-immigration-system-may-2020#dataset</a></td>\n<td class=val><a href=\"http://gss-data.org.uk/data/gss_data/covid-19/ho-statistics-relating-to-covid-19-and-the-immigration-system-may-2020#structure\" target=\"_other\">http://gss-data.org.uk/data/gss_data/covid-19/ho-statistics-relating-to-covid-19-and-the-immigration-system-may-2020#structure</a></td></tr><tr class=even><td class=val><a href=\"http://gss-data.org.uk/data/gss_data/covid-19/nrs-deaths-involving-coronavirus-covid-19-in-scotland#dataset\" target=\"_other\">http://gss-data.org.uk/data/gss_data/covid-19/nrs-deaths-involving-coronavirus-covid-19-in-scotland#dataset</a></td>\n<td class=val><a href=\"http://gss-data.org.uk/data/gss_data/covid-19/nrs-deaths-involving-coronavirus-covid-19-in-scotland#structure\" target=\"_other\">http://gss-data.org.uk/data/gss_data/covid-19/nrs-deaths-involving-coronavirus-covid-19-in-scotland#structure</a></td></tr><tr class=odd><td class=val><a href=\"http://gss-data.org.uk/data/gss_data/covid-19/wg-notifications-of-deaths-of-residents-related-to-covid-19-in-adult-care-homes#dataset\" target=\"_other\">http://gss-data.org.uk/data/gss_data/covid-19/wg-notifications-of-deaths-of-residents-related-to-covid-19-in-adult-care-homes#dataset</a></td>\n<td class=val><a href=\"http://gss-data.org.uk/data/gss_data/covid-19/wg-notifications-of-deaths-of-residents-related-to-covid-19-in-adult-care-homes#structure\" target=\"_other\">http://gss-data.org.uk/data/gss_data/covid-19/wg-notifications-of-deaths-of-residents-related-to-covid-19-in-adult-care-homes#structure</a></td></tr><tr class=even><td class=val><a href=\"http://gss-data.org.uk/data/gss_data/covid-19/ons-number-of-deaths-in-care-homes-notified-to-the-care-quality-commission-england#dataset\" target=\"_other\">http://gss-data.org.uk/data/gss_data/covid-19/ons-number-of-deaths-in-care-homes-notified-to-the-care-quality-commission-england#dataset</a></td>\n<td class=val><a href=\"http://gss-data.org.uk/data/gss_data/covid-19/ons-number-of-deaths-in-care-homes-notified-to-the-care-quality-commission-england#structure\" target=\"_other\">http://gss-data.org.uk/data/gss_data/covid-19/ons-number-of-deaths-in-care-homes-notified-to-the-care-quality-commission-england#structure</a></td></tr><tr class=odd><td class=val><a href=\"http://gss-data.org.uk/data/gss_data/covid-19/ons-deaths-involving-covid-19-in-the-care-sector-england-and-wales-deaths-occurring-up-to-1-may-2020-and-registered-up-to-9-may-2020-provisional#dataset\" target=\"_other\">http://gss-data.org.uk/data/gss_data/covid-19/ons-deaths-involving-covid-19-in-the-care-sector-england-and-wales-deaths-occurring-up-to-1-may-2020-and-registered-up-to-9-may-2020-provisional#dataset</a></td>\n<td class=val><a href=\"http://gss-data.org.uk/data/gss_data/covid-19/ons-deaths-involving-covid-19-in-the-care-sector-england-and-wales-deaths-occurring-up-to-1-may-2020-and-registered-up-to-9-may-2020-provisional#structure\" target=\"_other\">http://gss-data.org.uk/data/gss_data/covid-19/ons-deaths-involving-covid-19-in-the-care-sector-england-and-wales-deaths-occurring-up-to-1-may-2020-and-registered-up-to-9-may-2020-provisional#structure</a></td></tr><tr class=even><td class=val><a href=\"http://gss-data.org.uk/data/gss_data/census-2011#dataset\" target=\"_other\">http://gss-data.org.uk/data/gss_data/census-2011#dataset</a></td>\n<td class=val><a href=\"http://gss-data.org.uk/data/gss_data/census-2011#structure\" target=\"_other\">http://gss-data.org.uk/data/gss_data/census-2011#structure</a></td></tr><tr class=odd><td class=val><a href=\"http://gss-data.org.uk/data/gss_data/covid-19/ons-online-price-changes-for-high-demand-products#dataset\" target=\"_other\">http://gss-data.org.uk/data/gss_data/covid-19/ons-online-price-changes-for-high-demand-products#dataset</a></td>\n<td class=val><a href=\"http://gss-data.org.uk/data/gss_data/covid-19/ons-online-price-changes-for-high-demand-products#structure\" target=\"_other\">http://gss-data.org.uk/data/gss_data/covid-19/ons-online-price-changes-for-high-demand-products#structure</a></td></tr><tr class=even><td class=val><a href=\"http://gss-data.org.uk/data/gss_data/covid-19/phe-covid-19-number-of-outbreaks-in-care-homes-management-information#dataset\" target=\"_other\">http://gss-data.org.uk/data/gss_data/covid-19/phe-covid-19-number-of-outbreaks-in-care-homes-management-information#dataset</a></td>\n<td class=val><a href=\"http://gss-data.org.uk/data/gss_data/covid-19/phe-covid-19-number-of-outbreaks-in-care-homes-management-information#structure\" target=\"_other\">http://gss-data.org.uk/data/gss_data/covid-19/phe-covid-19-number-of-outbreaks-in-care-homes-management-information#structure</a></td></tr><tr class=odd><td class=val><a href=\"http://gss-data.org.uk/data/gss_data/covid-19/ons-online-job-advert-estimates#dataset\" target=\"_other\">http://gss-data.org.uk/data/gss_data/covid-19/ons-online-job-advert-estimates#dataset</a></td>\n<td class=val><a href=\"http://gss-data.org.uk/data/gss_data/covid-19/ons-online-job-advert-estimates#structure\" target=\"_other\">http://gss-data.org.uk/data/gss_data/covid-19/ons-online-job-advert-estimates#structure</a></td></tr><tr class=even><td class=val><a href=\"http://gss-data.org.uk/data/gss_data/covid-19/sg-coronavirus-covid-19-additional-data-about-adult-care-homes-in-scotland#dataset\" target=\"_other\">http://gss-data.org.uk/data/gss_data/covid-19/sg-coronavirus-covid-19-additional-data-about-adult-care-homes-in-scotland#dataset</a></td>\n<td class=val><a href=\"http://gss-data.org.uk/data/gss_data/covid-19/sg-coronavirus-covid-19-additional-data-about-adult-care-homes-in-scotland#structure\" target=\"_other\">http://gss-data.org.uk/data/gss_data/covid-19/sg-coronavirus-covid-19-additional-data-about-adult-care-homes-in-scotland#structure</a></td></tr></table><div class=\"tinfo\">Total: 10, Shown: 10</div></div>"
     },
     "metadata": {}
    }
   ],
   "source": [
    "PREFIX owl: <http://www.w3.org/2002/07/owl#>\n",
    "PREFIX void: <http://rdfs.org/ns/void#>\n",
    "PREFIX pmdkos: <http://publishmydata.com/def/pmdkos/>\n",
    "PREFIX dcterms: <http://purl.org/dc/terms/>\n",
    "PREFIX rdf: <http://www.w3.org/1999/02/22-rdf-syntax-ns#>\n",
    "PREFIX dcat: <http://www.w3.org/ns/dcat#>\n",
    "PREFIX pmdui: <http://publishmydata.com/def/pmdui/>\n",
    "PREFIX rdfs: <http://www.w3.org/2000/01/rdf-schema#>\n",
    "PREFIX markdown: <https://www.w3.org/ns/iana/media-types/text/markdown#>\n",
    "PREFIX qb: <http://purl.org/linked-data/cube#>\n",
    "PREFIX skos: <http://www.w3.org/2004/02/skos/core#>\n",
    "PREFIX xsd: <http://www.w3.org/2001/XMLSchema#>\n",
    "\n",
    "SELECT *\n",
    "WHERE { ?s a qb:DataSet;\n",
    "             qb:structure ?o.\n",
    "      \n",
    "      }\n",
    "LIMIT 10"
   ]
  },
  {
   "cell_type": "code",
   "execution_count": 7,
   "metadata": {},
   "outputs": [
    {
     "output_type": "display_data",
     "data": {
      "text/html": "<div class=\"krn-spql\"><table><tr class=hdr><th>s</th>\n<th>o</th>\n<th>c</th></tr><tr class=odd><td class=val><a href=\"http://gss-data.org.uk/data/gss_data/covid-19/ho-statistics-relating-to-covid-19-and-the-immigration-system-may-2020#dataset\" target=\"_other\">http://gss-data.org.uk/data/gss_data/covid-19/ho-statistics-relating-to-covid-19-and-the-immigration-system-may-2020#dataset</a></td>\n<td class=val><a href=\"http://gss-data.org.uk/data/gss_data/covid-19/ho-statistics-relating-to-covid-19-and-the-immigration-system-may-2020#structure\" target=\"_other\">http://gss-data.org.uk/data/gss_data/covid-19/ho-statistics-relating-to-covid-19-and-the-immigration-system-may-2020#structure</a></td>\n<td class=val><a href=\"http://gss-data.org.uk/data/gss_data/covid-19/ho-statistics-relating-to-covid-19-and-the-immigration-system-may-2020#component/air-arrivals\" target=\"_other\">http://gss-data.org.uk/data/gss_data/covid-19/ho-statistics-relating-to-covid-19-and-the-immigration-system-may-2020#component/air-arrivals</a></td></tr><tr class=even><td class=val><a href=\"http://gss-data.org.uk/data/gss_data/covid-19/ho-statistics-relating-to-covid-19-and-the-immigration-system-may-2020#dataset\" target=\"_other\">http://gss-data.org.uk/data/gss_data/covid-19/ho-statistics-relating-to-covid-19-and-the-immigration-system-may-2020#dataset</a></td>\n<td class=val><a href=\"http://gss-data.org.uk/data/gss_data/covid-19/ho-statistics-relating-to-covid-19-and-the-immigration-system-may-2020#structure\" target=\"_other\">http://gss-data.org.uk/data/gss_data/covid-19/ho-statistics-relating-to-covid-19-and-the-immigration-system-may-2020#structure</a></td>\n<td class=val><a href=\"http://gss-data.org.uk/data/gss_data/covid-19/ho-statistics-relating-to-covid-19-and-the-immigration-system-may-2020#component/measure_type\" target=\"_other\">http://gss-data.org.uk/data/gss_data/covid-19/ho-statistics-relating-to-covid-19-and-the-immigration-system-may-2020#component/measure_type</a></td></tr><tr class=odd><td class=val><a href=\"http://gss-data.org.uk/data/gss_data/covid-19/ho-statistics-relating-to-covid-19-and-the-immigration-system-may-2020#dataset\" target=\"_other\">http://gss-data.org.uk/data/gss_data/covid-19/ho-statistics-relating-to-covid-19-and-the-immigration-system-may-2020#dataset</a></td>\n<td class=val><a href=\"http://gss-data.org.uk/data/gss_data/covid-19/ho-statistics-relating-to-covid-19-and-the-immigration-system-may-2020#structure\" target=\"_other\">http://gss-data.org.uk/data/gss_data/covid-19/ho-statistics-relating-to-covid-19-and-the-immigration-system-may-2020#structure</a></td>\n<td class=val><a href=\"http://gss-data.org.uk/data/gss_data/covid-19/ho-statistics-relating-to-covid-19-and-the-immigration-system-may-2020#component/period\" target=\"_other\">http://gss-data.org.uk/data/gss_data/covid-19/ho-statistics-relating-to-covid-19-and-the-immigration-system-may-2020#component/period</a></td></tr><tr class=even><td class=val><a href=\"http://gss-data.org.uk/data/gss_data/covid-19/ho-statistics-relating-to-covid-19-and-the-immigration-system-may-2020#dataset\" target=\"_other\">http://gss-data.org.uk/data/gss_data/covid-19/ho-statistics-relating-to-covid-19-and-the-immigration-system-may-2020#dataset</a></td>\n<td class=val><a href=\"http://gss-data.org.uk/data/gss_data/covid-19/ho-statistics-relating-to-covid-19-and-the-immigration-system-may-2020#structure\" target=\"_other\">http://gss-data.org.uk/data/gss_data/covid-19/ho-statistics-relating-to-covid-19-and-the-immigration-system-may-2020#structure</a></td>\n<td class=val><a href=\"http://gss-data.org.uk/data/gss_data/covid-19/ho-statistics-relating-to-covid-19-and-the-immigration-system-may-2020#component/value\" target=\"_other\">http://gss-data.org.uk/data/gss_data/covid-19/ho-statistics-relating-to-covid-19-and-the-immigration-system-may-2020#component/value</a></td></tr><tr class=odd><td class=val><a href=\"http://gss-data.org.uk/data/gss_data/covid-19/ho-statistics-relating-to-covid-19-and-the-immigration-system-may-2020#dataset\" target=\"_other\">http://gss-data.org.uk/data/gss_data/covid-19/ho-statistics-relating-to-covid-19-and-the-immigration-system-may-2020#dataset</a></td>\n<td class=val><a href=\"http://gss-data.org.uk/data/gss_data/covid-19/ho-statistics-relating-to-covid-19-and-the-immigration-system-may-2020#structure\" target=\"_other\">http://gss-data.org.uk/data/gss_data/covid-19/ho-statistics-relating-to-covid-19-and-the-immigration-system-may-2020#structure</a></td>\n<td class=val><a href=\"http://gss-data.org.uk/data/gss_data/covid-19/ho-statistics-relating-to-covid-19-and-the-immigration-system-may-2020#component/unit\" target=\"_other\">http://gss-data.org.uk/data/gss_data/covid-19/ho-statistics-relating-to-covid-19-and-the-immigration-system-may-2020#component/unit</a></td></tr><tr class=even><td class=val><a href=\"http://gss-data.org.uk/data/gss_data/covid-19/nrs-deaths-involving-coronavirus-covid-19-in-scotland#dataset\" target=\"_other\">http://gss-data.org.uk/data/gss_data/covid-19/nrs-deaths-involving-coronavirus-covid-19-in-scotland#dataset</a></td>\n<td class=val><a href=\"http://gss-data.org.uk/data/gss_data/covid-19/nrs-deaths-involving-coronavirus-covid-19-in-scotland#structure\" target=\"_other\">http://gss-data.org.uk/data/gss_data/covid-19/nrs-deaths-involving-coronavirus-covid-19-in-scotland#structure</a></td>\n<td class=val><a href=\"http://gss-data.org.uk/data/gss_data/covid-19/nrs-deaths-involving-coronavirus-covid-19-in-scotland#component/council-area\" target=\"_other\">http://gss-data.org.uk/data/gss_data/covid-19/nrs-deaths-involving-coronavirus-covid-19-in-scotland#component/council-area</a></td></tr><tr class=odd><td class=val><a href=\"http://gss-data.org.uk/data/gss_data/covid-19/nrs-deaths-involving-coronavirus-covid-19-in-scotland#dataset\" target=\"_other\">http://gss-data.org.uk/data/gss_data/covid-19/nrs-deaths-involving-coronavirus-covid-19-in-scotland#dataset</a></td>\n<td class=val><a href=\"http://gss-data.org.uk/data/gss_data/covid-19/nrs-deaths-involving-coronavirus-covid-19-in-scotland#structure\" target=\"_other\">http://gss-data.org.uk/data/gss_data/covid-19/nrs-deaths-involving-coronavirus-covid-19-in-scotland#structure</a></td>\n<td class=val><a href=\"http://gss-data.org.uk/data/gss_data/covid-19/nrs-deaths-involving-coronavirus-covid-19-in-scotland#component/location-of-death\" target=\"_other\">http://gss-data.org.uk/data/gss_data/covid-19/nrs-deaths-involving-coronavirus-covid-19-in-scotland#component/location-of-death</a></td></tr><tr class=even><td class=val><a href=\"http://gss-data.org.uk/data/gss_data/covid-19/nrs-deaths-involving-coronavirus-covid-19-in-scotland#dataset\" target=\"_other\">http://gss-data.org.uk/data/gss_data/covid-19/nrs-deaths-involving-coronavirus-covid-19-in-scotland#dataset</a></td>\n<td class=val><a href=\"http://gss-data.org.uk/data/gss_data/covid-19/nrs-deaths-involving-coronavirus-covid-19-in-scotland#structure\" target=\"_other\">http://gss-data.org.uk/data/gss_data/covid-19/nrs-deaths-involving-coronavirus-covid-19-in-scotland#structure</a></td>\n<td class=val><a href=\"http://gss-data.org.uk/data/gss_data/covid-19/nrs-deaths-involving-coronavirus-covid-19-in-scotland#component/measure_type\" target=\"_other\">http://gss-data.org.uk/data/gss_data/covid-19/nrs-deaths-involving-coronavirus-covid-19-in-scotland#component/measure_type</a></td></tr><tr class=odd><td class=val><a href=\"http://gss-data.org.uk/data/gss_data/covid-19/nrs-deaths-involving-coronavirus-covid-19-in-scotland#dataset\" target=\"_other\">http://gss-data.org.uk/data/gss_data/covid-19/nrs-deaths-involving-coronavirus-covid-19-in-scotland#dataset</a></td>\n<td class=val><a href=\"http://gss-data.org.uk/data/gss_data/covid-19/nrs-deaths-involving-coronavirus-covid-19-in-scotland#structure\" target=\"_other\">http://gss-data.org.uk/data/gss_data/covid-19/nrs-deaths-involving-coronavirus-covid-19-in-scotland#structure</a></td>\n<td class=val><a href=\"http://gss-data.org.uk/data/gss_data/covid-19/nrs-deaths-involving-coronavirus-covid-19-in-scotland#component/nhs-board\" target=\"_other\">http://gss-data.org.uk/data/gss_data/covid-19/nrs-deaths-involving-coronavirus-covid-19-in-scotland#component/nhs-board</a></td></tr><tr class=even><td class=val><a href=\"http://gss-data.org.uk/data/gss_data/covid-19/nrs-deaths-involving-coronavirus-covid-19-in-scotland#dataset\" target=\"_other\">http://gss-data.org.uk/data/gss_data/covid-19/nrs-deaths-involving-coronavirus-covid-19-in-scotland#dataset</a></td>\n<td class=val><a href=\"http://gss-data.org.uk/data/gss_data/covid-19/nrs-deaths-involving-coronavirus-covid-19-in-scotland#structure\" target=\"_other\">http://gss-data.org.uk/data/gss_data/covid-19/nrs-deaths-involving-coronavirus-covid-19-in-scotland#structure</a></td>\n<td class=val><a href=\"http://gss-data.org.uk/data/gss_data/covid-19/nrs-deaths-involving-coronavirus-covid-19-in-scotland#component/nrs-age-group\" target=\"_other\">http://gss-data.org.uk/data/gss_data/covid-19/nrs-deaths-involving-coronavirus-covid-19-in-scotland#component/nrs-age-group</a></td></tr></table><div class=\"tinfo\">Total: 10, Shown: 10</div></div>"
     },
     "metadata": {}
    }
   ],
   "source": [
    "PREFIX owl: <http://www.w3.org/2002/07/owl#>\n",
    "PREFIX void: <http://rdfs.org/ns/void#>\n",
    "PREFIX pmdkos: <http://publishmydata.com/def/pmdkos/>\n",
    "PREFIX dcterms: <http://purl.org/dc/terms/>\n",
    "PREFIX rdf: <http://www.w3.org/1999/02/22-rdf-syntax-ns#>\n",
    "PREFIX dcat: <http://www.w3.org/ns/dcat#>\n",
    "PREFIX pmdui: <http://publishmydata.com/def/pmdui/>\n",
    "PREFIX rdfs: <http://www.w3.org/2000/01/rdf-schema#>\n",
    "PREFIX markdown: <https://www.w3.org/ns/iana/media-types/text/markdown#>\n",
    "PREFIX qb: <http://purl.org/linked-data/cube#>\n",
    "PREFIX skos: <http://www.w3.org/2004/02/skos/core#>\n",
    "PREFIX xsd: <http://www.w3.org/2001/XMLSchema#>\n",
    "\n",
    "SELECT *\n",
    "WHERE { ?s a qb:DataSet;\n",
    "             qb:structure ?o .\n",
    "      ?o qb:component ?c .\n",
    "      }\n",
    "LIMIT 10"
   ]
  },
  {
   "cell_type": "code",
   "execution_count": 8,
   "metadata": {},
   "outputs": [
    {
     "output_type": "display_data",
     "data": {
      "text/html": "<div class=\"krn-spql\"><table><tr class=hdr><th>s</th>\n<th>obs</th></tr><tr class=odd><td class=val><a href=\"http://gss-data.org.uk/data/gss_data/covid-19/ho-statistics-relating-to-covid-19-and-the-immigration-system-may-2020#dataset\" target=\"_other\">http://gss-data.org.uk/data/gss_data/covid-19/ho-statistics-relating-to-covid-19-and-the-immigration-system-may-2020#dataset</a></td>\n<td class=val><a href=\"http://gss-data.org.uk/data/gss_data/covid-19/ho-statistics-relating-to-covid-19-and-the-immigration-system-may-2020/2020-01-01/total-air-arrivals\" target=\"_other\">http://gss-data.org.uk/data/gss_data/covid-19/ho-statistics-relating-to-covid-19-and-the-immigration-system-may-2020/2020-01-01/total-air-arrivals</a></td></tr><tr class=even><td class=val><a href=\"http://gss-data.org.uk/data/gss_data/covid-19/ho-statistics-relating-to-covid-19-and-the-immigration-system-may-2020#dataset\" target=\"_other\">http://gss-data.org.uk/data/gss_data/covid-19/ho-statistics-relating-to-covid-19-and-the-immigration-system-may-2020#dataset</a></td>\n<td class=val><a href=\"http://gss-data.org.uk/data/gss_data/covid-19/ho-statistics-relating-to-covid-19-and-the-immigration-system-may-2020/2020-01-01/of-which-british-nationals\" target=\"_other\">http://gss-data.org.uk/data/gss_data/covid-19/ho-statistics-relating-to-covid-19-and-the-immigration-system-may-2020/2020-01-01/of-which-british-nationals</a></td></tr><tr class=odd><td class=val><a href=\"http://gss-data.org.uk/data/gss_data/covid-19/ho-statistics-relating-to-covid-19-and-the-immigration-system-may-2020#dataset\" target=\"_other\">http://gss-data.org.uk/data/gss_data/covid-19/ho-statistics-relating-to-covid-19-and-the-immigration-system-may-2020#dataset</a></td>\n<td class=val><a href=\"http://gss-data.org.uk/data/gss_data/covid-19/ho-statistics-relating-to-covid-19-and-the-immigration-system-may-2020/2019-01-01/total-air-arrivals\" target=\"_other\">http://gss-data.org.uk/data/gss_data/covid-19/ho-statistics-relating-to-covid-19-and-the-immigration-system-may-2020/2019-01-01/total-air-arrivals</a></td></tr><tr class=even><td class=val><a href=\"http://gss-data.org.uk/data/gss_data/covid-19/ho-statistics-relating-to-covid-19-and-the-immigration-system-may-2020#dataset\" target=\"_other\">http://gss-data.org.uk/data/gss_data/covid-19/ho-statistics-relating-to-covid-19-and-the-immigration-system-may-2020#dataset</a></td>\n<td class=val><a href=\"http://gss-data.org.uk/data/gss_data/covid-19/ho-statistics-relating-to-covid-19-and-the-immigration-system-may-2020/2019-01-01/of-which-british-nationals\" target=\"_other\">http://gss-data.org.uk/data/gss_data/covid-19/ho-statistics-relating-to-covid-19-and-the-immigration-system-may-2020/2019-01-01/of-which-british-nationals</a></td></tr><tr class=odd><td class=val><a href=\"http://gss-data.org.uk/data/gss_data/covid-19/ho-statistics-relating-to-covid-19-and-the-immigration-system-may-2020#dataset\" target=\"_other\">http://gss-data.org.uk/data/gss_data/covid-19/ho-statistics-relating-to-covid-19-and-the-immigration-system-may-2020#dataset</a></td>\n<td class=val><a href=\"http://gss-data.org.uk/data/gss_data/covid-19/ho-statistics-relating-to-covid-19-and-the-immigration-system-may-2020/2020-01-02/total-air-arrivals\" target=\"_other\">http://gss-data.org.uk/data/gss_data/covid-19/ho-statistics-relating-to-covid-19-and-the-immigration-system-may-2020/2020-01-02/total-air-arrivals</a></td></tr><tr class=even><td class=val><a href=\"http://gss-data.org.uk/data/gss_data/covid-19/ho-statistics-relating-to-covid-19-and-the-immigration-system-may-2020#dataset\" target=\"_other\">http://gss-data.org.uk/data/gss_data/covid-19/ho-statistics-relating-to-covid-19-and-the-immigration-system-may-2020#dataset</a></td>\n<td class=val><a href=\"http://gss-data.org.uk/data/gss_data/covid-19/ho-statistics-relating-to-covid-19-and-the-immigration-system-may-2020/2020-01-02/of-which-british-nationals\" target=\"_other\">http://gss-data.org.uk/data/gss_data/covid-19/ho-statistics-relating-to-covid-19-and-the-immigration-system-may-2020/2020-01-02/of-which-british-nationals</a></td></tr><tr class=odd><td class=val><a href=\"http://gss-data.org.uk/data/gss_data/covid-19/ho-statistics-relating-to-covid-19-and-the-immigration-system-may-2020#dataset\" target=\"_other\">http://gss-data.org.uk/data/gss_data/covid-19/ho-statistics-relating-to-covid-19-and-the-immigration-system-may-2020#dataset</a></td>\n<td class=val><a href=\"http://gss-data.org.uk/data/gss_data/covid-19/ho-statistics-relating-to-covid-19-and-the-immigration-system-may-2020/2019-01-02/total-air-arrivals\" target=\"_other\">http://gss-data.org.uk/data/gss_data/covid-19/ho-statistics-relating-to-covid-19-and-the-immigration-system-may-2020/2019-01-02/total-air-arrivals</a></td></tr><tr class=even><td class=val><a href=\"http://gss-data.org.uk/data/gss_data/covid-19/ho-statistics-relating-to-covid-19-and-the-immigration-system-may-2020#dataset\" target=\"_other\">http://gss-data.org.uk/data/gss_data/covid-19/ho-statistics-relating-to-covid-19-and-the-immigration-system-may-2020#dataset</a></td>\n<td class=val><a href=\"http://gss-data.org.uk/data/gss_data/covid-19/ho-statistics-relating-to-covid-19-and-the-immigration-system-may-2020/2019-01-02/of-which-british-nationals\" target=\"_other\">http://gss-data.org.uk/data/gss_data/covid-19/ho-statistics-relating-to-covid-19-and-the-immigration-system-may-2020/2019-01-02/of-which-british-nationals</a></td></tr><tr class=odd><td class=val><a href=\"http://gss-data.org.uk/data/gss_data/covid-19/ho-statistics-relating-to-covid-19-and-the-immigration-system-may-2020#dataset\" target=\"_other\">http://gss-data.org.uk/data/gss_data/covid-19/ho-statistics-relating-to-covid-19-and-the-immigration-system-may-2020#dataset</a></td>\n<td class=val><a href=\"http://gss-data.org.uk/data/gss_data/covid-19/ho-statistics-relating-to-covid-19-and-the-immigration-system-may-2020/2020-01-03/total-air-arrivals\" target=\"_other\">http://gss-data.org.uk/data/gss_data/covid-19/ho-statistics-relating-to-covid-19-and-the-immigration-system-may-2020/2020-01-03/total-air-arrivals</a></td></tr><tr class=even><td class=val><a href=\"http://gss-data.org.uk/data/gss_data/covid-19/ho-statistics-relating-to-covid-19-and-the-immigration-system-may-2020#dataset\" target=\"_other\">http://gss-data.org.uk/data/gss_data/covid-19/ho-statistics-relating-to-covid-19-and-the-immigration-system-may-2020#dataset</a></td>\n<td class=val><a href=\"http://gss-data.org.uk/data/gss_data/covid-19/ho-statistics-relating-to-covid-19-and-the-immigration-system-may-2020/2020-01-03/of-which-british-nationals\" target=\"_other\">http://gss-data.org.uk/data/gss_data/covid-19/ho-statistics-relating-to-covid-19-and-the-immigration-system-may-2020/2020-01-03/of-which-british-nationals</a></td></tr></table><div class=\"tinfo\">Total: 10, Shown: 10</div></div>"
     },
     "metadata": {}
    }
   ],
   "source": [
    "PREFIX owl: <http://www.w3.org/2002/07/owl#>\n",
    "PREFIX void: <http://rdfs.org/ns/void#>\n",
    "PREFIX pmdkos: <http://publishmydata.com/def/pmdkos/>\n",
    "PREFIX dcterms: <http://purl.org/dc/terms/>\n",
    "PREFIX rdf: <http://www.w3.org/1999/02/22-rdf-syntax-ns#>\n",
    "PREFIX dcat: <http://www.w3.org/ns/dcat#>\n",
    "PREFIX pmdui: <http://publishmydata.com/def/pmdui/>\n",
    "PREFIX rdfs: <http://www.w3.org/2000/01/rdf-schema#>\n",
    "PREFIX markdown: <https://www.w3.org/ns/iana/media-types/text/markdown#>\n",
    "PREFIX qb: <http://purl.org/linked-data/cube#>\n",
    "PREFIX skos: <http://www.w3.org/2004/02/skos/core#>\n",
    "PREFIX xsd: <http://www.w3.org/2001/XMLSchema#>\n",
    "PREFIX immigration: <http://gss-data.org.uk/data/gss_data/covid-19/ho-statistics-relating-to-covid-19-and-the-immigration-system-may-2020#component/>\n",
    "\n",
    "SELECT *\n",
    "WHERE { ?s a qb:DataSet .\n",
    "        ?obs qb:dataSet ?s .\n",
    "       \n",
    "      }\n",
    "LIMIT 10"
   ]
  },
  {
   "cell_type": "code",
   "execution_count": 9,
   "metadata": {},
   "outputs": [
    {
     "output_type": "display_data",
     "data": {
      "text/html": "<div class=\"krn-spql\"><table><tr class=hdr><th>s</th>\n<th>obs</th>\n<th>p</th>\n<th>v</th></tr><tr class=odd><td class=val><a href=\"http://gss-data.org.uk/data/gss_data/covid-19/ho-statistics-relating-to-covid-19-and-the-immigration-system-may-2020#dataset\" target=\"_other\">http://gss-data.org.uk/data/gss_data/covid-19/ho-statistics-relating-to-covid-19-and-the-immigration-system-may-2020#dataset</a></td>\n<td class=val><a href=\"http://gss-data.org.uk/data/gss_data/covid-19/ho-statistics-relating-to-covid-19-and-the-immigration-system-may-2020/2020-01-01/total-air-arrivals\" target=\"_other\">http://gss-data.org.uk/data/gss_data/covid-19/ho-statistics-relating-to-covid-19-and-the-immigration-system-may-2020/2020-01-01/total-air-arrivals</a></td>\n<td class=val><a href=\"http://www.w3.org/1999/02/22-rdf-syntax-ns#type\" target=\"_other\">http://www.w3.org/1999/02/22-rdf-syntax-ns#type</a></td>\n<td class=val><a href=\"http://purl.org/linked-data/cube#Observation\" target=\"_other\">http://purl.org/linked-data/cube#Observation</a></td></tr><tr class=even><td class=val><a href=\"http://gss-data.org.uk/data/gss_data/covid-19/ho-statistics-relating-to-covid-19-and-the-immigration-system-may-2020#dataset\" target=\"_other\">http://gss-data.org.uk/data/gss_data/covid-19/ho-statistics-relating-to-covid-19-and-the-immigration-system-may-2020#dataset</a></td>\n<td class=val><a href=\"http://gss-data.org.uk/data/gss_data/covid-19/ho-statistics-relating-to-covid-19-and-the-immigration-system-may-2020/2020-01-01/total-air-arrivals\" target=\"_other\">http://gss-data.org.uk/data/gss_data/covid-19/ho-statistics-relating-to-covid-19-and-the-immigration-system-may-2020/2020-01-01/total-air-arrivals</a></td>\n<td class=val><a href=\"http://purl.org/linked-data/cube#dataSet\" target=\"_other\">http://purl.org/linked-data/cube#dataSet</a></td>\n<td class=val><a href=\"http://gss-data.org.uk/data/gss_data/covid-19/ho-statistics-relating-to-covid-19-and-the-immigration-system-may-2020#dataset\" target=\"_other\">http://gss-data.org.uk/data/gss_data/covid-19/ho-statistics-relating-to-covid-19-and-the-immigration-system-may-2020#dataset</a></td></tr><tr class=odd><td class=val><a href=\"http://gss-data.org.uk/data/gss_data/covid-19/ho-statistics-relating-to-covid-19-and-the-immigration-system-may-2020#dataset\" target=\"_other\">http://gss-data.org.uk/data/gss_data/covid-19/ho-statistics-relating-to-covid-19-and-the-immigration-system-may-2020#dataset</a></td>\n<td class=val><a href=\"http://gss-data.org.uk/data/gss_data/covid-19/ho-statistics-relating-to-covid-19-and-the-immigration-system-may-2020/2020-01-01/total-air-arrivals\" target=\"_other\">http://gss-data.org.uk/data/gss_data/covid-19/ho-statistics-relating-to-covid-19-and-the-immigration-system-may-2020/2020-01-01/total-air-arrivals</a></td>\n<td class=val><a href=\"http://purl.org/linked-data/cube#measureType\" target=\"_other\">http://purl.org/linked-data/cube#measureType</a></td>\n<td class=val><a href=\"http://gss-data.org.uk/def/measure/count\" target=\"_other\">http://gss-data.org.uk/def/measure/count</a></td></tr><tr class=even><td class=val><a href=\"http://gss-data.org.uk/data/gss_data/covid-19/ho-statistics-relating-to-covid-19-and-the-immigration-system-may-2020#dataset\" target=\"_other\">http://gss-data.org.uk/data/gss_data/covid-19/ho-statistics-relating-to-covid-19-and-the-immigration-system-may-2020#dataset</a></td>\n<td class=val><a href=\"http://gss-data.org.uk/data/gss_data/covid-19/ho-statistics-relating-to-covid-19-and-the-immigration-system-may-2020/2020-01-01/total-air-arrivals\" target=\"_other\">http://gss-data.org.uk/data/gss_data/covid-19/ho-statistics-relating-to-covid-19-and-the-immigration-system-may-2020/2020-01-01/total-air-arrivals</a></td>\n<td class=val><a href=\"http://purl.org/linked-data/sdmx/2009/dimension#refPeriod\" target=\"_other\">http://purl.org/linked-data/sdmx/2009/dimension#refPeriod</a></td>\n<td class=val><a href=\"http://reference.data.gov.uk/id/day/2020-01-01\" target=\"_other\">http://reference.data.gov.uk/id/day/2020-01-01</a></td></tr><tr class=odd><td class=val><a href=\"http://gss-data.org.uk/data/gss_data/covid-19/ho-statistics-relating-to-covid-19-and-the-immigration-system-may-2020#dataset\" target=\"_other\">http://gss-data.org.uk/data/gss_data/covid-19/ho-statistics-relating-to-covid-19-and-the-immigration-system-may-2020#dataset</a></td>\n<td class=val><a href=\"http://gss-data.org.uk/data/gss_data/covid-19/ho-statistics-relating-to-covid-19-and-the-immigration-system-may-2020/2020-01-01/total-air-arrivals\" target=\"_other\">http://gss-data.org.uk/data/gss_data/covid-19/ho-statistics-relating-to-covid-19-and-the-immigration-system-may-2020/2020-01-01/total-air-arrivals</a></td>\n<td class=val><a href=\"http://gss-data.org.uk/def/measure/count\" target=\"_other\">http://gss-data.org.uk/def/measure/count</a></td>\n<td class=val>238100</td></tr><tr class=even><td class=val><a href=\"http://gss-data.org.uk/data/gss_data/covid-19/ho-statistics-relating-to-covid-19-and-the-immigration-system-may-2020#dataset\" target=\"_other\">http://gss-data.org.uk/data/gss_data/covid-19/ho-statistics-relating-to-covid-19-and-the-immigration-system-may-2020#dataset</a></td>\n<td class=val><a href=\"http://gss-data.org.uk/data/gss_data/covid-19/ho-statistics-relating-to-covid-19-and-the-immigration-system-may-2020/2020-01-01/total-air-arrivals\" target=\"_other\">http://gss-data.org.uk/data/gss_data/covid-19/ho-statistics-relating-to-covid-19-and-the-immigration-system-may-2020/2020-01-01/total-air-arrivals</a></td>\n<td class=val><a href=\"http://gss-data.org.uk/data/gss_data/covid-19/ho-statistics-relating-to-covid-19-and-the-immigration-system-may-2020#dimension/air-arrivals\" target=\"_other\">http://gss-data.org.uk/data/gss_data/covid-19/ho-statistics-relating-to-covid-19-and-the-immigration-system-may-2020#dimension/air-arrivals</a></td>\n<td class=val><a href=\"http://gss-data.org.uk/data/gss_data/covid-19/ho-statistics-relating-to-covid-19-and-the-immigration-system-may-2020#concept/air-arrivals/total-air-arrivals\" target=\"_other\">http://gss-data.org.uk/data/gss_data/covid-19/ho-statistics-relating-to-covid-19-and-the-immigration-system-may-2020#concept/air-arrivals/total-air-arrivals</a></td></tr><tr class=odd><td class=val><a href=\"http://gss-data.org.uk/data/gss_data/covid-19/ho-statistics-relating-to-covid-19-and-the-immigration-system-may-2020#dataset\" target=\"_other\">http://gss-data.org.uk/data/gss_data/covid-19/ho-statistics-relating-to-covid-19-and-the-immigration-system-may-2020#dataset</a></td>\n<td class=val><a href=\"http://gss-data.org.uk/data/gss_data/covid-19/ho-statistics-relating-to-covid-19-and-the-immigration-system-may-2020/2020-01-01/total-air-arrivals\" target=\"_other\">http://gss-data.org.uk/data/gss_data/covid-19/ho-statistics-relating-to-covid-19-and-the-immigration-system-may-2020/2020-01-01/total-air-arrivals</a></td>\n<td class=val><a href=\"http://purl.org/linked-data/sdmx/2009/attribute#unitMeasure\" target=\"_other\">http://purl.org/linked-data/sdmx/2009/attribute#unitMeasure</a></td>\n<td class=val><a href=\"http://gss-data.org.uk/def/concept/measurement-units/people\" target=\"_other\">http://gss-data.org.uk/def/concept/measurement-units/people</a></td></tr><tr class=even><td class=val><a href=\"http://gss-data.org.uk/data/gss_data/covid-19/ho-statistics-relating-to-covid-19-and-the-immigration-system-may-2020#dataset\" target=\"_other\">http://gss-data.org.uk/data/gss_data/covid-19/ho-statistics-relating-to-covid-19-and-the-immigration-system-may-2020#dataset</a></td>\n<td class=val><a href=\"http://gss-data.org.uk/data/gss_data/covid-19/ho-statistics-relating-to-covid-19-and-the-immigration-system-may-2020/2020-01-01/of-which-british-nationals\" target=\"_other\">http://gss-data.org.uk/data/gss_data/covid-19/ho-statistics-relating-to-covid-19-and-the-immigration-system-may-2020/2020-01-01/of-which-british-nationals</a></td>\n<td class=val><a href=\"http://www.w3.org/1999/02/22-rdf-syntax-ns#type\" target=\"_other\">http://www.w3.org/1999/02/22-rdf-syntax-ns#type</a></td>\n<td class=val><a href=\"http://purl.org/linked-data/cube#Observation\" target=\"_other\">http://purl.org/linked-data/cube#Observation</a></td></tr><tr class=odd><td class=val><a href=\"http://gss-data.org.uk/data/gss_data/covid-19/ho-statistics-relating-to-covid-19-and-the-immigration-system-may-2020#dataset\" target=\"_other\">http://gss-data.org.uk/data/gss_data/covid-19/ho-statistics-relating-to-covid-19-and-the-immigration-system-may-2020#dataset</a></td>\n<td class=val><a href=\"http://gss-data.org.uk/data/gss_data/covid-19/ho-statistics-relating-to-covid-19-and-the-immigration-system-may-2020/2020-01-01/of-which-british-nationals\" target=\"_other\">http://gss-data.org.uk/data/gss_data/covid-19/ho-statistics-relating-to-covid-19-and-the-immigration-system-may-2020/2020-01-01/of-which-british-nationals</a></td>\n<td class=val><a href=\"http://purl.org/linked-data/cube#dataSet\" target=\"_other\">http://purl.org/linked-data/cube#dataSet</a></td>\n<td class=val><a href=\"http://gss-data.org.uk/data/gss_data/covid-19/ho-statistics-relating-to-covid-19-and-the-immigration-system-may-2020#dataset\" target=\"_other\">http://gss-data.org.uk/data/gss_data/covid-19/ho-statistics-relating-to-covid-19-and-the-immigration-system-may-2020#dataset</a></td></tr><tr class=even><td class=val><a href=\"http://gss-data.org.uk/data/gss_data/covid-19/ho-statistics-relating-to-covid-19-and-the-immigration-system-may-2020#dataset\" target=\"_other\">http://gss-data.org.uk/data/gss_data/covid-19/ho-statistics-relating-to-covid-19-and-the-immigration-system-may-2020#dataset</a></td>\n<td class=val><a href=\"http://gss-data.org.uk/data/gss_data/covid-19/ho-statistics-relating-to-covid-19-and-the-immigration-system-may-2020/2020-01-01/of-which-british-nationals\" target=\"_other\">http://gss-data.org.uk/data/gss_data/covid-19/ho-statistics-relating-to-covid-19-and-the-immigration-system-may-2020/2020-01-01/of-which-british-nationals</a></td>\n<td class=val><a href=\"http://purl.org/linked-data/cube#measureType\" target=\"_other\">http://purl.org/linked-data/cube#measureType</a></td>\n<td class=val><a href=\"http://gss-data.org.uk/def/measure/count\" target=\"_other\">http://gss-data.org.uk/def/measure/count</a></td></tr></table><div class=\"tinfo\">Total: 10, Shown: 10</div></div>"
     },
     "metadata": {}
    }
   ],
   "source": [
    "PREFIX owl: <http://www.w3.org/2002/07/owl#>\n",
    "PREFIX void: <http://rdfs.org/ns/void#>\n",
    "PREFIX pmdkos: <http://publishmydata.com/def/pmdkos/>\n",
    "PREFIX dcterms: <http://purl.org/dc/terms/>\n",
    "PREFIX rdf: <http://www.w3.org/1999/02/22-rdf-syntax-ns#>\n",
    "PREFIX dcat: <http://www.w3.org/ns/dcat#>\n",
    "PREFIX pmdui: <http://publishmydata.com/def/pmdui/>\n",
    "PREFIX rdfs: <http://www.w3.org/2000/01/rdf-schema#>\n",
    "PREFIX markdown: <https://www.w3.org/ns/iana/media-types/text/markdown#>\n",
    "PREFIX qb: <http://purl.org/linked-data/cube#>\n",
    "PREFIX skos: <http://www.w3.org/2004/02/skos/core#>\n",
    "PREFIX xsd: <http://www.w3.org/2001/XMLSchema#>\n",
    "PREFIX immigration: <http://gss-data.org.uk/data/gss_data/covid-19/ho-statistics-relating-to-covid-19-and-the-immigration-system-may-2020#component/>\n",
    "\n",
    "SELECT *\n",
    "WHERE { ?s a qb:DataSet .\n",
    "        ?obs qb:dataSet ?s ;\n",
    "             ?p ?v .\n",
    "       \n",
    "      }\n",
    "LIMIT 10"
   ]
  },
  {
   "cell_type": "code",
   "execution_count": 10,
   "metadata": {},
   "outputs": [
    {
     "output_type": "display_data",
     "data": {
      "text/html": "<div class=\"krn-spql\"><table><tr class=hdr><th>s</th>\n<th>obs</th>\n<th>p</th>\n<th>v</th></tr><tr class=odd><td class=val><a href=\"http://gss-data.org.uk/data/gss_data/covid-19/ho-statistics-relating-to-covid-19-and-the-immigration-system-may-2020#dataset\" target=\"_other\">http://gss-data.org.uk/data/gss_data/covid-19/ho-statistics-relating-to-covid-19-and-the-immigration-system-may-2020#dataset</a></td>\n<td class=val><a href=\"http://gss-data.org.uk/data/gss_data/covid-19/ho-statistics-relating-to-covid-19-and-the-immigration-system-may-2020/2020-01-01/total-air-arrivals\" target=\"_other\">http://gss-data.org.uk/data/gss_data/covid-19/ho-statistics-relating-to-covid-19-and-the-immigration-system-may-2020/2020-01-01/total-air-arrivals</a></td>\n<td class=val><a href=\"http://purl.org/linked-data/sdmx/2009/dimension#refPeriod\" target=\"_other\">http://purl.org/linked-data/sdmx/2009/dimension#refPeriod</a></td>\n<td class=val><a href=\"http://reference.data.gov.uk/id/day/2020-01-01\" target=\"_other\">http://reference.data.gov.uk/id/day/2020-01-01</a></td></tr><tr class=even><td class=val><a href=\"http://gss-data.org.uk/data/gss_data/covid-19/ho-statistics-relating-to-covid-19-and-the-immigration-system-may-2020#dataset\" target=\"_other\">http://gss-data.org.uk/data/gss_data/covid-19/ho-statistics-relating-to-covid-19-and-the-immigration-system-may-2020#dataset</a></td>\n<td class=val><a href=\"http://gss-data.org.uk/data/gss_data/covid-19/ho-statistics-relating-to-covid-19-and-the-immigration-system-may-2020/2020-01-01/of-which-british-nationals\" target=\"_other\">http://gss-data.org.uk/data/gss_data/covid-19/ho-statistics-relating-to-covid-19-and-the-immigration-system-may-2020/2020-01-01/of-which-british-nationals</a></td>\n<td class=val><a href=\"http://purl.org/linked-data/sdmx/2009/dimension#refPeriod\" target=\"_other\">http://purl.org/linked-data/sdmx/2009/dimension#refPeriod</a></td>\n<td class=val><a href=\"http://reference.data.gov.uk/id/day/2020-01-01\" target=\"_other\">http://reference.data.gov.uk/id/day/2020-01-01</a></td></tr><tr class=odd><td class=val><a href=\"http://gss-data.org.uk/data/gss_data/covid-19/ho-statistics-relating-to-covid-19-and-the-immigration-system-may-2020#dataset\" target=\"_other\">http://gss-data.org.uk/data/gss_data/covid-19/ho-statistics-relating-to-covid-19-and-the-immigration-system-may-2020#dataset</a></td>\n<td class=val><a href=\"http://gss-data.org.uk/data/gss_data/covid-19/ho-statistics-relating-to-covid-19-and-the-immigration-system-may-2020/2019-01-01/total-air-arrivals\" target=\"_other\">http://gss-data.org.uk/data/gss_data/covid-19/ho-statistics-relating-to-covid-19-and-the-immigration-system-may-2020/2019-01-01/total-air-arrivals</a></td>\n<td class=val><a href=\"http://purl.org/linked-data/sdmx/2009/dimension#refPeriod\" target=\"_other\">http://purl.org/linked-data/sdmx/2009/dimension#refPeriod</a></td>\n<td class=val><a href=\"http://reference.data.gov.uk/id/day/2019-01-01\" target=\"_other\">http://reference.data.gov.uk/id/day/2019-01-01</a></td></tr><tr class=even><td class=val><a href=\"http://gss-data.org.uk/data/gss_data/covid-19/ho-statistics-relating-to-covid-19-and-the-immigration-system-may-2020#dataset\" target=\"_other\">http://gss-data.org.uk/data/gss_data/covid-19/ho-statistics-relating-to-covid-19-and-the-immigration-system-may-2020#dataset</a></td>\n<td class=val><a href=\"http://gss-data.org.uk/data/gss_data/covid-19/ho-statistics-relating-to-covid-19-and-the-immigration-system-may-2020/2019-01-01/of-which-british-nationals\" target=\"_other\">http://gss-data.org.uk/data/gss_data/covid-19/ho-statistics-relating-to-covid-19-and-the-immigration-system-may-2020/2019-01-01/of-which-british-nationals</a></td>\n<td class=val><a href=\"http://purl.org/linked-data/sdmx/2009/dimension#refPeriod\" target=\"_other\">http://purl.org/linked-data/sdmx/2009/dimension#refPeriod</a></td>\n<td class=val><a href=\"http://reference.data.gov.uk/id/day/2019-01-01\" target=\"_other\">http://reference.data.gov.uk/id/day/2019-01-01</a></td></tr><tr class=odd><td class=val><a href=\"http://gss-data.org.uk/data/gss_data/covid-19/ho-statistics-relating-to-covid-19-and-the-immigration-system-may-2020#dataset\" target=\"_other\">http://gss-data.org.uk/data/gss_data/covid-19/ho-statistics-relating-to-covid-19-and-the-immigration-system-may-2020#dataset</a></td>\n<td class=val><a href=\"http://gss-data.org.uk/data/gss_data/covid-19/ho-statistics-relating-to-covid-19-and-the-immigration-system-may-2020/2020-01-02/total-air-arrivals\" target=\"_other\">http://gss-data.org.uk/data/gss_data/covid-19/ho-statistics-relating-to-covid-19-and-the-immigration-system-may-2020/2020-01-02/total-air-arrivals</a></td>\n<td class=val><a href=\"http://purl.org/linked-data/sdmx/2009/dimension#refPeriod\" target=\"_other\">http://purl.org/linked-data/sdmx/2009/dimension#refPeriod</a></td>\n<td class=val><a href=\"http://reference.data.gov.uk/id/day/2020-01-02\" target=\"_other\">http://reference.data.gov.uk/id/day/2020-01-02</a></td></tr><tr class=even><td class=val><a href=\"http://gss-data.org.uk/data/gss_data/covid-19/ho-statistics-relating-to-covid-19-and-the-immigration-system-may-2020#dataset\" target=\"_other\">http://gss-data.org.uk/data/gss_data/covid-19/ho-statistics-relating-to-covid-19-and-the-immigration-system-may-2020#dataset</a></td>\n<td class=val><a href=\"http://gss-data.org.uk/data/gss_data/covid-19/ho-statistics-relating-to-covid-19-and-the-immigration-system-may-2020/2020-01-02/of-which-british-nationals\" target=\"_other\">http://gss-data.org.uk/data/gss_data/covid-19/ho-statistics-relating-to-covid-19-and-the-immigration-system-may-2020/2020-01-02/of-which-british-nationals</a></td>\n<td class=val><a href=\"http://purl.org/linked-data/sdmx/2009/dimension#refPeriod\" target=\"_other\">http://purl.org/linked-data/sdmx/2009/dimension#refPeriod</a></td>\n<td class=val><a href=\"http://reference.data.gov.uk/id/day/2020-01-02\" target=\"_other\">http://reference.data.gov.uk/id/day/2020-01-02</a></td></tr><tr class=odd><td class=val><a href=\"http://gss-data.org.uk/data/gss_data/covid-19/ho-statistics-relating-to-covid-19-and-the-immigration-system-may-2020#dataset\" target=\"_other\">http://gss-data.org.uk/data/gss_data/covid-19/ho-statistics-relating-to-covid-19-and-the-immigration-system-may-2020#dataset</a></td>\n<td class=val><a href=\"http://gss-data.org.uk/data/gss_data/covid-19/ho-statistics-relating-to-covid-19-and-the-immigration-system-may-2020/2019-01-02/total-air-arrivals\" target=\"_other\">http://gss-data.org.uk/data/gss_data/covid-19/ho-statistics-relating-to-covid-19-and-the-immigration-system-may-2020/2019-01-02/total-air-arrivals</a></td>\n<td class=val><a href=\"http://purl.org/linked-data/sdmx/2009/dimension#refPeriod\" target=\"_other\">http://purl.org/linked-data/sdmx/2009/dimension#refPeriod</a></td>\n<td class=val><a href=\"http://reference.data.gov.uk/id/day/2019-01-02\" target=\"_other\">http://reference.data.gov.uk/id/day/2019-01-02</a></td></tr><tr class=even><td class=val><a href=\"http://gss-data.org.uk/data/gss_data/covid-19/ho-statistics-relating-to-covid-19-and-the-immigration-system-may-2020#dataset\" target=\"_other\">http://gss-data.org.uk/data/gss_data/covid-19/ho-statistics-relating-to-covid-19-and-the-immigration-system-may-2020#dataset</a></td>\n<td class=val><a href=\"http://gss-data.org.uk/data/gss_data/covid-19/ho-statistics-relating-to-covid-19-and-the-immigration-system-may-2020/2019-01-02/of-which-british-nationals\" target=\"_other\">http://gss-data.org.uk/data/gss_data/covid-19/ho-statistics-relating-to-covid-19-and-the-immigration-system-may-2020/2019-01-02/of-which-british-nationals</a></td>\n<td class=val><a href=\"http://purl.org/linked-data/sdmx/2009/dimension#refPeriod\" target=\"_other\">http://purl.org/linked-data/sdmx/2009/dimension#refPeriod</a></td>\n<td class=val><a href=\"http://reference.data.gov.uk/id/day/2019-01-02\" target=\"_other\">http://reference.data.gov.uk/id/day/2019-01-02</a></td></tr><tr class=odd><td class=val><a href=\"http://gss-data.org.uk/data/gss_data/covid-19/ho-statistics-relating-to-covid-19-and-the-immigration-system-may-2020#dataset\" target=\"_other\">http://gss-data.org.uk/data/gss_data/covid-19/ho-statistics-relating-to-covid-19-and-the-immigration-system-may-2020#dataset</a></td>\n<td class=val><a href=\"http://gss-data.org.uk/data/gss_data/covid-19/ho-statistics-relating-to-covid-19-and-the-immigration-system-may-2020/2020-01-03/total-air-arrivals\" target=\"_other\">http://gss-data.org.uk/data/gss_data/covid-19/ho-statistics-relating-to-covid-19-and-the-immigration-system-may-2020/2020-01-03/total-air-arrivals</a></td>\n<td class=val><a href=\"http://purl.org/linked-data/sdmx/2009/dimension#refPeriod\" target=\"_other\">http://purl.org/linked-data/sdmx/2009/dimension#refPeriod</a></td>\n<td class=val><a href=\"http://reference.data.gov.uk/id/day/2020-01-03\" target=\"_other\">http://reference.data.gov.uk/id/day/2020-01-03</a></td></tr><tr class=even><td class=val><a href=\"http://gss-data.org.uk/data/gss_data/covid-19/ho-statistics-relating-to-covid-19-and-the-immigration-system-may-2020#dataset\" target=\"_other\">http://gss-data.org.uk/data/gss_data/covid-19/ho-statistics-relating-to-covid-19-and-the-immigration-system-may-2020#dataset</a></td>\n<td class=val><a href=\"http://gss-data.org.uk/data/gss_data/covid-19/ho-statistics-relating-to-covid-19-and-the-immigration-system-may-2020/2020-01-03/of-which-british-nationals\" target=\"_other\">http://gss-data.org.uk/data/gss_data/covid-19/ho-statistics-relating-to-covid-19-and-the-immigration-system-may-2020/2020-01-03/of-which-british-nationals</a></td>\n<td class=val><a href=\"http://purl.org/linked-data/sdmx/2009/dimension#refPeriod\" target=\"_other\">http://purl.org/linked-data/sdmx/2009/dimension#refPeriod</a></td>\n<td class=val><a href=\"http://reference.data.gov.uk/id/day/2020-01-03\" target=\"_other\">http://reference.data.gov.uk/id/day/2020-01-03</a></td></tr></table><div class=\"tinfo\">Total: 10, Shown: 10</div></div>"
     },
     "metadata": {}
    }
   ],
   "source": [
    "PREFIX owl: <http://www.w3.org/2002/07/owl#>\n",
    "PREFIX void: <http://rdfs.org/ns/void#>\n",
    "PREFIX pmdkos: <http://publishmydata.com/def/pmdkos/>\n",
    "PREFIX dcterms: <http://purl.org/dc/terms/>\n",
    "PREFIX rdf: <http://www.w3.org/1999/02/22-rdf-syntax-ns#>\n",
    "PREFIX dcat: <http://www.w3.org/ns/dcat#>\n",
    "PREFIX pmdui: <http://publishmydata.com/def/pmdui/>\n",
    "PREFIX rdfs: <http://www.w3.org/2000/01/rdf-schema#>\n",
    "PREFIX markdown: <https://www.w3.org/ns/iana/media-types/text/markdown#>\n",
    "PREFIX qb: <http://purl.org/linked-data/cube#>\n",
    "PREFIX skos: <http://www.w3.org/2004/02/skos/core#>\n",
    "PREFIX xsd: <http://www.w3.org/2001/XMLSchema#>\n",
    "PREFIX immigration: <http://gss-data.org.uk/data/gss_data/covid-19/ho-statistics-relating-to-covid-19-and-the-immigration-system-may-2020#component/>\n",
    "\n",
    "SELECT *\n",
    "WHERE { ?s a qb:DataSet .\n",
    "        ?obs qb:dataSet ?s ;\n",
    "             ?p ?v .\n",
    "                ?obs <http://purl.org/linked-data/sdmx/2009/dimension#refPeriod> ?v\n",
    "       \n",
    "      }\n",
    "LIMIT 10"
   ]
  },
  {
   "cell_type": "code",
   "execution_count": 11,
   "metadata": {},
   "outputs": [
    {
     "output_type": "display_data",
     "data": {
      "text/html": "<div class=\"krn-spql\"><table><tr class=hdr><th>s</th>\n<th>obs</th>\n<th>p</th>\n<th>v</th></tr><tr class=odd><td class=val><a href=\"http://gss-data.org.uk/data/gss_data/covid-19/ho-statistics-relating-to-covid-19-and-the-immigration-system-may-2020#dataset\" target=\"_other\">http://gss-data.org.uk/data/gss_data/covid-19/ho-statistics-relating-to-covid-19-and-the-immigration-system-may-2020#dataset</a></td>\n<td class=val><a href=\"http://gss-data.org.uk/data/gss_data/covid-19/ho-statistics-relating-to-covid-19-and-the-immigration-system-may-2020/2020-01-01/total-air-arrivals\" target=\"_other\">http://gss-data.org.uk/data/gss_data/covid-19/ho-statistics-relating-to-covid-19-and-the-immigration-system-may-2020/2020-01-01/total-air-arrivals</a></td>\n<td class=val><a href=\"http://purl.org/linked-data/sdmx/2009/dimension#refPeriod\" target=\"_other\">http://purl.org/linked-data/sdmx/2009/dimension#refPeriod</a></td>\n<td class=val><a href=\"http://reference.data.gov.uk/id/day/2020-01-01\" target=\"_other\">http://reference.data.gov.uk/id/day/2020-01-01</a></td></tr><tr class=even><td class=val><a href=\"http://gss-data.org.uk/data/gss_data/covid-19/ho-statistics-relating-to-covid-19-and-the-immigration-system-may-2020#dataset\" target=\"_other\">http://gss-data.org.uk/data/gss_data/covid-19/ho-statistics-relating-to-covid-19-and-the-immigration-system-may-2020#dataset</a></td>\n<td class=val><a href=\"http://gss-data.org.uk/data/gss_data/covid-19/ho-statistics-relating-to-covid-19-and-the-immigration-system-may-2020/2020-01-01/of-which-british-nationals\" target=\"_other\">http://gss-data.org.uk/data/gss_data/covid-19/ho-statistics-relating-to-covid-19-and-the-immigration-system-may-2020/2020-01-01/of-which-british-nationals</a></td>\n<td class=val><a href=\"http://purl.org/linked-data/sdmx/2009/dimension#refPeriod\" target=\"_other\">http://purl.org/linked-data/sdmx/2009/dimension#refPeriod</a></td>\n<td class=val><a href=\"http://reference.data.gov.uk/id/day/2020-01-01\" target=\"_other\">http://reference.data.gov.uk/id/day/2020-01-01</a></td></tr><tr class=odd><td class=val><a href=\"http://gss-data.org.uk/data/gss_data/covid-19/ho-statistics-relating-to-covid-19-and-the-immigration-system-may-2020#dataset\" target=\"_other\">http://gss-data.org.uk/data/gss_data/covid-19/ho-statistics-relating-to-covid-19-and-the-immigration-system-may-2020#dataset</a></td>\n<td class=val><a href=\"http://gss-data.org.uk/data/gss_data/covid-19/ho-statistics-relating-to-covid-19-and-the-immigration-system-may-2020/2019-01-01/total-air-arrivals\" target=\"_other\">http://gss-data.org.uk/data/gss_data/covid-19/ho-statistics-relating-to-covid-19-and-the-immigration-system-may-2020/2019-01-01/total-air-arrivals</a></td>\n<td class=val><a href=\"http://purl.org/linked-data/sdmx/2009/dimension#refPeriod\" target=\"_other\">http://purl.org/linked-data/sdmx/2009/dimension#refPeriod</a></td>\n<td class=val><a href=\"http://reference.data.gov.uk/id/day/2019-01-01\" target=\"_other\">http://reference.data.gov.uk/id/day/2019-01-01</a></td></tr><tr class=even><td class=val><a href=\"http://gss-data.org.uk/data/gss_data/covid-19/ho-statistics-relating-to-covid-19-and-the-immigration-system-may-2020#dataset\" target=\"_other\">http://gss-data.org.uk/data/gss_data/covid-19/ho-statistics-relating-to-covid-19-and-the-immigration-system-may-2020#dataset</a></td>\n<td class=val><a href=\"http://gss-data.org.uk/data/gss_data/covid-19/ho-statistics-relating-to-covid-19-and-the-immigration-system-may-2020/2019-01-01/of-which-british-nationals\" target=\"_other\">http://gss-data.org.uk/data/gss_data/covid-19/ho-statistics-relating-to-covid-19-and-the-immigration-system-may-2020/2019-01-01/of-which-british-nationals</a></td>\n<td class=val><a href=\"http://purl.org/linked-data/sdmx/2009/dimension#refPeriod\" target=\"_other\">http://purl.org/linked-data/sdmx/2009/dimension#refPeriod</a></td>\n<td class=val><a href=\"http://reference.data.gov.uk/id/day/2019-01-01\" target=\"_other\">http://reference.data.gov.uk/id/day/2019-01-01</a></td></tr><tr class=odd><td class=val><a href=\"http://gss-data.org.uk/data/gss_data/covid-19/ho-statistics-relating-to-covid-19-and-the-immigration-system-may-2020#dataset\" target=\"_other\">http://gss-data.org.uk/data/gss_data/covid-19/ho-statistics-relating-to-covid-19-and-the-immigration-system-may-2020#dataset</a></td>\n<td class=val><a href=\"http://gss-data.org.uk/data/gss_data/covid-19/ho-statistics-relating-to-covid-19-and-the-immigration-system-may-2020/2020-01-02/total-air-arrivals\" target=\"_other\">http://gss-data.org.uk/data/gss_data/covid-19/ho-statistics-relating-to-covid-19-and-the-immigration-system-may-2020/2020-01-02/total-air-arrivals</a></td>\n<td class=val><a href=\"http://purl.org/linked-data/sdmx/2009/dimension#refPeriod\" target=\"_other\">http://purl.org/linked-data/sdmx/2009/dimension#refPeriod</a></td>\n<td class=val><a href=\"http://reference.data.gov.uk/id/day/2020-01-02\" target=\"_other\">http://reference.data.gov.uk/id/day/2020-01-02</a></td></tr><tr class=even><td class=val><a href=\"http://gss-data.org.uk/data/gss_data/covid-19/ho-statistics-relating-to-covid-19-and-the-immigration-system-may-2020#dataset\" target=\"_other\">http://gss-data.org.uk/data/gss_data/covid-19/ho-statistics-relating-to-covid-19-and-the-immigration-system-may-2020#dataset</a></td>\n<td class=val><a href=\"http://gss-data.org.uk/data/gss_data/covid-19/ho-statistics-relating-to-covid-19-and-the-immigration-system-may-2020/2020-01-02/of-which-british-nationals\" target=\"_other\">http://gss-data.org.uk/data/gss_data/covid-19/ho-statistics-relating-to-covid-19-and-the-immigration-system-may-2020/2020-01-02/of-which-british-nationals</a></td>\n<td class=val><a href=\"http://purl.org/linked-data/sdmx/2009/dimension#refPeriod\" target=\"_other\">http://purl.org/linked-data/sdmx/2009/dimension#refPeriod</a></td>\n<td class=val><a href=\"http://reference.data.gov.uk/id/day/2020-01-02\" target=\"_other\">http://reference.data.gov.uk/id/day/2020-01-02</a></td></tr><tr class=odd><td class=val><a href=\"http://gss-data.org.uk/data/gss_data/covid-19/ho-statistics-relating-to-covid-19-and-the-immigration-system-may-2020#dataset\" target=\"_other\">http://gss-data.org.uk/data/gss_data/covid-19/ho-statistics-relating-to-covid-19-and-the-immigration-system-may-2020#dataset</a></td>\n<td class=val><a href=\"http://gss-data.org.uk/data/gss_data/covid-19/ho-statistics-relating-to-covid-19-and-the-immigration-system-may-2020/2019-01-02/total-air-arrivals\" target=\"_other\">http://gss-data.org.uk/data/gss_data/covid-19/ho-statistics-relating-to-covid-19-and-the-immigration-system-may-2020/2019-01-02/total-air-arrivals</a></td>\n<td class=val><a href=\"http://purl.org/linked-data/sdmx/2009/dimension#refPeriod\" target=\"_other\">http://purl.org/linked-data/sdmx/2009/dimension#refPeriod</a></td>\n<td class=val><a href=\"http://reference.data.gov.uk/id/day/2019-01-02\" target=\"_other\">http://reference.data.gov.uk/id/day/2019-01-02</a></td></tr><tr class=even><td class=val><a href=\"http://gss-data.org.uk/data/gss_data/covid-19/ho-statistics-relating-to-covid-19-and-the-immigration-system-may-2020#dataset\" target=\"_other\">http://gss-data.org.uk/data/gss_data/covid-19/ho-statistics-relating-to-covid-19-and-the-immigration-system-may-2020#dataset</a></td>\n<td class=val><a href=\"http://gss-data.org.uk/data/gss_data/covid-19/ho-statistics-relating-to-covid-19-and-the-immigration-system-may-2020/2019-01-02/of-which-british-nationals\" target=\"_other\">http://gss-data.org.uk/data/gss_data/covid-19/ho-statistics-relating-to-covid-19-and-the-immigration-system-may-2020/2019-01-02/of-which-british-nationals</a></td>\n<td class=val><a href=\"http://purl.org/linked-data/sdmx/2009/dimension#refPeriod\" target=\"_other\">http://purl.org/linked-data/sdmx/2009/dimension#refPeriod</a></td>\n<td class=val><a href=\"http://reference.data.gov.uk/id/day/2019-01-02\" target=\"_other\">http://reference.data.gov.uk/id/day/2019-01-02</a></td></tr><tr class=odd><td class=val><a href=\"http://gss-data.org.uk/data/gss_data/covid-19/ho-statistics-relating-to-covid-19-and-the-immigration-system-may-2020#dataset\" target=\"_other\">http://gss-data.org.uk/data/gss_data/covid-19/ho-statistics-relating-to-covid-19-and-the-immigration-system-may-2020#dataset</a></td>\n<td class=val><a href=\"http://gss-data.org.uk/data/gss_data/covid-19/ho-statistics-relating-to-covid-19-and-the-immigration-system-may-2020/2020-01-03/total-air-arrivals\" target=\"_other\">http://gss-data.org.uk/data/gss_data/covid-19/ho-statistics-relating-to-covid-19-and-the-immigration-system-may-2020/2020-01-03/total-air-arrivals</a></td>\n<td class=val><a href=\"http://purl.org/linked-data/sdmx/2009/dimension#refPeriod\" target=\"_other\">http://purl.org/linked-data/sdmx/2009/dimension#refPeriod</a></td>\n<td class=val><a href=\"http://reference.data.gov.uk/id/day/2020-01-03\" target=\"_other\">http://reference.data.gov.uk/id/day/2020-01-03</a></td></tr><tr class=even><td class=val><a href=\"http://gss-data.org.uk/data/gss_data/covid-19/ho-statistics-relating-to-covid-19-and-the-immigration-system-may-2020#dataset\" target=\"_other\">http://gss-data.org.uk/data/gss_data/covid-19/ho-statistics-relating-to-covid-19-and-the-immigration-system-may-2020#dataset</a></td>\n<td class=val><a href=\"http://gss-data.org.uk/data/gss_data/covid-19/ho-statistics-relating-to-covid-19-and-the-immigration-system-may-2020/2020-01-03/of-which-british-nationals\" target=\"_other\">http://gss-data.org.uk/data/gss_data/covid-19/ho-statistics-relating-to-covid-19-and-the-immigration-system-may-2020/2020-01-03/of-which-british-nationals</a></td>\n<td class=val><a href=\"http://purl.org/linked-data/sdmx/2009/dimension#refPeriod\" target=\"_other\">http://purl.org/linked-data/sdmx/2009/dimension#refPeriod</a></td>\n<td class=val><a href=\"http://reference.data.gov.uk/id/day/2020-01-03\" target=\"_other\">http://reference.data.gov.uk/id/day/2020-01-03</a></td></tr></table><div class=\"tinfo\">Total: 10, Shown: 10</div></div>"
     },
     "metadata": {}
    }
   ],
   "source": [
    "PREFIX owl: <http://www.w3.org/2002/07/owl#>\n",
    "PREFIX void: <http://rdfs.org/ns/void#>\n",
    "PREFIX pmdkos: <http://publishmydata.com/def/pmdkos/>\n",
    "PREFIX dcterms: <http://purl.org/dc/terms/>\n",
    "PREFIX rdf: <http://www.w3.org/1999/02/22-rdf-syntax-ns#>\n",
    "PREFIX dcat: <http://www.w3.org/ns/dcat#>\n",
    "PREFIX pmdui: <http://publishmydata.com/def/pmdui/>\n",
    "PREFIX rdfs: <http://www.w3.org/2000/01/rdf-schema#>\n",
    "PREFIX markdown: <https://www.w3.org/ns/iana/media-types/text/markdown#>\n",
    "PREFIX qb: <http://purl.org/linked-data/cube#>\n",
    "PREFIX skos: <http://www.w3.org/2004/02/skos/core#>\n",
    "PREFIX xsd: <http://www.w3.org/2001/XMLSchema#>\n",
    "PREFIX immigration: <http://gss-data.org.uk/data/gss_data/covid-19/ho-statistics-relating-to-covid-19-and-the-immigration-system-may-2020#component/>\n",
    "\n",
    "SELECT *\n",
    "WHERE { ?s a qb:DataSet .\n",
    "        ?obs qb:dataSet ?s ;\n",
    "             ?p ?v .\n",
    "                ?obs <http://purl.org/linked-data/sdmx/2009/dimension#refPeriod> ?v\n",
    "        FILTER ( ?s = <http://gss-data.org.uk/data/gss_data/covid-19/ho-statistics-relating-to-covid-19-and-the-immigration-system-may-2020#dataset> )\n",
    "      }\n",
    "LIMIT 10"
   ]
  },
  {
   "cell_type": "code",
   "execution_count": 12,
   "metadata": {},
   "outputs": [
    {
     "output_type": "display_data",
     "data": {
      "text/html": "<div class=\"krn-spql\"><table><tr class=hdr><th>s</th>\n<th>maxPeriod</th></tr><tr class=odd><td class=val><a href=\"http://gss-data.org.uk/data/gss_data/covid-19/ho-statistics-relating-to-covid-19-and-the-immigration-system-may-2020#dataset\" target=\"_other\">http://gss-data.org.uk/data/gss_data/covid-19/ho-statistics-relating-to-covid-19-and-the-immigration-system-may-2020#dataset</a></td>\n<td class=val><a href=\"http://reference.data.gov.uk/id/day/2020-04-30\" target=\"_other\">http://reference.data.gov.uk/id/day/2020-04-30</a></td></tr></table><div class=\"tinfo\">Total: 1, Shown: 1</div></div>"
     },
     "metadata": {}
    }
   ],
   "source": [
    "PREFIX owl: <http://www.w3.org/2002/07/owl#>\n",
    "PREFIX void: <http://rdfs.org/ns/void#>\n",
    "PREFIX pmdkos: <http://publishmydata.com/def/pmdkos/>\n",
    "PREFIX dcterms: <http://purl.org/dc/terms/>\n",
    "PREFIX rdf: <http://www.w3.org/1999/02/22-rdf-syntax-ns#>\n",
    "PREFIX dcat: <http://www.w3.org/ns/dcat#>\n",
    "PREFIX pmdui: <http://publishmydata.com/def/pmdui/>\n",
    "PREFIX rdfs: <http://www.w3.org/2000/01/rdf-schema#>\n",
    "PREFIX markdown: <https://www.w3.org/ns/iana/media-types/text/markdown#>\n",
    "PREFIX qb: <http://purl.org/linked-data/cube#>\n",
    "PREFIX skos: <http://www.w3.org/2004/02/skos/core#>\n",
    "PREFIX xsd: <http://www.w3.org/2001/XMLSchema#>\n",
    "PREFIX immigration: <http://gss-data.org.uk/data/gss_data/covid-19/ho-statistics-relating-to-covid-19-and-the-immigration-system-may-2020#component/>\n",
    "\n",
    "SELECT ?s (MAX (?v) as ?maxPeriod)\n",
    "WHERE { ?s a qb:DataSet .\n",
    "        ?obs qb:dataSet ?s ;\n",
    "             ?p ?v .\n",
    "                ?obs <http://purl.org/linked-data/sdmx/2009/dimension#refPeriod> ?v\n",
    "        FILTER ( ?s = <http://gss-data.org.uk/data/gss_data/covid-19/ho-statistics-relating-to-covid-19-and-the-immigration-system-may-2020#dataset> )\n",
    "        \n",
    "      }\n",
    "GROUP BY ?s\n",
    "LIMIT 10"
   ]
  },
  {
   "cell_type": "code",
   "execution_count": 13,
   "metadata": {},
   "outputs": [
    {
     "output_type": "display_data",
     "data": {
      "text/html": "<div class=\"krn-spql\"><table><tr class=hdr><th>s</th>\n<th>minPeriod</th>\n<th>maxPeriod</th></tr><tr class=odd><td class=val><a href=\"http://gss-data.org.uk/data/gss_data/covid-19/ho-statistics-relating-to-covid-19-and-the-immigration-system-may-2020#dataset\" target=\"_other\">http://gss-data.org.uk/data/gss_data/covid-19/ho-statistics-relating-to-covid-19-and-the-immigration-system-may-2020#dataset</a></td>\n<td class=val><a href=\"http://reference.data.gov.uk/id/day/2019-01-01\" target=\"_other\">http://reference.data.gov.uk/id/day/2019-01-01</a></td>\n<td class=val><a href=\"http://reference.data.gov.uk/id/day/2020-04-30\" target=\"_other\">http://reference.data.gov.uk/id/day/2020-04-30</a></td></tr><tr class=even><td class=val><a href=\"http://gss-data.org.uk/data/gss_data/covid-19/nrs-deaths-involving-coronavirus-covid-19-in-scotland#dataset\" target=\"_other\">http://gss-data.org.uk/data/gss_data/covid-19/nrs-deaths-involving-coronavirus-covid-19-in-scotland#dataset</a></td>\n<td class=val><a href=\"http://reference.data.gov.uk/id/gregorian-interval/2019-12-30T00:00:00/P175D\" target=\"_other\">http://reference.data.gov.uk/id/gregorian-interval/2019-12-30T00:00:00/P175D</a></td>\n<td class=val><a href=\"http://reference.data.gov.uk/id/gregorian-interval/2020-06-22T00:00:00/P1D\" target=\"_other\">http://reference.data.gov.uk/id/gregorian-interval/2020-06-22T00:00:00/P1D</a></td></tr><tr class=odd><td class=val><a href=\"http://gss-data.org.uk/data/gss_data/covid-19/ons-number-of-deaths-in-care-homes-notified-to-the-care-quality-commission-england#dataset\" target=\"_other\">http://gss-data.org.uk/data/gss_data/covid-19/ons-number-of-deaths-in-care-homes-notified-to-the-care-quality-commission-england#dataset</a></td>\n<td class=val><a href=\"http://reference.data.gov.uk/id/gregorian-interval/2020-04-10T00:00:00/P189D\" target=\"_other\">http://reference.data.gov.uk/id/gregorian-interval/2020-04-10T00:00:00/P189D</a></td>\n<td class=val><a href=\"http://reference.data.gov.uk/id/gregorian-interval/2020-10-16T00:00:00/P1D\" target=\"_other\">http://reference.data.gov.uk/id/gregorian-interval/2020-10-16T00:00:00/P1D</a></td></tr><tr class=even><td class=val><a href=\"http://gss-data.org.uk/data/gss_data/covid-19/ons-deaths-involving-covid-19-in-the-care-sector-england-and-wales-deaths-occurring-up-to-1-may-2020-and-registered-up-to-9-may-2020-provisional#dataset\" target=\"_other\">http://gss-data.org.uk/data/gss_data/covid-19/ons-deaths-involving-covid-19-in-the-care-sector-england-and-wales-deaths-occurring-up-to-1-may-2020-and-registered-up-to-9-may-2020-provisional#dataset</a></td>\n<td class=val><a href=\"http://reference.data.gov.uk/id/2020-04-24T00:00:00\" target=\"_other\">http://reference.data.gov.uk/id/2020-04-24T00:00:00</a></td>\n<td class=val><a href=\"http://reference.data.gov.uk/id/gregorian-interval/2020-06-06T00:00:00/P7D\" target=\"_other\">http://reference.data.gov.uk/id/gregorian-interval/2020-06-06T00:00:00/P7D</a></td></tr><tr class=odd><td class=val><a href=\"http://gss-data.org.uk/data/gss_data/covid-19/ons-online-price-changes-for-high-demand-products#dataset\" target=\"_other\">http://gss-data.org.uk/data/gss_data/covid-19/ons-online-price-changes-for-high-demand-products#dataset</a></td>\n<td class=val><a href=\"http://reference.data.gov.uk/id/gregorian-interval/2020-03-16T00:00:00/P7D\" target=\"_other\">http://reference.data.gov.uk/id/gregorian-interval/2020-03-16T00:00:00/P7D</a></td>\n<td class=val><a href=\"http://reference.data.gov.uk/id/gregorian-interval/2020-08-10T00:00:00/P7D\" target=\"_other\">http://reference.data.gov.uk/id/gregorian-interval/2020-08-10T00:00:00/P7D</a></td></tr><tr class=even><td class=val><a href=\"http://gss-data.org.uk/data/gss_data/covid-19/phe-covid-19-number-of-outbreaks-in-care-homes-management-information#dataset\" target=\"_other\">http://gss-data.org.uk/data/gss_data/covid-19/phe-covid-19-number-of-outbreaks-in-care-homes-management-information#dataset</a></td>\n<td class=val><a href=\"http://reference.data.gov.uk/id/gregorian-interval/2020-03-09T00:00:00/P126D\" target=\"_other\">http://reference.data.gov.uk/id/gregorian-interval/2020-03-09T00:00:00/P126D</a></td>\n<td class=val><a href=\"http://reference.data.gov.uk/id/gregorian-interval/2020-07-13T00:00:00/P7D\" target=\"_other\">http://reference.data.gov.uk/id/gregorian-interval/2020-07-13T00:00:00/P7D</a></td></tr><tr class=odd><td class=val><a href=\"http://gss-data.org.uk/data/gss_data/covid-19/sg-coronavirus-covid-19-additional-data-about-adult-care-homes-in-scotland#dataset\" target=\"_other\">http://gss-data.org.uk/data/gss_data/covid-19/sg-coronavirus-covid-19-additional-data-about-adult-care-homes-in-scotland#dataset</a></td>\n<td class=val><a href=\"http://reference.data.gov.uk/id/gregorian-interval/2020-06-15T00:00:00/P7D\" target=\"_other\">http://reference.data.gov.uk/id/gregorian-interval/2020-06-15T00:00:00/P7D</a></td>\n<td class=val><a href=\"http://reference.data.gov.uk/id/gregorian-interval/2020-09-18T00:00:00/P7D\" target=\"_other\">http://reference.data.gov.uk/id/gregorian-interval/2020-09-18T00:00:00/P7D</a></td></tr><tr class=even><td class=val><a href=\"http://gss-data.org.uk/data/gss_data/covid-19/wg-survey-of-public-views-on-the-coronavirus-covid-19#dataset\" target=\"_other\">http://gss-data.org.uk/data/gss_data/covid-19/wg-survey-of-public-views-on-the-coronavirus-covid-19#dataset</a></td>\n<td class=val><a href=\"http://reference.data.gov.uk/id/gregorian-interval/2020-03-19T00:00:00/P2D\" target=\"_other\">http://reference.data.gov.uk/id/gregorian-interval/2020-03-19T00:00:00/P2D</a></td>\n<td class=val><a href=\"http://reference.data.gov.uk/id/gregorian-interval/2020-11-06T00:00:00/P3D\" target=\"_other\">http://reference.data.gov.uk/id/gregorian-interval/2020-11-06T00:00:00/P3D</a></td></tr><tr class=odd><td class=val><a href=\"http://gss-data.org.uk/data/gss_data/covid-19/phs-weekly-covid-19-statistical-data-in-scotland#dataset\" target=\"_other\">http://gss-data.org.uk/data/gss_data/covid-19/phs-weekly-covid-19-statistical-data-in-scotland#dataset</a></td>\n<td class=val><a href=\"http://reference.data.gov.uk/id/day/2020-02-28\" target=\"_other\">http://reference.data.gov.uk/id/day/2020-02-28</a></td>\n<td class=val><a href=\"http://reference.data.gov.uk/id/day/2020-09-06\" target=\"_other\">http://reference.data.gov.uk/id/day/2020-09-06</a></td></tr><tr class=even><td class=val><a href=\"http://gss-data.org.uk/data/gss_data/covid-19/mmo-ad-hoc-statistical-release-uk-sea-fisheries-statistics#dataset\" target=\"_other\">http://gss-data.org.uk/data/gss_data/covid-19/mmo-ad-hoc-statistical-release-uk-sea-fisheries-statistics#dataset</a></td>\n<td class=val><a href=\"http://reference.data.gov.uk/id/month/2019-11\" target=\"_other\">http://reference.data.gov.uk/id/month/2019-11</a></td>\n<td class=val><a href=\"http://reference.data.gov.uk/id/month/2020-11\" target=\"_other\">http://reference.data.gov.uk/id/month/2020-11</a></td></tr></table><div class=\"tinfo\">Total: 10, Shown: 10</div></div>"
     },
     "metadata": {}
    }
   ],
   "source": [
    "PREFIX owl: <http://www.w3.org/2002/07/owl#>\n",
    "PREFIX void: <http://rdfs.org/ns/void#>\n",
    "PREFIX pmdkos: <http://publishmydata.com/def/pmdkos/>\n",
    "PREFIX dcterms: <http://purl.org/dc/terms/>\n",
    "PREFIX rdf: <http://www.w3.org/1999/02/22-rdf-syntax-ns#>\n",
    "PREFIX dcat: <http://www.w3.org/ns/dcat#>\n",
    "PREFIX pmdui: <http://publishmydata.com/def/pmdui/>\n",
    "PREFIX rdfs: <http://www.w3.org/2000/01/rdf-schema#>\n",
    "PREFIX markdown: <https://www.w3.org/ns/iana/media-types/text/markdown#>\n",
    "PREFIX qb: <http://purl.org/linked-data/cube#>\n",
    "PREFIX skos: <http://www.w3.org/2004/02/skos/core#>\n",
    "PREFIX xsd: <http://www.w3.org/2001/XMLSchema#>\n",
    "PREFIX immigration: <http://gss-data.org.uk/data/gss_data/covid-19/ho-statistics-relating-to-covid-19-and-the-immigration-system-may-2020#component/>\n",
    "\n",
    "SELECT ?s (MIN (?v) as ?minPeriod) (MAX (?v) as ?maxPeriod)\n",
    "WHERE { ?s a qb:DataSet .\n",
    "        ?obs qb:dataSet ?s ;\n",
    "             ?p ?v .\n",
    "                ?obs <http://purl.org/linked-data/sdmx/2009/dimension#refPeriod> ?v\n",
    "        \n",
    "      }\n",
    "GROUP BY ?s\n",
    "LIMIT 10"
   ]
  },
  {
   "cell_type": "code",
   "execution_count": 14,
   "metadata": {},
   "outputs": [
    {
     "output_type": "display_data",
     "data": {
      "text/html": "<div class=\"krn-spql\"><table><tr class=hdr><th>s</th>\n<th>minPeriod</th>\n<th>maxPeriod</th></tr><tr class=odd><td class=val><a href=\"http://gss-data.org.uk/data/gss_data/covid-19/phs-weekly-covid-19-statistical-data-in-scotland#dataset\" target=\"_other\">http://gss-data.org.uk/data/gss_data/covid-19/phs-weekly-covid-19-statistical-data-in-scotland#dataset</a></td>\n<td class=val><a href=\"http://reference.data.gov.uk/id/day/2020-02-28\" target=\"_other\">http://reference.data.gov.uk/id/day/2020-02-28</a></td>\n<td class=val><a href=\"http://reference.data.gov.uk/id/day/2020-09-06\" target=\"_other\">http://reference.data.gov.uk/id/day/2020-09-06</a></td></tr></table><div class=\"tinfo\">Total: 1, Shown: 1</div></div>"
     },
     "metadata": {}
    }
   ],
   "source": [
    "PREFIX qb: <http://purl.org/linked-data/cube#>\n",
    "PREFIX dim: <http://purl.org/linked-data/sdmx/2009/dimension#>\n",
    "\n",
    "SELECT ?s (MIN (?v) as ?minPeriod) (MAX (?v) as ?maxPeriod)\n",
    "WHERE { ?s a qb:DataSet .\n",
    "        ?obs qb:dataSet ?s ;\n",
    "             ?p ?v .\n",
    "                ?obs dim:refPeriod ?v\n",
    "        FILTER (?s = <http://gss-data.org.uk/data/gss_data/covid-19/phs-weekly-covid-19-statistical-data-in-scotland#dataset>)\n",
    "      }\n",
    "GROUP BY ?s\n",
    "LIMIT 10"
   ]
  },
  {
   "cell_type": "code",
   "execution_count": 15,
   "metadata": {},
   "outputs": [
    {
     "output_type": "display_data",
     "data": {
      "text/html": "<div class=\"krn-spql\"><table><tr class=hdr><th>v</th></tr><tr class=odd><td class=val><a href=\"http://reference.data.gov.uk/id/day/2020-02-28\" target=\"_other\">http://reference.data.gov.uk/id/day/2020-02-28</a></td></tr><tr class=even><td class=val><a href=\"http://reference.data.gov.uk/id/day/2020-02-29\" target=\"_other\">http://reference.data.gov.uk/id/day/2020-02-29</a></td></tr><tr class=odd><td class=val><a href=\"http://reference.data.gov.uk/id/day/2020-03-01\" target=\"_other\">http://reference.data.gov.uk/id/day/2020-03-01</a></td></tr><tr class=even><td class=val><a href=\"http://reference.data.gov.uk/id/day/2020-03-02\" target=\"_other\">http://reference.data.gov.uk/id/day/2020-03-02</a></td></tr><tr class=odd><td class=val><a href=\"http://reference.data.gov.uk/id/day/2020-03-03\" target=\"_other\">http://reference.data.gov.uk/id/day/2020-03-03</a></td></tr><tr class=even><td class=val><a href=\"http://reference.data.gov.uk/id/day/2020-03-04\" target=\"_other\">http://reference.data.gov.uk/id/day/2020-03-04</a></td></tr><tr class=odd><td class=val><a href=\"http://reference.data.gov.uk/id/day/2020-03-05\" target=\"_other\">http://reference.data.gov.uk/id/day/2020-03-05</a></td></tr><tr class=even><td class=val><a href=\"http://reference.data.gov.uk/id/day/2020-03-06\" target=\"_other\">http://reference.data.gov.uk/id/day/2020-03-06</a></td></tr><tr class=odd><td class=val><a href=\"http://reference.data.gov.uk/id/day/2020-03-07\" target=\"_other\">http://reference.data.gov.uk/id/day/2020-03-07</a></td></tr><tr class=even><td class=val><a href=\"http://reference.data.gov.uk/id/day/2020-03-08\" target=\"_other\">http://reference.data.gov.uk/id/day/2020-03-08</a></td></tr></table><div class=\"tinfo\">Total: 10, Shown: 10</div></div>"
     },
     "metadata": {}
    }
   ],
   "source": [
    "PREFIX qb: <http://purl.org/linked-data/cube#>\n",
    "PREFIX dim: <http://purl.org/linked-data/sdmx/2009/dimension#>\n",
    "\n",
    "SELECT DISTINCT ?v\n",
    "WHERE { ?s a qb:DataSet .\n",
    "        ?obs qb:dataSet ?s ;\n",
    "             ?p ?v .\n",
    "                ?obs dim:refPeriod ?v\n",
    "        FILTER (?s = <http://gss-data.org.uk/data/gss_data/covid-19/phs-weekly-covid-19-statistical-data-in-scotland#dataset>)\n",
    "      }\n",
    "LIMIT 10"
   ]
  },
  {
   "cell_type": "code",
   "execution_count": 16,
   "metadata": {},
   "outputs": [
    {
     "output_type": "display_data",
     "data": {
      "text/html": "<div class=\"krn-spql\"><table><tr class=hdr><th>v</th></tr><tr class=odd><td class=val><a href=\"http://reference.data.gov.uk/id/day/2020-02-28\" target=\"_other\">http://reference.data.gov.uk/id/day/2020-02-28</a></td></tr><tr class=even><td class=val><a href=\"http://reference.data.gov.uk/id/day/2020-02-29\" target=\"_other\">http://reference.data.gov.uk/id/day/2020-02-29</a></td></tr><tr class=odd><td class=val><a href=\"http://reference.data.gov.uk/id/day/2020-03-01\" target=\"_other\">http://reference.data.gov.uk/id/day/2020-03-01</a></td></tr><tr class=even><td class=val><a href=\"http://reference.data.gov.uk/id/day/2020-03-02\" target=\"_other\">http://reference.data.gov.uk/id/day/2020-03-02</a></td></tr><tr class=odd><td class=val><a href=\"http://reference.data.gov.uk/id/day/2020-03-03\" target=\"_other\">http://reference.data.gov.uk/id/day/2020-03-03</a></td></tr><tr class=even><td class=val><a href=\"http://reference.data.gov.uk/id/day/2020-03-04\" target=\"_other\">http://reference.data.gov.uk/id/day/2020-03-04</a></td></tr><tr class=odd><td class=val><a href=\"http://reference.data.gov.uk/id/day/2020-03-05\" target=\"_other\">http://reference.data.gov.uk/id/day/2020-03-05</a></td></tr><tr class=even><td class=val><a href=\"http://reference.data.gov.uk/id/day/2020-03-06\" target=\"_other\">http://reference.data.gov.uk/id/day/2020-03-06</a></td></tr><tr class=odd><td class=val><a href=\"http://reference.data.gov.uk/id/day/2020-03-07\" target=\"_other\">http://reference.data.gov.uk/id/day/2020-03-07</a></td></tr><tr class=even><td class=val><a href=\"http://reference.data.gov.uk/id/day/2020-03-08\" target=\"_other\">http://reference.data.gov.uk/id/day/2020-03-08</a></td></tr><tr class=odd><td class=val><a href=\"http://reference.data.gov.uk/id/day/2020-03-09\" target=\"_other\">http://reference.data.gov.uk/id/day/2020-03-09</a></td></tr><tr class=even><td class=val><a href=\"http://reference.data.gov.uk/id/day/2020-03-10\" target=\"_other\">http://reference.data.gov.uk/id/day/2020-03-10</a></td></tr><tr class=odd><td class=val><a href=\"http://reference.data.gov.uk/id/day/2020-03-11\" target=\"_other\">http://reference.data.gov.uk/id/day/2020-03-11</a></td></tr><tr class=even><td class=val><a href=\"http://reference.data.gov.uk/id/day/2020-03-12\" target=\"_other\">http://reference.data.gov.uk/id/day/2020-03-12</a></td></tr><tr class=odd><td class=val><a href=\"http://reference.data.gov.uk/id/day/2020-03-13\" target=\"_other\">http://reference.data.gov.uk/id/day/2020-03-13</a></td></tr><tr class=even><td class=val><a href=\"http://reference.data.gov.uk/id/day/2020-03-14\" target=\"_other\">http://reference.data.gov.uk/id/day/2020-03-14</a></td></tr><tr class=odd><td class=val><a href=\"http://reference.data.gov.uk/id/day/2020-03-15\" target=\"_other\">http://reference.data.gov.uk/id/day/2020-03-15</a></td></tr><tr class=even><td class=val><a href=\"http://reference.data.gov.uk/id/day/2020-03-16\" target=\"_other\">http://reference.data.gov.uk/id/day/2020-03-16</a></td></tr><tr class=odd><td class=val><a href=\"http://reference.data.gov.uk/id/day/2020-03-17\" target=\"_other\">http://reference.data.gov.uk/id/day/2020-03-17</a></td></tr><tr class=even><td class=val><a href=\"http://reference.data.gov.uk/id/day/2020-03-18\" target=\"_other\">http://reference.data.gov.uk/id/day/2020-03-18</a></td></tr></table><div class=\"tinfo\">Total: 192, Shown: 20</div></div>"
     },
     "metadata": {}
    }
   ],
   "source": [
    "PREFIX qb: <http://purl.org/linked-data/cube#> PREFIX dim: <http://purl.org/linked-data/sdmx/2009/dimension#> SELECT DISTINCT ?v WHERE { ?s a qb:DataSet . ?obs qb:dataSet ?s ; ?p ?v . ?obs dim:refPeriod ?v . FILTER (?s = <http://gss-data.org.uk/data/gss_data/covid-19/phs-weekly-covid-19-statistical-data-in-scotland#dataset>) }"
   ]
  },
  {
   "cell_type": "code",
   "execution_count": null,
   "metadata": {},
   "outputs": [],
   "source": [
    "PREFIX qb: <http://purl.org/linked-data/cube#>\n",
    "PREFIX dim: <http://purl.org/linked-data/sdmx/2009/dimension#>\n",
    "\n",
    "SELECT DISTINCT ?v\n",
    "WHERE { \n",
    "  ?obs qb:dataSet <http://gss-data.org.uk/data/gss_data/covid-19/phs-weekly-covid-19-statistical-data-in-scotland#dataset>;\n",
    "  dim:refPeriod ?v .\n",
    "}"
   ]
  }
 ]
}